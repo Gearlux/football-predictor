{
 "cells": [
  {
   "cell_type": "code",
   "execution_count": 1,
   "metadata": {},
   "outputs": [],
   "source": [
    "# https://towardsdatascience.com/hyperparameter-optimization-with-keras-b82e6364ca53\n",
    "# https://github.com/keras-team/keras/issues/4278\n",
    "# https://towardsdatascience.com/keras-hyperparameter-tuning-in-google-colab-using-hyperas-624fa4bbf673"
   ]
  },
  {
   "cell_type": "markdown",
   "metadata": {},
   "source": [
    "# Hyperparameter optimization with talos\n",
    "\n",
    "This notebook contains a bunch of experiments to optimize our model with a hyperparameter search algorithm.\n",
    "\n",
    "## Import libraries and data"
   ]
  },
  {
   "cell_type": "code",
   "execution_count": 2,
   "metadata": {},
   "outputs": [
    {
     "name": "stderr",
     "output_type": "stream",
     "text": [
      "Using TensorFlow backend.\n"
     ]
    }
   ],
   "source": [
    "import pandas as pd\n",
    "import ipynb.fs.defs.common as common"
   ]
  },
  {
   "cell_type": "code",
   "execution_count": 3,
   "metadata": {},
   "outputs": [],
   "source": [
    "df = pd.read_csv('data/E0_processed.csv')\n",
    "df = pd.read_csv('all_processed.csv')\n",
    "df = df.set_index('date')\n",
    "df.index = pd.to_datetime(df.index)"
   ]
  },
  {
   "cell_type": "markdown",
   "metadata": {},
   "source": [
    "It's my experience that leagues have their own characteristic set of data. Allthough we optimize across all leagues, the hyperas notebook will show that it might be better to only use data from one league."
   ]
  },
  {
   "cell_type": "code",
   "execution_count": 4,
   "metadata": {},
   "outputs": [],
   "source": [
    "train = df[:'2017']\n",
    "val = df['2018':]"
   ]
  },
  {
   "cell_type": "code",
   "execution_count": 5,
   "metadata": {},
   "outputs": [],
   "source": [
    "x_train, y_train = common.get_feables(train, normalize=True)\n",
    "x_val, y_val = common.get_feables(val, normalize=True)"
   ]
  },
  {
   "cell_type": "markdown",
   "metadata": {},
   "source": [
    "# Model definition\n",
    "\n",
    "Here's the model definition that was used for custom metrics and custom loss functions.\n",
    "This model is adapted for use with talos.\n",
    "\n",
    "You can see that some parameters are now defined within the `params` parameter."
   ]
  },
  {
   "cell_type": "code",
   "execution_count": 6,
   "metadata": {},
   "outputs": [],
   "source": [
    "from keras.models import Sequential\n",
    "from keras.layers import Dense, Dropout\n",
    "from keras import regularizers\n",
    "from keras.layers import BatchNormalization\n",
    "\n",
    "from keras_tqdm import TQDMNotebookCallback\n",
    "\n",
    "from IPython.display import clear_output\n",
    "\n",
    "from talos.model.layers import hidden_layers\n",
    "from talos.model.normalizers import lr_normalizer\n",
    "from talos.metrics.keras_metrics import fmeasure_acc\n",
    "\n",
    "from talos import live\n",
    "\n",
    "def bet_model(x_train, y_train, x_val, y_val, params):\n",
    "\n",
    "    # next we can build the model exactly like we would normally do it\n",
    "    model = Sequential()\n",
    "    model.add(Dense(params['first_neuron'], input_dim=x_train.shape[1],\n",
    "                    kernel_regularizer=regularizers.l1(0.001)))\n",
    "    \n",
    "    normalize = params['normalize']\n",
    "\n",
    "    if normalize:\n",
    "        model.add(BatchNormalization())\n",
    "\n",
    "    nr_hidden_layers = params['nr_hidden_layers']\n",
    "\n",
    "    for i in range(nr_hidden_layers):\n",
    "        model.add(Dense(params['hidden_layers'],\n",
    "                        kernel_regularizer=regularizers.l1(0.001)))\n",
    "        if normalize:\n",
    "            model.add(BatchNormalization())\n",
    "\n",
    "    model.add(Dense(3, \n",
    "                    kernel_regularizer=regularizers.l1(0.001),\n",
    "                    activation = 'softmax'\n",
    "                   ))\n",
    "       \n",
    "    model.compile(loss='categorical_crossentropy', optimizer=params['optimizer'],\n",
    "                 metrics=['acc'])\n",
    "\n",
    "    history = model.fit(x_train, y_train.clip(0,1),\n",
    "                          batch_size=params['batch_size'],\n",
    "                          epochs=params['epochs'],\n",
    "                          verbose=0,\n",
    "                          validation_data=(x_val, y_val.clip(0,1)),\n",
    "                          callbacks=[TQDMNotebookCallback(show_inner=False)]\n",
    "                         )\n",
    "       \n",
    "    clear_output()    \n",
    "    \n",
    "    # finally we have to make sure that history object and model are returned\n",
    "    return history, model"
   ]
  },
  {
   "cell_type": "markdown",
   "metadata": {},
   "source": [
    "Next, we need to set up our parameter space. For the moment, I will only define choices.\n",
    "\n",
    "The first neuron will be 10, 15 or 20. We will try to perform batch normalization, and so one ..."
   ]
  },
  {
   "cell_type": "code",
   "execution_count": 7,
   "metadata": {},
   "outputs": [],
   "source": [
    "# then we can go ahead and set the parameter space\n",
    "p = {\n",
    "    'first_neuron' : [10, 15, 20],\n",
    "    'normalize': [False, True],\n",
    "    'nr_hidden_layers' : [0, 1, 2],\n",
    "    'hidden_layers': [10, 15, 20],\n",
    "    'optimizer': ['rmsprop', 'adam', 'sgd'],\n",
    "    'batch_size': [64, 256, 512],\n",
    "    'epochs' : [50, 100, 200]\n",
    "    }\n"
   ]
  },
  {
   "cell_type": "markdown",
   "metadata": {},
   "source": [
    "Before we continue, let's first determine the number of experiments.\n",
    "\n",
    "For tuples, we only need to count the last number.\n",
    "For lists, the number of elements in the list is important."
   ]
  },
  {
   "cell_type": "code",
   "execution_count": 8,
   "metadata": {},
   "outputs": [
    {
     "name": "stdout",
     "output_type": "stream",
     "text": [
      "1458 experiments\n"
     ]
    }
   ],
   "source": [
    "def talos_nr_experiments(params):\n",
    "    total = 1\n",
    "    for k in params.keys():\n",
    "        if isinstance(params[k], tuple):\n",
    "            total = total * params[k][2]\n",
    "        else:\n",
    "            total = total * len(params[k])\n",
    "    return total\n",
    "print(talos_nr_experiments(p),'experiments')"
   ]
  },
  {
   "cell_type": "markdown",
   "metadata": {},
   "source": [
    "Because we only want to perform approximately 50 experiments, we downsample the grid with the following factor"
   ]
  },
  {
   "cell_type": "code",
   "execution_count": 9,
   "metadata": {},
   "outputs": [
    {
     "data": {
      "text/plain": [
       "0.03429355281207133"
      ]
     },
     "execution_count": 9,
     "metadata": {},
     "output_type": "execute_result"
    }
   ],
   "source": [
    "50 / talos_nr_experiments(p)"
   ]
  },
  {
   "cell_type": "markdown",
   "metadata": {},
   "source": [
    "```\n",
    "I have performed 4 experiments with talos, which are stored somewhere in the repo with the name bet_model_XX.zip\n",
    "```"
   ]
  },
  {
   "cell_type": "code",
   "execution_count": 10,
   "metadata": {},
   "outputs": [
    {
     "name": "stderr",
     "output_type": "stream",
     "text": [
      "100%|████████████████████████████████████████████████████████████████████████████████████████████████████████████████████████████████| 49/49 [11:17<00:00, 16.55s/it]\n"
     ]
    }
   ],
   "source": [
    "# and run the experiment\n",
    "import talos as ta\n",
    "\n",
    "%matplotlib inline\n",
    "t = ta.Scan(x=x_train.values,\n",
    "            y=y_train,\n",
    "            model=bet_model,\n",
    "            grid_downsample=0.034, \n",
    "            params=p,\n",
    "            dataset_name='bet_model',\n",
    "            experiment_no='04')"
   ]
  },
  {
   "cell_type": "markdown",
   "metadata": {},
   "source": [
    "Following data is collected during the run."
   ]
  },
  {
   "cell_type": "code",
   "execution_count": 11,
   "metadata": {},
   "outputs": [
    {
     "data": {
      "text/html": [
       "<div>\n",
       "<style scoped>\n",
       "    .dataframe tbody tr th:only-of-type {\n",
       "        vertical-align: middle;\n",
       "    }\n",
       "\n",
       "    .dataframe tbody tr th {\n",
       "        vertical-align: top;\n",
       "    }\n",
       "\n",
       "    .dataframe thead th {\n",
       "        text-align: right;\n",
       "    }\n",
       "</style>\n",
       "<table border=\"1\" class=\"dataframe\">\n",
       "  <thead>\n",
       "    <tr style=\"text-align: right;\">\n",
       "      <th></th>\n",
       "      <th>round_epochs</th>\n",
       "      <th>val_loss</th>\n",
       "      <th>val_acc</th>\n",
       "      <th>loss</th>\n",
       "      <th>acc</th>\n",
       "      <th>first_neuron</th>\n",
       "      <th>normalize</th>\n",
       "      <th>nr_hidden_layers</th>\n",
       "      <th>hidden_layers</th>\n",
       "      <th>optimizer</th>\n",
       "      <th>batch_size</th>\n",
       "      <th>epochs</th>\n",
       "    </tr>\n",
       "  </thead>\n",
       "  <tbody>\n",
       "    <tr>\n",
       "      <th>0</th>\n",
       "      <td>50</td>\n",
       "      <td>0.978115</td>\n",
       "      <td>0.542404</td>\n",
       "      <td>0.989525</td>\n",
       "      <td>0.530427</td>\n",
       "      <td>15</td>\n",
       "      <td>True</td>\n",
       "      <td>2</td>\n",
       "      <td>15</td>\n",
       "      <td>rmsprop</td>\n",
       "      <td>64</td>\n",
       "      <td>50</td>\n",
       "    </tr>\n",
       "    <tr>\n",
       "      <th>1</th>\n",
       "      <td>200</td>\n",
       "      <td>0.978393</td>\n",
       "      <td>0.540777</td>\n",
       "      <td>0.986889</td>\n",
       "      <td>0.531997</td>\n",
       "      <td>20</td>\n",
       "      <td>False</td>\n",
       "      <td>2</td>\n",
       "      <td>20</td>\n",
       "      <td>adam</td>\n",
       "      <td>512</td>\n",
       "      <td>200</td>\n",
       "    </tr>\n",
       "    <tr>\n",
       "      <th>2</th>\n",
       "      <td>50</td>\n",
       "      <td>0.981737</td>\n",
       "      <td>0.539353</td>\n",
       "      <td>0.990775</td>\n",
       "      <td>0.529991</td>\n",
       "      <td>20</td>\n",
       "      <td>False</td>\n",
       "      <td>1</td>\n",
       "      <td>20</td>\n",
       "      <td>rmsprop</td>\n",
       "      <td>64</td>\n",
       "      <td>50</td>\n",
       "    </tr>\n",
       "    <tr>\n",
       "      <th>3</th>\n",
       "      <td>100</td>\n",
       "      <td>0.968844</td>\n",
       "      <td>0.542201</td>\n",
       "      <td>0.980918</td>\n",
       "      <td>0.532956</td>\n",
       "      <td>10</td>\n",
       "      <td>True</td>\n",
       "      <td>2</td>\n",
       "      <td>20</td>\n",
       "      <td>adam</td>\n",
       "      <td>64</td>\n",
       "      <td>100</td>\n",
       "    </tr>\n",
       "    <tr>\n",
       "      <th>4</th>\n",
       "      <td>200</td>\n",
       "      <td>0.984770</td>\n",
       "      <td>0.540980</td>\n",
       "      <td>0.993673</td>\n",
       "      <td>0.531735</td>\n",
       "      <td>15</td>\n",
       "      <td>False</td>\n",
       "      <td>1</td>\n",
       "      <td>20</td>\n",
       "      <td>sgd</td>\n",
       "      <td>64</td>\n",
       "      <td>200</td>\n",
       "    </tr>\n",
       "  </tbody>\n",
       "</table>\n",
       "</div>"
      ],
      "text/plain": [
       "   round_epochs  val_loss   val_acc      loss       acc  first_neuron  \\\n",
       "0            50  0.978115  0.542404  0.989525  0.530427            15   \n",
       "1           200  0.978393  0.540777  0.986889  0.531997            20   \n",
       "2            50  0.981737  0.539353  0.990775  0.529991            20   \n",
       "3           100  0.968844  0.542201  0.980918  0.532956            10   \n",
       "4           200  0.984770  0.540980  0.993673  0.531735            15   \n",
       "\n",
       "  normalize  nr_hidden_layers  hidden_layers optimizer  batch_size  epochs  \n",
       "0      True                 2             15   rmsprop          64      50  \n",
       "1     False                 2             20      adam         512     200  \n",
       "2     False                 1             20   rmsprop          64      50  \n",
       "3      True                 2             20      adam          64     100  \n",
       "4     False                 1             20       sgd          64     200  "
      ]
     },
     "execution_count": 11,
     "metadata": {},
     "output_type": "execute_result"
    }
   ],
   "source": [
    "t.data.head()"
   ]
  },
  {
   "cell_type": "code",
   "execution_count": 12,
   "metadata": {},
   "outputs": [
    {
     "data": {
      "text/html": [
       "<div>\n",
       "<style scoped>\n",
       "    .dataframe tbody tr th:only-of-type {\n",
       "        vertical-align: middle;\n",
       "    }\n",
       "\n",
       "    .dataframe tbody tr th {\n",
       "        vertical-align: top;\n",
       "    }\n",
       "\n",
       "    .dataframe thead th {\n",
       "        text-align: right;\n",
       "    }\n",
       "</style>\n",
       "<table border=\"1\" class=\"dataframe\">\n",
       "  <thead>\n",
       "    <tr style=\"text-align: right;\">\n",
       "      <th></th>\n",
       "      <th>val_loss</th>\n",
       "      <th>val_acc</th>\n",
       "      <th>loss</th>\n",
       "      <th>acc</th>\n",
       "      <th>acc_epoch</th>\n",
       "      <th>loss_epoch</th>\n",
       "    </tr>\n",
       "  </thead>\n",
       "  <tbody>\n",
       "    <tr>\n",
       "      <th>1</th>\n",
       "      <td>47</td>\n",
       "      <td>35</td>\n",
       "      <td>48</td>\n",
       "      <td>41</td>\n",
       "      <td>0.000021</td>\n",
       "      <td>0.000013</td>\n",
       "    </tr>\n",
       "    <tr>\n",
       "      <th>2</th>\n",
       "      <td>199</td>\n",
       "      <td>34</td>\n",
       "      <td>197</td>\n",
       "      <td>59</td>\n",
       "      <td>0.000051</td>\n",
       "      <td>0.000019</td>\n",
       "    </tr>\n",
       "    <tr>\n",
       "      <th>3</th>\n",
       "      <td>48</td>\n",
       "      <td>34</td>\n",
       "      <td>49</td>\n",
       "      <td>21</td>\n",
       "      <td>0.000042</td>\n",
       "      <td>0.000030</td>\n",
       "    </tr>\n",
       "    <tr>\n",
       "      <th>4</th>\n",
       "      <td>98</td>\n",
       "      <td>57</td>\n",
       "      <td>95</td>\n",
       "      <td>65</td>\n",
       "      <td>0.000026</td>\n",
       "      <td>0.000021</td>\n",
       "    </tr>\n",
       "    <tr>\n",
       "      <th>5</th>\n",
       "      <td>199</td>\n",
       "      <td>53</td>\n",
       "      <td>199</td>\n",
       "      <td>190</td>\n",
       "      <td>0.000023</td>\n",
       "      <td>0.000015</td>\n",
       "    </tr>\n",
       "  </tbody>\n",
       "</table>\n",
       "</div>"
      ],
      "text/plain": [
       "  val_loss val_acc loss  acc  acc_epoch  loss_epoch\n",
       "1       47      35   48   41   0.000021    0.000013\n",
       "2      199      34  197   59   0.000051    0.000019\n",
       "3       48      34   49   21   0.000042    0.000030\n",
       "4       98      57   95   65   0.000026    0.000021\n",
       "5      199      53  199  190   0.000023    0.000015"
      ]
     },
     "execution_count": 12,
     "metadata": {},
     "output_type": "execute_result"
    }
   ],
   "source": [
    "t.peak_epochs_df.head()"
   ]
  },
  {
   "cell_type": "code",
   "execution_count": 13,
   "metadata": {},
   "outputs": [
    {
     "data": {
      "text/plain": [
       "random_method          uniform_mersenne\n",
       "reduction_method                   None\n",
       "reduction_interval                   50\n",
       "reduction_window                     20\n",
       "grid_downsample                   0.034\n",
       "reduction_threshold                 0.2\n",
       "reduction_metric                val_acc\n",
       "reduce_loss                       False\n",
       "experiment_name            bet_model_04\n",
       "complete_time            05/28/19/21:05\n",
       "x_shape                     (16387, 21)\n",
       "y_shape                      (16387, 3)\n",
       "dtype: object"
      ]
     },
     "execution_count": 13,
     "metadata": {},
     "output_type": "execute_result"
    }
   ],
   "source": [
    "t.details"
   ]
  },
  {
   "cell_type": "markdown",
   "metadata": {},
   "source": [
    "# Reporting\n",
    "\n",
    "We can also construct some reporting."
   ]
  },
  {
   "cell_type": "code",
   "execution_count": 14,
   "metadata": {},
   "outputs": [],
   "source": [
    "r = ta.Reporting(t)"
   ]
  },
  {
   "cell_type": "code",
   "execution_count": 15,
   "metadata": {},
   "outputs": [
    {
     "data": {
      "text/plain": [
       "0.543827537213105"
      ]
     },
     "execution_count": 15,
     "metadata": {},
     "output_type": "execute_result"
    }
   ],
   "source": [
    "r.high()"
   ]
  },
  {
   "cell_type": "code",
   "execution_count": 16,
   "metadata": {},
   "outputs": [
    {
     "data": {
      "text/plain": [
       "first_neuron       -0.185738\n",
       "nr_hidden_layers    0.233878\n",
       "hidden_layers       0.195025\n",
       "batch_size         -0.250147\n",
       "epochs              0.184396\n",
       "Name: val_acc, dtype: float64"
      ]
     },
     "execution_count": 16,
     "metadata": {},
     "output_type": "execute_result"
    }
   ],
   "source": [
    "r.correlate('val_acc')"
   ]
  },
  {
   "cell_type": "code",
   "execution_count": 17,
   "metadata": {},
   "outputs": [
    {
     "data": {
      "image/png": "[encoded data removed]",
      "text/plain": [
       "<Figure size 720x475.2 with 1 Axes>"
      ]
     },
     "metadata": {},
     "output_type": "display_data"
    }
   ],
   "source": [
    "r.plot_regs()"
   ]
  },
  {
   "cell_type": "code",
   "execution_count": 18,
   "metadata": {},
   "outputs": [
    {
     "data": {
      "image/png": "[encoded data removed]",
      "text/plain": [
       "<Figure size 720x475.2 with 1 Axes>"
      ]
     },
     "metadata": {},
     "output_type": "display_data"
    }
   ],
   "source": [
    "r.plot_kde('val_acc')"
   ]
  },
  {
   "cell_type": "code",
   "execution_count": 19,
   "metadata": {},
   "outputs": [
    {
     "data": {
      "image/png": "[encoded data removed]",
      "text/plain": [
       "<Figure size 576x576 with 2 Axes>"
      ]
     },
     "metadata": {},
     "output_type": "display_data"
    }
   ],
   "source": [
    "r.plot_corr(metric='val_acc')"
   ]
  },
  {
   "cell_type": "code",
   "execution_count": 20,
   "metadata": {
    "scrolled": true
   },
   "outputs": [
    {
     "data": {
      "image/png": "[encoded data removed]",
      "text/plain": [
       "<Figure size 1238x288 with 3 Axes>"
      ]
     },
     "metadata": {},
     "output_type": "display_data"
    }
   ],
   "source": [
    "# a four dimensional bar grid\n",
    "r.plot_bars('batch_size', 'val_acc', 'first_neuron', 'epochs')"
   ]
  },
  {
   "cell_type": "markdown",
   "metadata": {},
   "source": [
    "# Saving model\n",
    "\n",
    "This is easy in talos. In order to save the best model, you perform."
   ]
  },
  {
   "cell_type": "code",
   "execution_count": 21,
   "metadata": {},
   "outputs": [
    {
     "name": "stdout",
     "output_type": "stream",
     "text": [
      "Deploy package bet_model_04 have been saved.\n"
     ]
    }
   ],
   "source": [
    "ta.Deploy(t, 'bet_model_04');"
   ]
  },
  {
   "cell_type": "code",
   "execution_count": 22,
   "metadata": {},
   "outputs": [],
   "source": [
    "t = ta.Restore('bet_model_04.zip')"
   ]
  },
  {
   "cell_type": "markdown",
   "metadata": {},
   "source": [
    "# Evaluate the model"
   ]
  },
  {
   "cell_type": "code",
   "execution_count": 23,
   "metadata": {},
   "outputs": [
    {
     "data": {
      "text/html": [
       "<div>\n",
       "<style scoped>\n",
       "    .dataframe tbody tr th:only-of-type {\n",
       "        vertical-align: middle;\n",
       "    }\n",
       "\n",
       "    .dataframe tbody tr th {\n",
       "        vertical-align: top;\n",
       "    }\n",
       "\n",
       "    .dataframe thead th {\n",
       "        text-align: right;\n",
       "    }\n",
       "</style>\n",
       "<table border=\"1\" class=\"dataframe\">\n",
       "  <thead>\n",
       "    <tr style=\"text-align: right;\">\n",
       "      <th></th>\n",
       "      <th>Profit</th>\n",
       "      <th>Bets</th>\n",
       "      <th>Margins</th>\n",
       "      <th>Total</th>\n",
       "    </tr>\n",
       "  </thead>\n",
       "  <tbody>\n",
       "    <tr>\n",
       "      <th>odds-home</th>\n",
       "      <td>12.62</td>\n",
       "      <td>123</td>\n",
       "      <td>0.102602</td>\n",
       "      <td>-59.350000</td>\n",
       "    </tr>\n",
       "    <tr>\n",
       "      <th>odds-draw</th>\n",
       "      <td>-67.25</td>\n",
       "      <td>284</td>\n",
       "      <td>-0.236796</td>\n",
       "      <td>444.000000</td>\n",
       "    </tr>\n",
       "    <tr>\n",
       "      <th>odds-away</th>\n",
       "      <td>-4.72</td>\n",
       "      <td>37</td>\n",
       "      <td>-0.127568</td>\n",
       "      <td>-0.133671</td>\n",
       "    </tr>\n",
       "  </tbody>\n",
       "</table>\n",
       "</div>"
      ],
      "text/plain": [
       "           Profit  Bets   Margins       Total\n",
       "odds-home   12.62   123  0.102602  -59.350000\n",
       "odds-draw  -67.25   284 -0.236796  444.000000\n",
       "odds-away   -4.72    37 -0.127568   -0.133671"
      ]
     },
     "metadata": {},
     "output_type": "display_data"
    }
   ],
   "source": [
    "odds = val[['odds-home','odds-draw','odds-away']]\n",
    "r = (t.model.predict(x_val) > (1 / odds + 0.05))  * (odds * y_val - 1)\n",
    "total = r.sum().sum()\n",
    "cnt = (r != 0).sum().sum()\n",
    "tdf = pd.Series([total, cnt, total/cnt], index=r.sum().index)\n",
    "r_ = pd.concat([r.sum(), (r != 0).sum(), r.sum() / (r !=0).sum(), tdf],axis=1, ignore_index=True)\n",
    "r_ .columns = ['Profit','Bets','Margins', 'Total']\n",
    "display(r_)"
   ]
  },
  {
   "cell_type": "code",
   "execution_count": 28,
   "metadata": {},
   "outputs": [
    {
     "data": {
      "text/html": [
       "<div>\n",
       "<style scoped>\n",
       "    .dataframe tbody tr th:only-of-type {\n",
       "        vertical-align: middle;\n",
       "    }\n",
       "\n",
       "    .dataframe tbody tr th {\n",
       "        vertical-align: top;\n",
       "    }\n",
       "\n",
       "    .dataframe thead th {\n",
       "        text-align: right;\n",
       "    }\n",
       "</style>\n",
       "<table border=\"1\" class=\"dataframe\">\n",
       "  <thead>\n",
       "    <tr style=\"text-align: right;\">\n",
       "      <th></th>\n",
       "      <th>Profit</th>\n",
       "      <th>Bets</th>\n",
       "      <th>Margins</th>\n",
       "      <th>Total</th>\n",
       "    </tr>\n",
       "  </thead>\n",
       "  <tbody>\n",
       "    <tr>\n",
       "      <th>odds-home</th>\n",
       "      <td>45.41</td>\n",
       "      <td>237</td>\n",
       "      <td>0.191603</td>\n",
       "      <td>-19.990000</td>\n",
       "    </tr>\n",
       "    <tr>\n",
       "      <th>odds-draw</th>\n",
       "      <td>-64.75</td>\n",
       "      <td>314</td>\n",
       "      <td>-0.206210</td>\n",
       "      <td>600.000000</td>\n",
       "    </tr>\n",
       "    <tr>\n",
       "      <th>odds-away</th>\n",
       "      <td>-0.65</td>\n",
       "      <td>49</td>\n",
       "      <td>-0.013265</td>\n",
       "      <td>-0.033317</td>\n",
       "    </tr>\n",
       "  </tbody>\n",
       "</table>\n",
       "</div>"
      ],
      "text/plain": [
       "           Profit  Bets   Margins       Total\n",
       "odds-home   45.41   237  0.191603  -19.990000\n",
       "odds-draw  -64.75   314 -0.206210  600.000000\n",
       "odds-away   -0.65    49 -0.013265   -0.033317"
      ]
     },
     "metadata": {},
     "output_type": "display_data"
    }
   ],
   "source": [
    "odds = train[['odds-home','odds-draw','odds-away']]\n",
    "r = (t.model.predict(x_train) > (1 / odds + 0.05)) * (odds * y_train - 1)\n",
    "total = r.sum().sum()\n",
    "cnt = (r != 0).sum().sum()\n",
    "tdf = pd.Series([total, cnt, total/cnt], index=r.sum().index)\n",
    "r_ = pd.concat([r.sum(), (r != 0).sum(), r.sum() / (r !=0).sum(), tdf],axis=1, ignore_index=True)\n",
    "r_ .columns = ['Profit','Bets','Margins', 'Total']\n",
    "display(r_)"
   ]
  }
 ],
 "metadata": {
  "kernelspec": {
   "display_name": "Python 3",
   "language": "python",
   "name": "python3"
  },
  "language_info": {
   "codemirror_mode": {
    "name": "ipython",
    "version": 3
   },
   "file_extension": ".py",
   "mimetype": "text/x-python",
   "name": "python",
   "nbconvert_exporter": "python",
   "pygments_lexer": "ipython3",
   "version": "3.6.8"
  }
 },
 "nbformat": 4,
 "nbformat_minor": 2
}
