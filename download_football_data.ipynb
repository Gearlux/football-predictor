{
 "cells": [
  {
   "cell_type": "code",
   "execution_count": 1,
   "metadata": {},
   "outputs": [],
   "source": [
    "import os\n",
    "import pandas as pd"
   ]
  },
  {
   "cell_type": "code",
   "execution_count": 2,
   "metadata": {},
   "outputs": [],
   "source": [
    "# England - Premier \n",
    "# http://www.football-data.co.uk/mmz4281/1819/E0.csv\n",
    "# Scotland - Premier League\n",
    "# http://www.football-data.co.uk/mmz4281/1819/SC0.csv\n",
    "# Germany - Bundesliga\n",
    "# http://www.football-data.co.uk/mmz4281/1819/D1.csv\n",
    "# Italy - Serie A\n",
    "# http://www.football-data.co.uk/mmz4281/1819/I1.csv\n",
    "# Spain - La Liga\n",
    "# http://www.football-data.co.uk/mmz4281/1819/SP1.csv\n",
    "# France - Le championnat\n",
    "# http://www.football-data.co.uk/mmz4281/1819/F1.csv\n",
    "leagues = ['E0', 'SC0', 'D1', 'I1', 'SP1', 'F1']"
   ]
  },
  {
   "cell_type": "code",
   "execution_count": 3,
   "metadata": {},
   "outputs": [],
   "source": [
    "for leag in leagues:\n",
    "    leag_fn = \"data/%s_leag.csv\" % leag\n",
    "    if not os.path.exists(leag_fn):\n",
    "        print ('Processing league', leag)\n",
    "        all_matches = pd.DataFrame()\n",
    "        for season in range(2009, 2018):\n",
    "            seas = '%02d%02d' % (season-2000, season-1999)\n",
    "            url = 'http://www.football-data.co.uk/mmz4281/%s/%s.csv' % (seas,leag)\n",
    "            fn = 'data/%s_%02d.csv' % (leag, season-2000)\n",
    "            if os.path.exists(fn):\n",
    "                matches = pd.read_csv(fn, parse_dates=True)\n",
    "            else:\n",
    "                print(url)\n",
    "                matches = pd.read_csv(url, parse_dates=True, error_bad_lines=False, warn_bad_lines=False)\n",
    "                matches.to_csv(fn, index=False)\n",
    "            all_matches = pd.concat([all_matches, matches], axis=0, sort=False)\n",
    "        all_matches = all_matches.dropna(axis=0,how='all')\n",
    "        # all_matches = all_matches[~all_matches.HS.isna()]\n",
    "        all_matches = all_matches[~all_matches.B365H.isnull()]\n",
    "        all_matches = all_matches[~all_matches.AS.isna()]\n",
    "        all_matches = all_matches.astype({'FTHG':int, 'FTAG':int, 'AS':int, 'HS':int, 'AST':int, 'HST':int\n",
    "                                 })\n",
    "        all_matches.to_csv(leag_fn, index=False)"
   ]
  },
  {
   "cell_type": "code",
   "execution_count": 6,
   "metadata": {},
   "outputs": [
    {
     "name": "stdout",
     "output_type": "stream",
     "text": [
      "Processing league E0\n",
      "Processing league SC0\n",
      "Processing league D1\n",
      "Processing league I1\n",
      "Processing league SP1\n",
      "Processing league F1\n"
     ]
    }
   ],
   "source": [
    "import dataset\n",
    "for leag in leagues:\n",
    "    leag_fn = \"data/%s_leag.csv\" % leag\n",
    "    processed_fn = 'data/%s_processed.csv' % leag\n",
    "    if os.path.exists(leag_fn) and not os.path.exists(processed_fn):\n",
    "        print ('Processing league', leag)\n",
    "        book = dataset.Dataset(leag_fn)\n",
    "        df = pd.DataFrame(book.processed_results)\n",
    "        df.to_csv(processed_fn, index=False)"
   ]
  },
  {
   "cell_type": "code",
   "execution_count": 7,
   "metadata": {},
   "outputs": [],
   "source": [
    "dataframes = []\n",
    "for leag in leagues:\n",
    "    processed_fn = \"data/%s_processed.csv\" % leag\n",
    "    if os.path.exists(processed_fn):\n",
    "        dataframes.append(pd.read_csv(processed_fn, parse_dates=True))"
   ]
  },
  {
   "cell_type": "code",
   "execution_count": 8,
   "metadata": {},
   "outputs": [],
   "source": [
    "df = pd.concat(dataframes, ignore_index=True)\n",
    "df.to_csv('all_processed.csv', index=False)"
   ]
  },
  {
   "cell_type": "code",
   "execution_count": 133,
   "metadata": {},
   "outputs": [],
   "source": [
    "#nfeatures, labels, odds = utils.get_footballpredictor_feables(csv='temp.csv', use_shots=False)\n",
    "#nfeatures = nfeatures.iloc[120:,:]\n",
    "features, labels, odds = utils.get_footballpredictor_feables(csv='temp.csv', use_shots=True)\n",
    "features = features.iloc[120:,:]\n",
    "labels = labels.iloc[120:]\n",
    "odds = odds.iloc[120:,:]"
   ]
  },
  {
   "cell_type": "code",
   "execution_count": 125,
   "metadata": {},
   "outputs": [],
   "source": [
    "from sklearn.model_selection import StratifiedShuffleSplit\n",
    "ss = StratifiedShuffleSplit(n_splits=9, random_state=0)"
   ]
  },
  {
   "cell_type": "code",
   "execution_count": 126,
   "metadata": {},
   "outputs": [
    {
     "data": {
      "text/html": [
       "<div>\n",
       "<style scoped>\n",
       "    .dataframe tbody tr th:only-of-type {\n",
       "        vertical-align: middle;\n",
       "    }\n",
       "\n",
       "    .dataframe tbody tr th {\n",
       "        vertical-align: top;\n",
       "    }\n",
       "\n",
       "    .dataframe thead th {\n",
       "        text-align: right;\n",
       "    }\n",
       "</style>\n",
       "<table border=\"1\" class=\"dataframe\">\n",
       "  <thead>\n",
       "    <tr style=\"text-align: right;\">\n",
       "      <th></th>\n",
       "      <th>%</th>\n",
       "      <th>%</th>\n",
       "      <th>%</th>\n",
       "      <th>%</th>\n",
       "      <th>%</th>\n",
       "      <th>%</th>\n",
       "      <th>%</th>\n",
       "      <th>%</th>\n",
       "      <th>%</th>\n",
       "    </tr>\n",
       "  </thead>\n",
       "  <tbody>\n",
       "    <tr>\n",
       "      <th>train</th>\n",
       "      <td>-0.046216</td>\n",
       "      <td>-0.038378</td>\n",
       "      <td>-0.043939</td>\n",
       "      <td>-0.029348</td>\n",
       "      <td>-0.040341</td>\n",
       "      <td>-0.037162</td>\n",
       "      <td>-0.024816</td>\n",
       "      <td>-0.036919</td>\n",
       "      <td>-0.032572</td>\n",
       "    </tr>\n",
       "    <tr>\n",
       "      <th>test</th>\n",
       "      <td>0.054275</td>\n",
       "      <td>-0.016107</td>\n",
       "      <td>0.033830</td>\n",
       "      <td>-0.097190</td>\n",
       "      <td>0.001517</td>\n",
       "      <td>-0.027022</td>\n",
       "      <td>-0.137886</td>\n",
       "      <td>-0.029206</td>\n",
       "      <td>-0.068244</td>\n",
       "    </tr>\n",
       "    <tr>\n",
       "      <th>trainu</th>\n",
       "      <td>-0.046216</td>\n",
       "      <td>-0.038378</td>\n",
       "      <td>-0.043939</td>\n",
       "      <td>-0.029348</td>\n",
       "      <td>-0.040341</td>\n",
       "      <td>-0.037162</td>\n",
       "      <td>-0.024816</td>\n",
       "      <td>-0.036919</td>\n",
       "      <td>-0.032572</td>\n",
       "    </tr>\n",
       "    <tr>\n",
       "      <th>testu</th>\n",
       "      <td>0.054275</td>\n",
       "      <td>-0.016107</td>\n",
       "      <td>0.033830</td>\n",
       "      <td>-0.097190</td>\n",
       "      <td>0.001517</td>\n",
       "      <td>-0.027022</td>\n",
       "      <td>-0.137886</td>\n",
       "      <td>-0.029206</td>\n",
       "      <td>-0.068244</td>\n",
       "    </tr>\n",
       "  </tbody>\n",
       "</table>\n",
       "</div>"
      ],
      "text/plain": [
       "               %         %         %         %         %         %         %  \\\n",
       "train  -0.046216 -0.038378 -0.043939 -0.029348 -0.040341 -0.037162 -0.024816   \n",
       "test    0.054275 -0.016107  0.033830 -0.097190  0.001517 -0.027022 -0.137886   \n",
       "trainu -0.046216 -0.038378 -0.043939 -0.029348 -0.040341 -0.037162 -0.024816   \n",
       "testu   0.054275 -0.016107  0.033830 -0.097190  0.001517 -0.027022 -0.137886   \n",
       "\n",
       "               %         %  \n",
       "train  -0.036919 -0.032572  \n",
       "test   -0.029206 -0.068244  \n",
       "trainu -0.036919 -0.032572  \n",
       "testu  -0.029206 -0.068244  "
      ]
     },
     "metadata": {},
     "output_type": "display_data"
    }
   ],
   "source": [
    "result = pd.DataFrame()\n",
    "for train_index, test_index in ss.split(features, labels):    \n",
    "    X_train = features.iloc[train_index]\n",
    "    X_test = features.iloc[test_index]\n",
    "    odds_train = odds.iloc[train_index]\n",
    "    odds_test = odds.iloc[test_index]\n",
    "    Y_train = labels.iloc[train_index]\n",
    "    Y_test = labels.iloc[test_index]\n",
    "    \n",
    "    y_test = utils.encode_labels(Y_test)\n",
    "    y_train = utils.encode_labels(Y_train)\n",
    "    \n",
    "    x_train = scaler.transform(X_train)\n",
    "    x_test = scaler.transform(X_test)\n",
    "    \n",
    "    b_test = y_test * odds_test - 1\n",
    "    b_train = y_train * odds_train - 1\n",
    "    \n",
    "    r1 = pd.DataFrame(utils.evaluate_model(model, x_train, x_test, b_train, b_test))\n",
    "    \n",
    "#     model.fit(x_train, b_train,\n",
    "#           #epochs=offset+10000,\n",
    "#           #initial_epoch=offset,\n",
    "#           epochs=10000,\n",
    "#           batch_size=500, verbose=0, callbacks=[keras.callbacks.TensorBoard(), \n",
    "#                                                 TQDMNotebookCallback(show_inner=False,\n",
    "#                                                                      #initial=offset                                                                                                    \n",
    "#                                                                     )\n",
    "#                                                ])\n",
    "\n",
    "    r2 = pd.DataFrame(utils.evaluate_model(model, x_train, x_test, b_train, b_test))\n",
    "    r2.columns = ['trainu', 'testu']\n",
    "    r = pd.concat([r1, r2], axis=1)\n",
    "    result = pd.concat([result, r.T['%']], axis=1, sort=False)\n",
    "    \n",
    "    clear_output()\n",
    "    display(result)"
   ]
  }
 ],
 "metadata": {
  "kernelspec": {
   "display_name": "Python 3",
   "language": "python",
   "name": "python3"
  },
  "language_info": {
   "codemirror_mode": {
    "name": "ipython",
    "version": 3
   },
   "file_extension": ".py",
   "mimetype": "text/x-python",
   "name": "python",
   "nbconvert_exporter": "python",
   "pygments_lexer": "ipython3",
   "version": "3.6.5"
  }
 },
 "nbformat": 4,
 "nbformat_minor": 2
}
