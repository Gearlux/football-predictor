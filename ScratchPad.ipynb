{
 "cells": [
  {
   "cell_type": "markdown",
   "metadata": {},
   "source": [
    "# For another notebook"
   ]
  },
  {
   "cell_type": "code",
   "execution_count": 1,
   "metadata": {},
   "outputs": [
    {
     "name": "stderr",
     "output_type": "stream",
     "text": [
      "Using TensorFlow backend.\n"
     ]
    }
   ],
   "source": [
    "# https://medium.com/@media_73863/machine-learning-for-sports-betting-not-a-basic-classification-problem-b42ae4900782\n",
    "# https://medium.com/vantageai/beating-the-bookies-with-machine-learning-7b429a0b5980\n",
    "\n",
    "from keras.layers import BatchNormalization, Dense, Input, Dropout\n",
    "from keras.models import Model\n",
    "from keras import backend as K\n",
    "import pandas as pd\n",
    "import numpy as np\n",
    "from sklearn.model_selection import train_test_split\n",
    "from keras.callbacks import EarlyStopping, ModelCheckpoint\n",
    "import matplotlib.pyplot as plt\n",
    "\n",
    "def get_model(input_dim, output_dim, base=1000, multiplier=0.25, p=0.2):\n",
    "    inputs = Input(shape=(input_dim,))\n",
    "    l = BatchNormalization()(inputs)\n",
    "    l = Dropout(p)(l)\n",
    "    n = base\n",
    "    l = Dense(n, activation='relu')(l)\n",
    "    l = BatchNormalization()(l)\n",
    "    l = Dropout(p)(l)\n",
    "    n = int(n * multiplier)\n",
    "    l = Dense(n, activation='relu')(l)\n",
    "    l = BatchNormalization()(l)\n",
    "    l = Dropout(p)(l)\n",
    "    n = int(n * multiplier)\n",
    "    l = Dense(n, activation='relu')(l)\n",
    "    outputs = Dense(output_dim, activation='softmax')(l)\n",
    "    model = Model(inputs=inputs, outputs=outputs)\n",
    "    model.compile(optimizer='Nadam', loss=bet_loss)\n",
    "    return model\n"
   ]
  },
  {
   "cell_type": "code",
   "execution_count": 2,
   "metadata": {},
   "outputs": [],
   "source": [
    "## 2D binning of profits"
   ]
  },
  {
   "cell_type": "code",
   "execution_count": 3,
   "metadata": {},
   "outputs": [],
   "source": [
    "def histo_profits(models, prob_range = np.arange(0, 0.15, 0.01), ):\n",
    "    preds = np.concatenate(models[1])\n",
    "    odds = pd.concat(models[2])\n",
    "    \n",
    "    probs = 1./ odds.abs() \n",
    "    \n",
    "    profits = np.zeros( (len(prob_range), len(odd_range), 3))\n",
    "    for i, ii in zip(prob_range, range(len(prob_range))):\n",
    "        pr = ((preds - probs) >= i) & ((preds-probs)<i+0.01)\n",
    "        for th, tt in zip(odd_range, range(len(odd_range))):\n",
    "\n",
    "            oa = odds.abs()\n",
    "            tr = ( oa >= th) & (oa < th+0.1)\n",
    "\n",
    "            sel = pr & tr\n",
    "\n",
    "            profits[ii, tt, :] = (sel * (odds.clip(0,np.inf) - 1)).sum().values\n",
    "            \n",
    "    labels = 'HAD'\n",
    "    r = pd.concat({ labels[i]: pd.DataFrame(profits[:,:,i], columns=odd_range, index=prob_range) for i in range(3)}, axis=0)            \n",
    "    r.index = r.index.rename(['Location','Probability'])\n",
    "            \n",
    "    return r"
   ]
  },
  {
   "cell_type": "code",
   "execution_count": null,
   "metadata": {},
   "outputs": [],
   "source": [
    "%matplotlib inline\n",
    "from matplotlib import pyplot as plt\n",
    "plt.imshow(pr.loc['H'].values, cmap='PuOr')\n",
    "plt.colorbar()"
   ]
  },
  {
   "cell_type": "markdown",
   "metadata": {},
   "source": [
    "## More loss functions"
   ]
  },
  {
   "cell_type": "code",
   "execution_count": 6,
   "metadata": {},
   "outputs": [],
   "source": [
    "_EPSILON = 10e-8\n",
    "\n",
    "def cat_loss(b_true, y_pred):\n",
    "    prob_true = K.clip(b_true, 0., 1.)\n",
    "    prob = K.clip(y_pred, _EPSILON, 1. - _EPSILON)\n",
    "    res = K.sum(prob_true * -K.log(prob), axis=-1)\n",
    "    return res\n",
    "\n",
    "def weighted_cat_loss(b_true, y_pred):\n",
    "    prob_true = K.clip(b_true, 0., np.inf)\n",
    "    prob = K.clip(y_pred, _EPSILON, 1. - _EPSILON)\n",
    "    res = K.sum(prob_true * -K.log(prob), axis=-1)\n",
    "    return res\n",
    "\n",
    "def bet_loss(b_true, y_pred):\n",
    "    profit = K.clip(b_true, 0., np.inf) - 1\n",
    "    prob = K.clip(y_pred, _EPSILON, 1. - _EPSILON)\n",
    "    res2 = K.sum(profit * prob, axis=-1)\n",
    "    return -res2\n"
   ]
  },
  {
   "cell_type": "code",
   "execution_count": 8,
   "metadata": {},
   "outputs": [
    {
     "data": {
      "text/plain": [
       "[<matplotlib.lines.Line2D at 0x13c9555f8>]"
      ]
     },
     "execution_count": 8,
     "metadata": {},
     "output_type": "execute_result"
    },
    {
     "data": {
      "image/png": "[encoded data removed]",
      "text/plain": [
       "<Figure size 432x288 with 1 Axes>"
      ]
     },
     "metadata": {
      "needs_background": "light"
     },
     "output_type": "display_data"
    }
   ],
   "source": [
    "import math\n",
    "import numpy as np\n",
    "from matplotlib import pylab as plt\n",
    "%matplotlib inline\n",
    "plt.plot(np.exp(-np.arange(0,5,0.01)))"
   ]
  },
  {
   "cell_type": "code",
   "execution_count": 9,
   "metadata": {},
   "outputs": [
    {
     "data": {
      "text/plain": [
       "[<matplotlib.lines.Line2D at 0x13ea5bb70>]"
      ]
     },
     "execution_count": 9,
     "metadata": {},
     "output_type": "execute_result"
    },
    {
     "data": {
      "image/png": "[encoded data removed]",
      "text/plain": [
       "<Figure size 432x288 with 1 Axes>"
      ]
     },
     "metadata": {
      "needs_background": "light"
     },
     "output_type": "display_data"
    }
   ],
   "source": [
    "plt.plot(-np.log(np.arange(0.01,1,0.01))  )\n",
    "plt.plot(-np.log(0.5 * np.arange(0.01,1,0.01)))"
   ]
  },
  {
   "cell_type": "markdown",
   "metadata": {},
   "source": [
    "# Python version"
   ]
  },
  {
   "cell_type": "code",
   "execution_count": 1,
   "metadata": {},
   "outputs": [
    {
     "name": "stdout",
     "output_type": "stream",
     "text": [
      "3.6.5\n"
     ]
    }
   ],
   "source": [
    "from platform import python_version\n",
    "print(python_version())"
   ]
  },
  {
   "cell_type": "code",
   "execution_count": 2,
   "metadata": {},
   "outputs": [
    {
     "name": "stdout",
     "output_type": "stream",
     "text": [
      "C:\\Users\\amjmr\\GitHub\\MakingMoneyML\\venv\\Scripts\\python.exe\n",
      "C:\\Python36\\python.exe\n"
     ]
    }
   ],
   "source": [
    "!where python"
   ]
  },
  {
   "cell_type": "markdown",
   "metadata": {},
   "source": [
    "# Disable GPU"
   ]
  },
  {
   "cell_type": "code",
   "execution_count": 2,
   "metadata": {},
   "outputs": [],
   "source": [
    "import os\n",
    "os.environ[\"CUDA_VISIBLE_DEVICES\"]=\"-1\"    \n",
    "import tensorflow as tf"
   ]
  },
  {
   "cell_type": "code",
   "execution_count": 1,
   "metadata": {},
   "outputs": [
    {
     "data": {
      "text/plain": [
       "True"
      ]
     },
     "execution_count": 1,
     "metadata": {},
     "output_type": "execute_result"
    }
   ],
   "source": [
    "import torch\n",
    "torch.cuda.is_available()"
   ]
  },
  {
   "cell_type": "code",
   "execution_count": null,
   "metadata": {},
   "outputs": [],
   "source": []
  }
 ],
 "metadata": {
  "kernelspec": {
   "display_name": "Python 3",
   "language": "python",
   "name": "python3"
  },
  "language_info": {
   "codemirror_mode": {
    "name": "ipython",
    "version": 3
   },
   "file_extension": ".py",
   "mimetype": "text/x-python",
   "name": "python",
   "nbconvert_exporter": "python",
   "pygments_lexer": "ipython3",
   "version": "3.6.8"
  }
 },
 "nbformat": 4,
 "nbformat_minor": 2
}
