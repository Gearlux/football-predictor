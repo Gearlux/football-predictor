{
 "cells": [
  {
   "cell_type": "code",
   "execution_count": 1,
   "metadata": {},
   "outputs": [],
   "source": [
    "import glob\n",
    "leagues = glob.glob('data/*_processed.csv')"
   ]
  },
  {
   "cell_type": "code",
   "execution_count": 16,
   "metadata": {},
   "outputs": [
    {
     "name": "stdout",
     "output_type": "stream",
     "text": [
      "data/P1_processed.csv 2017-11-03 00:00:00 2018-05-13 00:00:00\n",
      "data/E0_processed.csv 2009-10-31 00:00:00 2018-05-13 00:00:00\n",
      "data/SC0_processed.csv 2009-11-07 00:00:00 2018-05-13 00:00:00\n",
      "data/SP1_processed.csv 2009-11-21 00:00:00 2018-05-20 00:00:00\n",
      "data/B1_processed.csv 2017-10-20 00:00:00 2018-03-11 00:00:00\n",
      "data/D1_processed.csv 2009-10-30 00:00:00 2018-05-12 00:00:00\n",
      "data/N1_processed.csv 2017-11-03 00:00:00 2018-05-06 00:00:00\n",
      "data/F1_processed.csv 2009-10-31 00:00:00 2018-05-19 00:00:00\n",
      "data/I1_processed.csv 2009-10-31 00:00:00 2018-05-20 00:00:00\n"
     ]
    }
   ],
   "source": [
    "import pandas as pd\n",
    "for league in leagues:\n",
    "    df = pd.read_csv(league)\n",
    "    df.date = pd.to_datetime(df.date)\n",
    "    df = df.set_index('date')\n",
    "    print (league, df.index[0], df.index[-1])"
   ]
  }
 ],
 "metadata": {
  "kernelspec": {
   "display_name": "Python 3",
   "language": "python",
   "name": "python3"
  },
  "language_info": {
   "codemirror_mode": {
    "name": "ipython",
    "version": 3
   },
   "file_extension": ".py",
   "mimetype": "text/x-python",
   "name": "python",
   "nbconvert_exporter": "python",
   "pygments_lexer": "ipython3",
   "version": "3.6.8"
  }
 },
 "nbformat": 4,
 "nbformat_minor": 2
}
