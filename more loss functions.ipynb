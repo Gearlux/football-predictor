{
 "cells": [
  {
   "cell_type": "markdown",
   "metadata": {},
   "source": [
    "# More loss functions defined to optimize our return\n",
    "\n",
    "In another notebook, I have tried\n",
    "In this notebook, we will try to implement a new loss function, designed to optimize our return.\n",
    "\n",
    "While reading [Beating the bookies with machine learning](https://medium.com/vantageai/beating-the-bookies-with-machine-learning-7b429a0b5980) and [Understanding negative log loss](https://towardsdatascience.com/understanding-negative-log-loss-8c3e77fafb79), I realized that using custom loss functions has an impact on the `probabilities` returned.\n",
    "\n",
    "In this notebook, I re-examine the custom loss functions.\n",
    "\n",
    "## Initialization"
   ]
  },
  {
   "cell_type": "code",
   "execution_count": 1,
   "metadata": {},
   "outputs": [
    {
     "name": "stderr",
     "output_type": "stream",
     "text": [
      "Using TensorFlow backend.\n"
     ]
    },
    {
     "name": "stdout",
     "output_type": "stream",
     "text": [
      "importing Jupyter notebook from common.ipynb\n"
     ]
    }
   ],
   "source": [
    "import dataset\n",
    "import keras\n",
    "import os\n",
    "\n",
    "import pandas as pd\n",
    "import numpy as np\n",
    "import tensorflow as tf\n",
    "\n",
    "from keras import metrics\n",
    "from keras.utils import np_utils\n",
    "from keras_tqdm import TQDMNotebookCallback\n",
    "\n",
    "from sklearn.preprocessing import StandardScaler, LabelEncoder\n",
    "\n",
    "from keras import backend as K\n",
    "from tqdm import tqdm_notebook as tqdm\n",
    "from IPython.display import clear_output\n",
    "\n",
    "import sys\n",
    "import import_notebook\n",
    "sys.meta_path.append(import_notebook.NotebookFinder())\n",
    "\n",
    "import common"
   ]
  },
  {
   "cell_type": "markdown",
   "metadata": {},
   "source": [
    "## Data Preparation"
   ]
  },
  {
   "cell_type": "code",
   "execution_count": 2,
   "metadata": {},
   "outputs": [],
   "source": [
    "np.set_printoptions(suppress=True)\n",
    "\n",
    "book = dataset.Dataset('data/book.csv')\n",
    "df = pd.DataFrame(book.processed_results)\n",
    "\n",
    "TRAINING_SET_FRACTION = 0.95\n",
    "train_results_len = int(TRAINING_SET_FRACTION * df.shape[0])\n",
    "\n",
    "features, labels = common.get_feables(df)\n",
    "train_features = features[:train_results_len]\n",
    "test_features = features[train_results_len:]\n",
    "y_train = labels[:train_results_len]\n",
    "y_test = labels[train_results_len:]\n",
    "\n",
    "scaler = StandardScaler()\n",
    "X_train = scaler.fit_transform(train_features.astype(float))\n",
    "X_test = scaler.transform(test_features.astype(float))"
   ]
  },
  {
   "cell_type": "code",
   "execution_count": 3,
   "metadata": {},
   "outputs": [],
   "source": [
    "odds_train = train_features[['odds-home','odds-draw','odds-away']]\n",
    "odds_test = test_features[['odds-home','odds-draw','odds-away']]\n",
    "\n",
    "c_train = odds_train * (2 * y_train - 1)\n",
    "c_test = odds_test * (2 * y_test - 1)"
   ]
  },
  {
   "cell_type": "markdown",
   "metadata": {},
   "source": [
    "## Some utility functions"
   ]
  },
  {
   "cell_type": "code",
   "execution_count": 6,
   "metadata": {},
   "outputs": [],
   "source": [
    "def evaluate(loss, y_train=c_train, y_test=c_test, th1=0.05, th2=0.9, \n",
    "             epochs=200, batch_size=500, normalize=False, activation='softmax'):\n",
    "    output_classes = y_train.shape[1]\n",
    "    name = '%s_%02d' % (str(loss.__qualname__), output_classes)\n",
    "    if output_classes == 4:\n",
    "        risk = d_train['no-bet'].mean()\n",
    "        if risk != 1:\n",
    "            name = name + '_risk_%3.2f' % y_test['no-bet'].mean()\n",
    "    if os.path.exists('logs/%s' % name):\n",
    "        try:\n",
    "            shutil.rmtree('logs/%s' % name)\n",
    "        except:\n",
    "            pass\n",
    "    model = common.construct_model(X_train.shape[1], output_classes=output_classes, loss=loss, \n",
    "                                   normalize=normalize, activation=activation,\n",
    "                                   metrics=['accuracy'] + common.bet_metrics())\n",
    "    _ = model.fit(X_train, y_train,\n",
    "      epochs=epochs,\n",
    "      batch_size=batch_size, verbose=0,\n",
    "      validation_data = [X_test, y_test],\n",
    "      callbacks=[keras.callbacks.TensorBoard(log_dir='./logs/%s' % name, write_graph=True), \n",
    "                 TQDMNotebookCallback(show_inner=False)]\n",
    "     )\n",
    "    clear_output()\n",
    "    return common.performance(model, X_test, y_test, th1=th1, th2=th2)"
   ]
  },
  {
   "cell_type": "code",
   "execution_count": 7,
   "metadata": {},
   "outputs": [],
   "source": [
    "_EPSILON = 10e-8\n",
    "\n",
    "def cat_loss(b_true, y_pred):\n",
    "    prob_true = K.clip(b_true, 0., 1.)\n",
    "    prob = K.clip(y_pred, _EPSILON, 1. - _EPSILON)\n",
    "    res = K.sum(prob_true * -K.log(prob), axis=-1)\n",
    "    return res"
   ]
  },
  {
   "cell_type": "markdown",
   "metadata": {},
   "source": [
    "## Reference\n",
    "\n",
    "Let's set a reference in terms of performance."
   ]
  },
  {
   "cell_type": "code",
   "execution_count": 9,
   "metadata": {},
   "outputs": [
    {
     "data": {
      "text/html": [
       "<div>\n",
       "<style scoped>\n",
       "    .dataframe tbody tr th:only-of-type {\n",
       "        vertical-align: middle;\n",
       "    }\n",
       "\n",
       "    .dataframe tbody tr th {\n",
       "        vertical-align: top;\n",
       "    }\n",
       "\n",
       "    .dataframe thead th {\n",
       "        text-align: right;\n",
       "    }\n",
       "</style>\n",
       "<table border=\"1\" class=\"dataframe\">\n",
       "  <thead>\n",
       "    <tr style=\"text-align: right;\">\n",
       "      <th></th>\n",
       "      <th>Profit</th>\n",
       "      <th>Count</th>\n",
       "      <th>|Profit|</th>\n",
       "      <th>|Count|</th>\n",
       "    </tr>\n",
       "  </thead>\n",
       "  <tbody>\n",
       "    <tr>\n",
       "      <th>home</th>\n",
       "      <td>8.00</td>\n",
       "      <td>11.0</td>\n",
       "      <td>0.62</td>\n",
       "      <td>5.0</td>\n",
       "    </tr>\n",
       "    <tr>\n",
       "      <th>draw</th>\n",
       "      <td>-2.00</td>\n",
       "      <td>2.0</td>\n",
       "      <td>0.00</td>\n",
       "      <td>0.0</td>\n",
       "    </tr>\n",
       "    <tr>\n",
       "      <th>away</th>\n",
       "      <td>-0.84</td>\n",
       "      <td>13.0</td>\n",
       "      <td>-0.32</td>\n",
       "      <td>4.0</td>\n",
       "    </tr>\n",
       "  </tbody>\n",
       "</table>\n",
       "</div>"
      ],
      "text/plain": [
       "      Profit   Count   |Profit|   |Count| \n",
       "home     8.00    11.0       0.62       5.0\n",
       "draw    -2.00     2.0       0.00       0.0\n",
       "away    -0.84    13.0      -0.32       4.0"
      ]
     },
     "execution_count": 9,
     "metadata": {},
     "output_type": "execute_result"
    }
   ],
   "source": [
    "evaluate(cat_loss)"
   ]
  },
  {
   "cell_type": "markdown",
   "metadata": {},
   "source": [
    "## Custom loss function\n",
    "\n",
    "Here are the three custom loss functions. I named the loss function of [Beating the bookies with machine learning](https://medium.com/vantageai/beating-the-bookies-with-machine-learning-7b429a0b5980) `darts_loss` because it was used for\n",
    "darts gambling."
   ]
  },
  {
   "cell_type": "code",
   "execution_count": 10,
   "metadata": {},
   "outputs": [],
   "source": [
    "def odds_loss(b_true, y_pred):\n",
    "    profit = K.clip(b_true, 0., np.inf) \n",
    "    prob = K.clip(y_pred, _EPSILON, 1. - _EPSILON)\n",
    "    res2 = K.sum(profit * prob - 1 * (1 - prob), axis=-1)\n",
    "    return -res2\n",
    "\n",
    "def bet_loss(b_true, y_pred):\n",
    "    profit = K.clip(b_true, 0., np.inf) - 1\n",
    "    prob = K.clip(y_pred, _EPSILON, 1. - _EPSILON)\n",
    "    res2 = K.sum(profit * prob, axis=-1)\n",
    "    return -res2\n",
    "\n",
    "# https://medium.com/vantageai/beating-the-bookies-with-machine-learning-7b429a0b5980\n",
    "def darts_loss(b_true, y_pred):\n",
    "    # outcome of the game\n",
    "    y = K.clip(b_true, 0, 1)\n",
    "    odds = K.abs(b_true)\n",
    "    return - K.sum((odds * y - 1) * K.relu(odds * y_pred - 1), axis=-1 )"
   ]
  },
  {
   "cell_type": "markdown",
   "metadata": {},
   "source": [
    "We rerun some of the experiments of the `custom loss function` notebook with a higher threshold to measure the profit.\n",
    "Because the loss functions are linear, you only need to look at the absolute profit."
   ]
  },
  {
   "cell_type": "code",
   "execution_count": 11,
   "metadata": {},
   "outputs": [
    {
     "data": {
      "text/html": [
       "<div>\n",
       "<style scoped>\n",
       "    .dataframe tbody tr th:only-of-type {\n",
       "        vertical-align: middle;\n",
       "    }\n",
       "\n",
       "    .dataframe tbody tr th {\n",
       "        vertical-align: top;\n",
       "    }\n",
       "\n",
       "    .dataframe thead th {\n",
       "        text-align: right;\n",
       "    }\n",
       "</style>\n",
       "<table border=\"1\" class=\"dataframe\">\n",
       "  <thead>\n",
       "    <tr style=\"text-align: right;\">\n",
       "      <th></th>\n",
       "      <th>Profit</th>\n",
       "      <th>Count</th>\n",
       "      <th>|Profit|</th>\n",
       "      <th>|Count|</th>\n",
       "    </tr>\n",
       "  </thead>\n",
       "  <tbody>\n",
       "    <tr>\n",
       "      <th>home</th>\n",
       "      <td>-8.619999</td>\n",
       "      <td>54.0</td>\n",
       "      <td>9.630000</td>\n",
       "      <td>24.0</td>\n",
       "    </tr>\n",
       "    <tr>\n",
       "      <th>draw</th>\n",
       "      <td>5.290001</td>\n",
       "      <td>71.0</td>\n",
       "      <td>-8.139999</td>\n",
       "      <td>42.0</td>\n",
       "    </tr>\n",
       "    <tr>\n",
       "      <th>away</th>\n",
       "      <td>-24.410000</td>\n",
       "      <td>54.0</td>\n",
       "      <td>-17.910000</td>\n",
       "      <td>37.0</td>\n",
       "    </tr>\n",
       "  </tbody>\n",
       "</table>\n",
       "</div>"
      ],
      "text/plain": [
       "        Profit   Count   |Profit|   |Count| \n",
       "home  -8.619999    54.0   9.630000      24.0\n",
       "draw   5.290001    71.0  -8.139999      42.0\n",
       "away -24.410000    54.0 -17.910000      37.0"
      ]
     },
     "execution_count": 11,
     "metadata": {},
     "output_type": "execute_result"
    }
   ],
   "source": [
    "evaluate(odds_loss, th2=0.99)"
   ]
  },
  {
   "cell_type": "code",
   "execution_count": 12,
   "metadata": {},
   "outputs": [
    {
     "data": {
      "text/html": [
       "<div>\n",
       "<style scoped>\n",
       "    .dataframe tbody tr th:only-of-type {\n",
       "        vertical-align: middle;\n",
       "    }\n",
       "\n",
       "    .dataframe tbody tr th {\n",
       "        vertical-align: top;\n",
       "    }\n",
       "\n",
       "    .dataframe thead th {\n",
       "        text-align: right;\n",
       "    }\n",
       "</style>\n",
       "<table border=\"1\" class=\"dataframe\">\n",
       "  <thead>\n",
       "    <tr style=\"text-align: right;\">\n",
       "      <th></th>\n",
       "      <th>Profit</th>\n",
       "      <th>Count</th>\n",
       "      <th>|Profit|</th>\n",
       "      <th>|Count|</th>\n",
       "    </tr>\n",
       "  </thead>\n",
       "  <tbody>\n",
       "    <tr>\n",
       "      <th>home</th>\n",
       "      <td>-8.619999</td>\n",
       "      <td>54.0</td>\n",
       "      <td>9.630000</td>\n",
       "      <td>24.0</td>\n",
       "    </tr>\n",
       "    <tr>\n",
       "      <th>draw</th>\n",
       "      <td>5.290001</td>\n",
       "      <td>71.0</td>\n",
       "      <td>-8.139999</td>\n",
       "      <td>42.0</td>\n",
       "    </tr>\n",
       "    <tr>\n",
       "      <th>away</th>\n",
       "      <td>-24.410000</td>\n",
       "      <td>54.0</td>\n",
       "      <td>-17.910000</td>\n",
       "      <td>37.0</td>\n",
       "    </tr>\n",
       "  </tbody>\n",
       "</table>\n",
       "</div>"
      ],
      "text/plain": [
       "        Profit   Count   |Profit|   |Count| \n",
       "home  -8.619999    54.0   9.630000      24.0\n",
       "draw   5.290001    71.0  -8.139999      42.0\n",
       "away -24.410000    54.0 -17.910000      37.0"
      ]
     },
     "execution_count": 12,
     "metadata": {},
     "output_type": "execute_result"
    }
   ],
   "source": [
    "evaluate(bet_loss, th2=0.99)"
   ]
  },
  {
   "cell_type": "markdown",
   "metadata": {},
   "source": [
    "Instead of using a softmax function and adding a fourth class, we can also switch to the sigmoid function as activation."
   ]
  },
  {
   "cell_type": "code",
   "execution_count": 13,
   "metadata": {},
   "outputs": [
    {
     "data": {
      "text/html": [
       "<div>\n",
       "<style scoped>\n",
       "    .dataframe tbody tr th:only-of-type {\n",
       "        vertical-align: middle;\n",
       "    }\n",
       "\n",
       "    .dataframe tbody tr th {\n",
       "        vertical-align: top;\n",
       "    }\n",
       "\n",
       "    .dataframe thead th {\n",
       "        text-align: right;\n",
       "    }\n",
       "</style>\n",
       "<table border=\"1\" class=\"dataframe\">\n",
       "  <thead>\n",
       "    <tr style=\"text-align: right;\">\n",
       "      <th></th>\n",
       "      <th>Profit</th>\n",
       "      <th>Count</th>\n",
       "      <th>|Profit|</th>\n",
       "      <th>|Count|</th>\n",
       "    </tr>\n",
       "  </thead>\n",
       "  <tbody>\n",
       "    <tr>\n",
       "      <th>home</th>\n",
       "      <td>9.780003</td>\n",
       "      <td>172.0</td>\n",
       "      <td>9.780003</td>\n",
       "      <td>172.0</td>\n",
       "    </tr>\n",
       "    <tr>\n",
       "      <th>draw</th>\n",
       "      <td>24.150002</td>\n",
       "      <td>172.0</td>\n",
       "      <td>24.150002</td>\n",
       "      <td>172.0</td>\n",
       "    </tr>\n",
       "    <tr>\n",
       "      <th>away</th>\n",
       "      <td>-53.830006</td>\n",
       "      <td>172.0</td>\n",
       "      <td>-53.830006</td>\n",
       "      <td>172.0</td>\n",
       "    </tr>\n",
       "  </tbody>\n",
       "</table>\n",
       "</div>"
      ],
      "text/plain": [
       "        Profit   Count   |Profit|   |Count| \n",
       "home   9.780003   172.0   9.780003     172.0\n",
       "draw  24.150002   172.0  24.150002     172.0\n",
       "away -53.830006   172.0 -53.830006     172.0"
      ]
     },
     "execution_count": 13,
     "metadata": {},
     "output_type": "execute_result"
    }
   ],
   "source": [
    "evaluate(odds_loss, th2=0.99, activation='sigmoid')"
   ]
  },
  {
   "cell_type": "code",
   "execution_count": 14,
   "metadata": {},
   "outputs": [
    {
     "data": {
      "text/html": [
       "<div>\n",
       "<style scoped>\n",
       "    .dataframe tbody tr th:only-of-type {\n",
       "        vertical-align: middle;\n",
       "    }\n",
       "\n",
       "    .dataframe tbody tr th {\n",
       "        vertical-align: top;\n",
       "    }\n",
       "\n",
       "    .dataframe thead th {\n",
       "        text-align: right;\n",
       "    }\n",
       "</style>\n",
       "<table border=\"1\" class=\"dataframe\">\n",
       "  <thead>\n",
       "    <tr style=\"text-align: right;\">\n",
       "      <th></th>\n",
       "      <th>Profit</th>\n",
       "      <th>Count</th>\n",
       "      <th>|Profit|</th>\n",
       "      <th>|Count|</th>\n",
       "    </tr>\n",
       "  </thead>\n",
       "  <tbody>\n",
       "    <tr>\n",
       "      <th>home</th>\n",
       "      <td>8.469999</td>\n",
       "      <td>60.0</td>\n",
       "      <td>-6.210001</td>\n",
       "      <td>21.0</td>\n",
       "    </tr>\n",
       "    <tr>\n",
       "      <th>draw</th>\n",
       "      <td>8.349999</td>\n",
       "      <td>64.0</td>\n",
       "      <td>-0.680000</td>\n",
       "      <td>43.0</td>\n",
       "    </tr>\n",
       "    <tr>\n",
       "      <th>away</th>\n",
       "      <td>-35.110001</td>\n",
       "      <td>85.0</td>\n",
       "      <td>-18.439999</td>\n",
       "      <td>59.0</td>\n",
       "    </tr>\n",
       "  </tbody>\n",
       "</table>\n",
       "</div>"
      ],
      "text/plain": [
       "        Profit   Count   |Profit|   |Count| \n",
       "home   8.469999    60.0  -6.210001      21.0\n",
       "draw   8.349999    64.0  -0.680000      43.0\n",
       "away -35.110001    85.0 -18.439999      59.0"
      ]
     },
     "execution_count": 14,
     "metadata": {},
     "output_type": "execute_result"
    }
   ],
   "source": [
    "evaluate(bet_loss, th2=0.99, activation='sigmoid')"
   ]
  },
  {
   "cell_type": "code",
   "execution_count": 15,
   "metadata": {},
   "outputs": [
    {
     "data": {
      "text/html": [
       "<div>\n",
       "<style scoped>\n",
       "    .dataframe tbody tr th:only-of-type {\n",
       "        vertical-align: middle;\n",
       "    }\n",
       "\n",
       "    .dataframe tbody tr th {\n",
       "        vertical-align: top;\n",
       "    }\n",
       "\n",
       "    .dataframe thead th {\n",
       "        text-align: right;\n",
       "    }\n",
       "</style>\n",
       "<table border=\"1\" class=\"dataframe\">\n",
       "  <thead>\n",
       "    <tr style=\"text-align: right;\">\n",
       "      <th></th>\n",
       "      <th>Profit</th>\n",
       "      <th>Count</th>\n",
       "      <th>|Profit|</th>\n",
       "      <th>|Count|</th>\n",
       "    </tr>\n",
       "  </thead>\n",
       "  <tbody>\n",
       "    <tr>\n",
       "      <th>home</th>\n",
       "      <td>9.390000</td>\n",
       "      <td>54.0</td>\n",
       "      <td>11.94</td>\n",
       "      <td>36.0</td>\n",
       "    </tr>\n",
       "    <tr>\n",
       "      <th>draw</th>\n",
       "      <td>-4.120000</td>\n",
       "      <td>61.0</td>\n",
       "      <td>-6.62</td>\n",
       "      <td>54.0</td>\n",
       "    </tr>\n",
       "    <tr>\n",
       "      <th>away</th>\n",
       "      <td>-19.849998</td>\n",
       "      <td>58.0</td>\n",
       "      <td>-16.65</td>\n",
       "      <td>39.0</td>\n",
       "    </tr>\n",
       "  </tbody>\n",
       "</table>\n",
       "</div>"
      ],
      "text/plain": [
       "        Profit   Count   |Profit|   |Count| \n",
       "home   9.390000    54.0      11.94      36.0\n",
       "draw  -4.120000    61.0      -6.62      54.0\n",
       "away -19.849998    58.0     -16.65      39.0"
      ]
     },
     "execution_count": 15,
     "metadata": {},
     "output_type": "execute_result"
    }
   ],
   "source": [
    "evaluate(darts_loss, th2=0.99)"
   ]
  },
  {
   "cell_type": "code",
   "execution_count": 16,
   "metadata": {},
   "outputs": [
    {
     "data": {
      "text/html": [
       "<div>\n",
       "<style scoped>\n",
       "    .dataframe tbody tr th:only-of-type {\n",
       "        vertical-align: middle;\n",
       "    }\n",
       "\n",
       "    .dataframe tbody tr th {\n",
       "        vertical-align: top;\n",
       "    }\n",
       "\n",
       "    .dataframe thead th {\n",
       "        text-align: right;\n",
       "    }\n",
       "</style>\n",
       "<table border=\"1\" class=\"dataframe\">\n",
       "  <thead>\n",
       "    <tr style=\"text-align: right;\">\n",
       "      <th></th>\n",
       "      <th>Profit</th>\n",
       "      <th>Count</th>\n",
       "      <th>|Profit|</th>\n",
       "      <th>|Count|</th>\n",
       "    </tr>\n",
       "  </thead>\n",
       "  <tbody>\n",
       "    <tr>\n",
       "      <th>home</th>\n",
       "      <td>0.710001</td>\n",
       "      <td>63.0</td>\n",
       "      <td>9.159999</td>\n",
       "      <td>44.0</td>\n",
       "    </tr>\n",
       "    <tr>\n",
       "      <th>draw</th>\n",
       "      <td>-0.190000</td>\n",
       "      <td>68.0</td>\n",
       "      <td>0.770000</td>\n",
       "      <td>39.0</td>\n",
       "    </tr>\n",
       "    <tr>\n",
       "      <th>away</th>\n",
       "      <td>-29.760002</td>\n",
       "      <td>58.0</td>\n",
       "      <td>-6.469999</td>\n",
       "      <td>30.0</td>\n",
       "    </tr>\n",
       "  </tbody>\n",
       "</table>\n",
       "</div>"
      ],
      "text/plain": [
       "        Profit   Count   |Profit|   |Count| \n",
       "home   0.710001    63.0   9.159999      44.0\n",
       "draw  -0.190000    68.0   0.770000      39.0\n",
       "away -29.760002    58.0  -6.469999      30.0"
      ]
     },
     "execution_count": 16,
     "metadata": {},
     "output_type": "execute_result"
    }
   ],
   "source": [
    "evaluate(darts_loss, th2=0.99, activation='sigmoid')"
   ]
  },
  {
   "cell_type": "markdown",
   "metadata": {},
   "source": [
    "Apparently, the `darts_loss` function generates most profits if we take all matches into account.\n",
    "\n",
    "### Adding a category\n",
    "\n",
    "Like in the same [article](https://medium.com/@media_73863/machine-learning-for-sports-betting-not-a-basic-classification-problem-b42ae4900782),\n",
    "I thought about adding a category which would classify matches for which it is not opportune to bet.\n",
    "\n",
    "In order to do this, we design a fourth class with odds set to 1.\n",
    "If the network decides to place this bet, no money will be lost or won."
   ]
  },
  {
   "cell_type": "code",
   "execution_count": 17,
   "metadata": {},
   "outputs": [],
   "source": [
    "d_train = c_train.copy()\n",
    "d_test = c_test.copy()\n",
    "d_train['no-bet'] = 1\n",
    "d_test['no-bet'] = 1"
   ]
  },
  {
   "cell_type": "code",
   "execution_count": 18,
   "metadata": {},
   "outputs": [
    {
     "data": {
      "text/html": [
       "<div>\n",
       "<style scoped>\n",
       "    .dataframe tbody tr th:only-of-type {\n",
       "        vertical-align: middle;\n",
       "    }\n",
       "\n",
       "    .dataframe tbody tr th {\n",
       "        vertical-align: top;\n",
       "    }\n",
       "\n",
       "    .dataframe thead th {\n",
       "        text-align: right;\n",
       "    }\n",
       "</style>\n",
       "<table border=\"1\" class=\"dataframe\">\n",
       "  <thead>\n",
       "    <tr style=\"text-align: right;\">\n",
       "      <th></th>\n",
       "      <th>Profit</th>\n",
       "      <th>Count</th>\n",
       "      <th>|Profit|</th>\n",
       "      <th>|Count|</th>\n",
       "    </tr>\n",
       "  </thead>\n",
       "  <tbody>\n",
       "    <tr>\n",
       "      <th>home</th>\n",
       "      <td>-6.389999</td>\n",
       "      <td>37.0</td>\n",
       "      <td>-4.28</td>\n",
       "      <td>28.0</td>\n",
       "    </tr>\n",
       "    <tr>\n",
       "      <th>draw</th>\n",
       "      <td>-14.260000</td>\n",
       "      <td>34.0</td>\n",
       "      <td>1.49</td>\n",
       "      <td>15.0</td>\n",
       "    </tr>\n",
       "    <tr>\n",
       "      <th>away</th>\n",
       "      <td>-12.450001</td>\n",
       "      <td>59.0</td>\n",
       "      <td>-14.23</td>\n",
       "      <td>38.0</td>\n",
       "    </tr>\n",
       "    <tr>\n",
       "      <th>no-bet</th>\n",
       "      <td>0.000000</td>\n",
       "      <td>0.0</td>\n",
       "      <td>0.00</td>\n",
       "      <td>41.0</td>\n",
       "    </tr>\n",
       "  </tbody>\n",
       "</table>\n",
       "</div>"
      ],
      "text/plain": [
       "          Profit   Count   |Profit|   |Count| \n",
       "home    -6.389999    37.0      -4.28      28.0\n",
       "draw   -14.260000    34.0       1.49      15.0\n",
       "away   -12.450001    59.0     -14.23      38.0\n",
       "no-bet   0.000000     0.0       0.00      41.0"
      ]
     },
     "execution_count": 18,
     "metadata": {},
     "output_type": "execute_result"
    }
   ],
   "source": [
    "evaluate(darts_loss, y_train=d_train, y_test=d_test, th2=0.99)"
   ]
  },
  {
   "cell_type": "markdown",
   "metadata": {},
   "source": [
    "Still not making profit with this scheme. Let's add a [batch normalization](https://towardsdatascience.com/dont-use-dropout-in-convolutional-networks-81486c823c16) step.\n"
   ]
  },
  {
   "cell_type": "code",
   "execution_count": 19,
   "metadata": {},
   "outputs": [
    {
     "data": {
      "text/html": [
       "<div>\n",
       "<style scoped>\n",
       "    .dataframe tbody tr th:only-of-type {\n",
       "        vertical-align: middle;\n",
       "    }\n",
       "\n",
       "    .dataframe tbody tr th {\n",
       "        vertical-align: top;\n",
       "    }\n",
       "\n",
       "    .dataframe thead th {\n",
       "        text-align: right;\n",
       "    }\n",
       "</style>\n",
       "<table border=\"1\" class=\"dataframe\">\n",
       "  <thead>\n",
       "    <tr style=\"text-align: right;\">\n",
       "      <th></th>\n",
       "      <th>Profit</th>\n",
       "      <th>Count</th>\n",
       "      <th>|Profit|</th>\n",
       "      <th>|Count|</th>\n",
       "    </tr>\n",
       "  </thead>\n",
       "  <tbody>\n",
       "    <tr>\n",
       "      <th>home</th>\n",
       "      <td>2.620001</td>\n",
       "      <td>28.0</td>\n",
       "      <td>-2.97</td>\n",
       "      <td>15.0</td>\n",
       "    </tr>\n",
       "    <tr>\n",
       "      <th>draw</th>\n",
       "      <td>4.050000</td>\n",
       "      <td>46.0</td>\n",
       "      <td>7.56</td>\n",
       "      <td>26.0</td>\n",
       "    </tr>\n",
       "    <tr>\n",
       "      <th>away</th>\n",
       "      <td>-13.309999</td>\n",
       "      <td>24.0</td>\n",
       "      <td>0.89</td>\n",
       "      <td>8.0</td>\n",
       "    </tr>\n",
       "    <tr>\n",
       "      <th>no-bet</th>\n",
       "      <td>0.000000</td>\n",
       "      <td>0.0</td>\n",
       "      <td>0.00</td>\n",
       "      <td>51.0</td>\n",
       "    </tr>\n",
       "  </tbody>\n",
       "</table>\n",
       "</div>"
      ],
      "text/plain": [
       "          Profit   Count   |Profit|   |Count| \n",
       "home     2.620001    28.0      -2.97      15.0\n",
       "draw     4.050000    46.0       7.56      26.0\n",
       "away   -13.309999    24.0       0.89       8.0\n",
       "no-bet   0.000000     0.0       0.00      51.0"
      ]
     },
     "execution_count": 19,
     "metadata": {},
     "output_type": "execute_result"
    }
   ],
   "source": [
    "evaluate(darts_loss, batch_size=50, y_train=d_train, y_test=d_test, normalize=True, th2=0.99)"
   ]
  },
  {
   "cell_type": "markdown",
   "metadata": {},
   "source": [
    "# Cross validation\n",
    "\n",
    "Like with all good experiments, only cross validation will give better insights."
   ]
  },
  {
   "cell_type": "code",
   "execution_count": 20,
   "metadata": {},
   "outputs": [],
   "source": [
    "from sklearn.model_selection import KFold\n",
    "kfold = KFold(n_splits=20, random_state=42)\n",
    "\n",
    "from IPython.display import clear_output\n",
    "\n",
    "def cross_validate(epochs=200, loss=bet_loss, risk=1, batch_size=500, output_classes=3, \n",
    "                   normalize=False, activation='softmax', verbose=False, hidden_layer=[10], drop_odds=False, th2=0.99):\n",
    "    results = []\n",
    "    models = []\n",
    "    predictions = []\n",
    "    odds = []\n",
    "\n",
    "    for i, (trainidx, valididx) in enumerate(tqdm(list(kfold.split(df)))):\n",
    "        train = df.iloc[trainidx]\n",
    "        test = df.iloc[valididx]\n",
    "        train_features = train.drop(columns=['result','date'])\n",
    "        train_labels = train.result.copy()\n",
    "        test_features = test.drop(columns=['result','date'])\n",
    "        test_labels = test.result.copy()\n",
    "        scaler = StandardScaler()\n",
    "\n",
    "        if drop_odds:\n",
    "            trf = train_features.drop(columns=['odds-home','odds-draw','odds-away'])\n",
    "            tef = test_features.drop(columns=['odds-home','odds-draw','odds-away'])\n",
    "\n",
    "            X_train = scaler.fit_transform(trf.astype(float))\n",
    "            X_test = scaler.transform(tef.astype(float))\n",
    "        else:\n",
    "            X_train = scaler.fit_transform(train_features.astype(float))\n",
    "            X_test = scaler.transform(test_features.astype(float))\n",
    "        \n",
    "        encoder = LabelEncoder()\n",
    "        Y_train = -encoder.fit_transform(train_labels) +2\n",
    "        Y_test = -encoder.transform(test_labels) +2\n",
    "        y_train = np_utils.to_categorical(Y_train)\n",
    "        y_test = np_utils.to_categorical(Y_test)    \n",
    "        odds_train = train_features[['odds-home','odds-draw','odds-away']]\n",
    "        odds_test = test_features[['odds-home','odds-draw','odds-away']]\n",
    "\n",
    "        c_train = odds_train * (2 * y_train - 1)\n",
    "        c_test = odds_test * (2 * y_test - 1)\n",
    "        if output_classes == 4:\n",
    "            c_train['no-bet'] = risk\n",
    "            c_test['no-bet'] = risk\n",
    "\n",
    "        model = common.construct_model(input_classes = X_train.shape[1], loss=loss, \n",
    "                                       hidden_layer = hidden_layer,\n",
    "                                        output_classes=output_classes, metrics=['accuracy'] + common.bet_metrics(),\n",
    "                                        normalize=normalize, activation=activation)\n",
    "\n",
    "        _ = model.fit(X_train, c_train,\n",
    "              epochs=epochs,\n",
    "              batch_size=batch_size, verbose=0,\n",
    "              validation_data = [X_test, c_test],\n",
    "              callbacks=[keras.callbacks.TensorBoard(log_dir='./logs/fold_%02d' % i, write_graph=True), \n",
    "                         TQDMNotebookCallback(show_inner=False, leave_outer=False)]\n",
    "         )    \n",
    "\n",
    "        cm = common.performance(model, X_test, c_test, th2=th2)\n",
    "        results.append(cm)\n",
    "        models.append(model)\n",
    "        \n",
    "        predictions.append(model.predict(X_test))\n",
    "        odds.append(c_test)\n",
    "\n",
    "        if verbose:\n",
    "            display(cm)\n",
    "    \n",
    "    clear_output()\n",
    "        \n",
    "    return results, (models, predictions, odds)"
   ]
  },
  {
   "cell_type": "markdown",
   "metadata": {},
   "source": [
    "## Custom loss function"
   ]
  },
  {
   "cell_type": "code",
   "execution_count": 41,
   "metadata": {},
   "outputs": [],
   "source": [
    "results, models = cross_validate(loss=darts_loss, output_classes=4, risk=1, batch_size=50, normalize=True, th2=0.99)"
   ]
  },
  {
   "cell_type": "code",
   "execution_count": 43,
   "metadata": {},
   "outputs": [
    {
     "data": {
      "text/html": [
       "<div>\n",
       "<style scoped>\n",
       "    .dataframe tbody tr th:only-of-type {\n",
       "        vertical-align: middle;\n",
       "    }\n",
       "\n",
       "    .dataframe tbody tr th {\n",
       "        vertical-align: top;\n",
       "    }\n",
       "\n",
       "    .dataframe thead th {\n",
       "        text-align: right;\n",
       "    }\n",
       "</style>\n",
       "<table border=\"1\" class=\"dataframe\">\n",
       "  <thead>\n",
       "    <tr style=\"text-align: right;\">\n",
       "      <th></th>\n",
       "      <th>Profit</th>\n",
       "      <th>Count</th>\n",
       "      <th>|Profit|</th>\n",
       "      <th>|Count|</th>\n",
       "    </tr>\n",
       "  </thead>\n",
       "  <tbody>\n",
       "    <tr>\n",
       "      <th>home</th>\n",
       "      <td>-17.010008</td>\n",
       "      <td>1210.0</td>\n",
       "      <td>-34.419998</td>\n",
       "      <td>852.0</td>\n",
       "    </tr>\n",
       "    <tr>\n",
       "      <th>draw</th>\n",
       "      <td>19.210003</td>\n",
       "      <td>640.0</td>\n",
       "      <td>20.189999</td>\n",
       "      <td>274.0</td>\n",
       "    </tr>\n",
       "    <tr>\n",
       "      <th>away</th>\n",
       "      <td>-61.849998</td>\n",
       "      <td>526.0</td>\n",
       "      <td>-34.820000</td>\n",
       "      <td>243.0</td>\n",
       "    </tr>\n",
       "    <tr>\n",
       "      <th>no-bet</th>\n",
       "      <td>0.000000</td>\n",
       "      <td>0.0</td>\n",
       "      <td>0.000000</td>\n",
       "      <td>765.0</td>\n",
       "    </tr>\n",
       "  </tbody>\n",
       "</table>\n",
       "</div>"
      ],
      "text/plain": [
       "          Profit   Count   |Profit|   |Count| \n",
       "home   -17.010008  1210.0 -34.419998     852.0\n",
       "draw    19.210003   640.0  20.189999     274.0\n",
       "away   -61.849998   526.0 -34.820000     243.0\n",
       "no-bet   0.000000     0.0   0.000000     765.0"
      ]
     },
     "execution_count": 43,
     "metadata": {},
     "output_type": "execute_result"
    }
   ],
   "source": [
    "result = pd.concat({n: df for n, df in enumerate(results)},axis=0)\n",
    "result.sum(level=1)"
   ]
  },
  {
   "cell_type": "markdown",
   "metadata": {},
   "source": [
    "We are now looking at the profit for a specific threshold. Maybe it's better to look at the numbers at various thresholds."
   ]
  },
  {
   "cell_type": "code",
   "execution_count": 44,
   "metadata": {},
   "outputs": [],
   "source": [
    "def abs_profits(models, prob_range = np.arange(0,1.0, 0.001)):\n",
    "    probs = np.concatenate(models[1])\n",
    "    odds = np.concatenate(models[2])\n",
    "\n",
    "    results = []\n",
    "    for j in range(3):\n",
    "        result = []\n",
    "        for i in prob_range:\n",
    "            sel = probs > i\n",
    "            result.append( (probs * np.clip(odds-1,-1,np.inf))[sel[:,j]].sum())\n",
    "        results.append(result)\n",
    "    df = pd.DataFrame(results)\n",
    "    df.columns = prob_range\n",
    "    df.index = ['H','D','A']\n",
    "    return df.T"
   ]
  },
  {
   "cell_type": "code",
   "execution_count": 45,
   "metadata": {},
   "outputs": [
    {
     "data": {
      "image/png": "[encoded data removed]",
      "text/plain": [
       "<Figure size 432x288 with 1 Axes>"
      ]
     },
     "metadata": {
      "needs_background": "light"
     },
     "output_type": "display_data"
    }
   ],
   "source": [
    "%matplotlib inline\n",
    "p = abs_profits(models)\n",
    "a  = p.plot()\n",
    "_ = a.axhline(y=0, color='k')"
   ]
  },
  {
   "cell_type": "markdown",
   "metadata": {},
   "source": [
    "If we would have followed our model and would only bet on the draw, then we would have made some profit.\n",
    "\n",
    "But again, if we select the bets for a specific dataset, we should also investigate if maybe it would be \n",
    "better to also follow the bookmakers."
   ]
  },
  {
   "cell_type": "code",
   "execution_count": 47,
   "metadata": {},
   "outputs": [],
   "source": [
    "def follow_bookmakers(df):\n",
    "    d = (df[df['odds-draw'] == df[['odds-home','odds-away','odds-draw']].max(axis=1)]['odds-draw'] * (df['result'] == 'D') -1).sum()\n",
    "    h = (df[df['odds-home'] == df[['odds-home','odds-away','odds-draw']].max(axis=1)]['odds-home'] * (df['result'] == 'H') -1).sum()\n",
    "    a = (df[df['odds-away'] == df[['odds-home','odds-away','odds-draw']].max(axis=1)]['odds-away'] * (df['result'] == 'A') -1).sum()\n",
    "    return h, d, a"
   ]
  },
  {
   "cell_type": "code",
   "execution_count": 48,
   "metadata": {},
   "outputs": [
    {
     "data": {
      "text/plain": [
       "(37.11, 71.44, -205.17)"
      ]
     },
     "execution_count": 48,
     "metadata": {},
     "output_type": "execute_result"
    }
   ],
   "source": [
    "follow_bookmakers(df)"
   ]
  },
  {
   "cell_type": "markdown",
   "metadata": {},
   "source": [
    "For this particular dataset, it would have made sense to follow the bookmakers for home and draw predictions.\n",
    "But in general, our model does a better prediction as following the bookmakers.\n",
    "\n",
    "Let's extend our datamodel to include all leagues.\n",
    "\n",
    "# All leagues"
   ]
  },
  {
   "cell_type": "code",
   "execution_count": 49,
   "metadata": {},
   "outputs": [],
   "source": [
    "df = pd.read_csv('all_processed.csv')"
   ]
  },
  {
   "cell_type": "markdown",
   "metadata": {},
   "source": [
    "The odds over this particular dataset should be distributed more evenly."
   ]
  },
  {
   "cell_type": "code",
   "execution_count": 51,
   "metadata": {},
   "outputs": [
    {
     "data": {
      "text/plain": [
       "(-128.97, -219.87000000000003, -1336.98)"
      ]
     },
     "execution_count": 51,
     "metadata": {},
     "output_type": "execute_result"
    }
   ],
   "source": [
    "follow_bookmakers(df)"
   ]
  },
  {
   "cell_type": "markdown",
   "metadata": {},
   "source": [
    "Judging on this data, I would guess that our model will pick up the home matches first, followed by the draws.\n",
    "\n",
    "Based on the huge loss of the away matches, these matches should be excluded from the model, unless some huge profit \n",
    "would be associated with the away matches"
   ]
  },
  {
   "cell_type": "code",
   "execution_count": 53,
   "metadata": {},
   "outputs": [],
   "source": [
    "all_results, all_models = cross_validate(loss=odds_loss, output_classes=4, risk=1, batch_size=50, normalize=True, th2=0.99)"
   ]
  },
  {
   "cell_type": "code",
   "execution_count": 54,
   "metadata": {},
   "outputs": [
    {
     "data": {
      "text/html": [
       "<div>\n",
       "<style scoped>\n",
       "    .dataframe tbody tr th:only-of-type {\n",
       "        vertical-align: middle;\n",
       "    }\n",
       "\n",
       "    .dataframe tbody tr th {\n",
       "        vertical-align: top;\n",
       "    }\n",
       "\n",
       "    .dataframe thead th {\n",
       "        text-align: right;\n",
       "    }\n",
       "</style>\n",
       "<table border=\"1\" class=\"dataframe\">\n",
       "  <thead>\n",
       "    <tr style=\"text-align: right;\">\n",
       "      <th></th>\n",
       "      <th>Profit</th>\n",
       "      <th>Count</th>\n",
       "      <th>|Profit|</th>\n",
       "      <th>|Count|</th>\n",
       "    </tr>\n",
       "  </thead>\n",
       "  <tbody>\n",
       "    <tr>\n",
       "      <th>home</th>\n",
       "      <td>-36.290012</td>\n",
       "      <td>1732.0</td>\n",
       "      <td>-3.750002</td>\n",
       "      <td>919.0</td>\n",
       "    </tr>\n",
       "    <tr>\n",
       "      <th>draw</th>\n",
       "      <td>-31.810005</td>\n",
       "      <td>348.0</td>\n",
       "      <td>-14.929999</td>\n",
       "      <td>77.0</td>\n",
       "    </tr>\n",
       "    <tr>\n",
       "      <th>away</th>\n",
       "      <td>0.000000</td>\n",
       "      <td>0.0</td>\n",
       "      <td>0.000000</td>\n",
       "      <td>0.0</td>\n",
       "    </tr>\n",
       "    <tr>\n",
       "      <th>no-bet</th>\n",
       "      <td>0.000000</td>\n",
       "      <td>0.0</td>\n",
       "      <td>0.000000</td>\n",
       "      <td>13543.0</td>\n",
       "    </tr>\n",
       "  </tbody>\n",
       "</table>\n",
       "</div>"
      ],
      "text/plain": [
       "          Profit   Count   |Profit|   |Count| \n",
       "home   -36.290012  1732.0  -3.750002     919.0\n",
       "draw   -31.810005   348.0 -14.929999      77.0\n",
       "away     0.000000     0.0   0.000000       0.0\n",
       "no-bet   0.000000     0.0   0.000000   13543.0"
      ]
     },
     "execution_count": 54,
     "metadata": {},
     "output_type": "execute_result"
    }
   ],
   "source": [
    "result = pd.concat({n: df for n, df in enumerate(all_results)},axis=0)\n",
    "result.sum(level=1)"
   ]
  },
  {
   "cell_type": "code",
   "execution_count": 55,
   "metadata": {},
   "outputs": [],
   "source": [
    "p = abs_profits(all_models)"
   ]
  },
  {
   "cell_type": "code",
   "execution_count": 58,
   "metadata": {},
   "outputs": [
    {
     "data": {
      "image/png": "[encoded data removed]",
      "text/plain": [
       "<Figure size 432x288 with 1 Axes>"
      ]
     },
     "metadata": {
      "needs_background": "light"
     },
     "output_type": "display_data"
    }
   ],
   "source": [
    "a  = p[0:].plot()\n",
    "_ = a.axhline(y=0, color='k')"
   ]
  },
  {
   "cell_type": "markdown",
   "metadata": {},
   "source": [
    "From a certain threshold, we make profit for the home teams, bot not for the draw matches.\n",
    "Which should have been expected because of the nature of our dataset."
   ]
  },
  {
   "cell_type": "code",
   "execution_count": 60,
   "metadata": {},
   "outputs": [],
   "source": [
    "all_results, all_models = cross_validate(loss=darts_loss, output_classes=4, batch_size=50, normalize=True, th2=0.99)"
   ]
  },
  {
   "cell_type": "code",
   "execution_count": 64,
   "metadata": {},
   "outputs": [
    {
     "data": {
      "text/html": [
       "<div>\n",
       "<style scoped>\n",
       "    .dataframe tbody tr th:only-of-type {\n",
       "        vertical-align: middle;\n",
       "    }\n",
       "\n",
       "    .dataframe tbody tr th {\n",
       "        vertical-align: top;\n",
       "    }\n",
       "\n",
       "    .dataframe thead th {\n",
       "        text-align: right;\n",
       "    }\n",
       "</style>\n",
       "<table border=\"1\" class=\"dataframe\">\n",
       "  <thead>\n",
       "    <tr style=\"text-align: right;\">\n",
       "      <th></th>\n",
       "      <th>Profit</th>\n",
       "      <th>Count</th>\n",
       "      <th>|Profit|</th>\n",
       "      <th>|Count|</th>\n",
       "    </tr>\n",
       "  </thead>\n",
       "  <tbody>\n",
       "    <tr>\n",
       "      <th>home</th>\n",
       "      <td>-247.239975</td>\n",
       "      <td>4874.0</td>\n",
       "      <td>-77.560005</td>\n",
       "      <td>2952.0</td>\n",
       "    </tr>\n",
       "    <tr>\n",
       "      <th>draw</th>\n",
       "      <td>-44.489998</td>\n",
       "      <td>1434.0</td>\n",
       "      <td>-44.109997</td>\n",
       "      <td>287.0</td>\n",
       "    </tr>\n",
       "    <tr>\n",
       "      <th>away</th>\n",
       "      <td>-105.050003</td>\n",
       "      <td>2452.0</td>\n",
       "      <td>-14.570005</td>\n",
       "      <td>734.0</td>\n",
       "    </tr>\n",
       "    <tr>\n",
       "      <th>no-bet</th>\n",
       "      <td>0.000000</td>\n",
       "      <td>0.0</td>\n",
       "      <td>0.000000</td>\n",
       "      <td>5981.0</td>\n",
       "    </tr>\n",
       "  </tbody>\n",
       "</table>\n",
       "</div>"
      ],
      "text/plain": [
       "           Profit   Count   |Profit|   |Count| \n",
       "home   -247.239975  4874.0 -77.560005    2952.0\n",
       "draw    -44.489998  1434.0 -44.109997     287.0\n",
       "away   -105.050003  2452.0 -14.570005     734.0\n",
       "no-bet    0.000000     0.0   0.000000    5981.0"
      ]
     },
     "execution_count": 64,
     "metadata": {},
     "output_type": "execute_result"
    }
   ],
   "source": [
    "result = pd.concat({n: df for n, df in enumerate(all_results)},axis=0)\n",
    "result.sum(level=1)"
   ]
  },
  {
   "cell_type": "code",
   "execution_count": 65,
   "metadata": {},
   "outputs": [],
   "source": [
    "p = abs_profits(all_models)"
   ]
  },
  {
   "cell_type": "code",
   "execution_count": 66,
   "metadata": {},
   "outputs": [
    {
     "data": {
      "image/png": "[encoded data removed]",
      "text/plain": [
       "<Figure size 432x288 with 1 Axes>"
      ]
     },
     "metadata": {
      "needs_background": "light"
     },
     "output_type": "display_data"
    }
   ],
   "source": [
    "a  = p[0.5:].plot()\n",
    "_ = a.axhline(y=0, color='k')"
   ]
  },
  {
   "cell_type": "code",
   "execution_count": 67,
   "metadata": {},
   "outputs": [],
   "source": [
    "all_results, all_models = cross_validate(loss=darts_loss, batch_size=50, normalize=True, th2=0.99, activation=\"sigmoid\")"
   ]
  },
  {
   "cell_type": "code",
   "execution_count": 68,
   "metadata": {},
   "outputs": [],
   "source": [
    "p = abs_profits(all_models)"
   ]
  },
  {
   "cell_type": "code",
   "execution_count": 69,
   "metadata": {},
   "outputs": [
    {
     "data": {
      "image/png": "[encoded data removed]",
      "text/plain": [
       "<Figure size 432x288 with 1 Axes>"
      ]
     },
     "metadata": {
      "needs_background": "light"
     },
     "output_type": "display_data"
    }
   ],
   "source": [
    "a  = p[0.9:].plot()\n",
    "_ = a.axhline(y=0, color='k')"
   ]
  },
  {
   "cell_type": "code",
   "execution_count": 70,
   "metadata": {},
   "outputs": [],
   "source": [
    "all_results, all_models = cross_validate(loss=odds_loss, output_classes=4, risk=1, batch_size=50, normalize=True, hidden_layer=[20,20], th2=0.99)"
   ]
  },
  {
   "cell_type": "code",
   "execution_count": 83,
   "metadata": {},
   "outputs": [
    {
     "data": {
      "image/png": "[encoded data removed]",
      "text/plain": [
       "<Figure size 432x288 with 1 Axes>"
      ]
     },
     "metadata": {
      "needs_background": "light"
     },
     "output_type": "display_data"
    }
   ],
   "source": [
    "%matplotlib inline\n",
    "p = abs_profits(all_models)\n",
    "a  = p[0.5:].plot()\n",
    "_ = a.axhline(y=0, color='k')"
   ]
  },
  {
   "cell_type": "markdown",
   "metadata": {},
   "source": [
    "Finally we are making some profit, if we set the threshold for this model at 0.99."
   ]
  },
  {
   "cell_type": "code",
   "execution_count": 85,
   "metadata": {},
   "outputs": [
    {
     "data": {
      "text/plain": [
       "(89.68807741889958, 833)"
      ]
     },
     "execution_count": 85,
     "metadata": {},
     "output_type": "execute_result"
    }
   ],
   "source": [
    "probs = np.concatenate(all_models[1])\n",
    "odds = np.concatenate(all_models[2])\n",
    "sel = probs > 0.99\n",
    "(probs * np.clip(odds-1,-1,np.inf))[sel[:,0]].sum(), sel[:,0].sum()"
   ]
  },
  {
   "cell_type": "code",
   "execution_count": 86,
   "metadata": {},
   "outputs": [
    {
     "data": {
      "text/plain": [
       "0.10684273709483794"
      ]
     },
     "execution_count": 86,
     "metadata": {},
     "output_type": "execute_result"
    }
   ],
   "source": [
    "89 / 833"
   ]
  },
  {
   "cell_type": "markdown",
   "metadata": {},
   "source": [
    "On the 833 bets placed, a profit of 89 is gained, which is a little bit more than 10%.\n",
    "Not bad, but I have the feeling we need to look into hyperparameter optimization to\n",
    "get an even higher profit."
   ]
  }
 ],
 "metadata": {
  "kernelspec": {
   "display_name": "Python 3",
   "language": "python",
   "name": "python3"
  },
  "language_info": {
   "codemirror_mode": {
    "name": "ipython",
    "version": 3
   },
   "file_extension": ".py",
   "mimetype": "text/x-python",
   "name": "python",
   "nbconvert_exporter": "python",
   "pygments_lexer": "ipython3",
   "version": "3.6.7"
  }
 },
 "nbformat": 4,
 "nbformat_minor": 2
}
