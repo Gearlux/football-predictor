{
 "cells": [
  {
   "cell_type": "markdown",
   "metadata": {},
   "source": [
    "# A loss function defined to optimize our return\n",
    "\n",
    "In the selection of the bets to place, we have defined thresholds. \n",
    "Hereby not making a distinction between good bets and bad bets.\n",
    "\n",
    "In this notebook, we will try to implement a new loss function, designed to optimize our return.\n",
    "\n",
    "## Initialization"
   ]
  },
  {
   "cell_type": "code",
   "execution_count": 1,
   "metadata": {},
   "outputs": [
    {
     "name": "stderr",
     "output_type": "stream",
     "text": [
      "Using TensorFlow backend.\n"
     ]
    },
    {
     "name": "stdout",
     "output_type": "stream",
     "text": [
      "importing Jupyter notebook from common.ipynb\n"
     ]
    }
   ],
   "source": [
    "import dataset\n",
    "import keras\n",
    "import os\n",
    "\n",
    "import pandas as pd\n",
    "import numpy as np\n",
    "import tensorflow as tf\n",
    "\n",
    "# from keras import regularizers\n",
    "from keras import metrics\n",
    "# from keras.models import Sequential\n",
    "# from keras.layers import Dense, BatchNormalization\n",
    "# from keras.optimizers import Adagrad, Adam\n",
    "from keras.utils import np_utils\n",
    "from keras_tqdm import TQDMNotebookCallback\n",
    "\n",
    "from sklearn.preprocessing import StandardScaler, LabelEncoder\n",
    "\n",
    "from keras import backend as K\n",
    "\n",
    "import sys\n",
    "import import_notebook\n",
    "sys.meta_path.append(import_notebook.NotebookFinder())\n",
    "\n",
    "import common"
   ]
  },
  {
   "cell_type": "markdown",
   "metadata": {},
   "source": [
    "## Data Preparation"
   ]
  },
  {
   "cell_type": "code",
   "execution_count": 2,
   "metadata": {},
   "outputs": [],
   "source": [
    "np.set_printoptions(suppress=True)\n",
    "\n",
    "book = dataset.Dataset('data/book.csv')\n",
    "df = pd.DataFrame(book.processed_results)\n",
    "\n",
    "# df = pd.read_csv('all_processed.csv')\n",
    "\n",
    "TRAINING_SET_FRACTION = 0.95\n",
    "train_results_len = int(TRAINING_SET_FRACTION * df.shape[0])\n",
    "\n",
    "features, labels = common.get_feables(df)\n",
    "train_features = features[:train_results_len]\n",
    "test_features = features[train_results_len:]\n",
    "y_train = labels[:train_results_len]\n",
    "y_test = labels[train_results_len:]\n",
    "\n",
    "scaler = StandardScaler()\n",
    "X_train = scaler.fit_transform(train_features.astype(float))\n",
    "X_test = scaler.transform(test_features.astype(float))"
   ]
  },
  {
   "cell_type": "code",
   "execution_count": 3,
   "metadata": {},
   "outputs": [],
   "source": [
    "odds_train = train_features[['odds-home','odds-draw','odds-away']]\n",
    "odds_test = test_features[['odds-home','odds-draw','odds-away']]\n",
    "\n",
    "c_train = odds_train * (2 * y_train - 1)\n",
    "c_test = odds_test * (2 * y_test - 1)"
   ]
  },
  {
   "cell_type": "markdown",
   "metadata": {},
   "source": [
    "## Some utility functions"
   ]
  },
  {
   "cell_type": "code",
   "execution_count": 4,
   "metadata": {},
   "outputs": [],
   "source": [
    "def evaluate(loss, y_train=c_train, y_test=c_test, th1=0.05, th2=0.9, batch_size=500, normalize=False):\n",
    "    output_classes = y_train.shape[1]\n",
    "    name = '%s_%02d' % (str(loss.__qualname__), output_classes)\n",
    "    if output_classes == 4:\n",
    "        risk = d_train['no-bet'].mean()\n",
    "        if risk != 1:\n",
    "            name = name + '_risk_%3.2f' % y_test['no-bet'].mean()\n",
    "    if os.path.exists('logs/%s' % name):\n",
    "        try:\n",
    "            shutil.rmtree('logs/%s' % name)\n",
    "        except:\n",
    "            pass\n",
    "    model = common.construct_model(X_train.shape[1], output_classes=output_classes, loss=loss, normalize=normalize, metrics=['accuracy'] + common.bet_metrics())\n",
    "    _ = model.fit(X_train, y_train,\n",
    "      epochs=200,\n",
    "      batch_size=batch_size, verbose=0,\n",
    "      validation_data = [X_test, y_test],\n",
    "      callbacks=[keras.callbacks.TensorBoard(log_dir='./logs/%s' % name, write_graph=True), \n",
    "                 TQDMNotebookCallback(show_inner=False)]\n",
    "     )\n",
    "    return common.performance(model, X_test, y_test, th1=th1, th2=th2)"
   ]
  },
  {
   "cell_type": "code",
   "execution_count": 5,
   "metadata": {},
   "outputs": [],
   "source": [
    "_EPSILON = 10e-8\n",
    "\n",
    "def cat_loss(b_true, y_pred):\n",
    "    prob_true = K.clip(b_true, 0., 1.)\n",
    "    prob = K.clip(y_pred, _EPSILON, 1. - _EPSILON)\n",
    "    res = K.sum(prob_true * -K.log(prob), axis=-1)\n",
    "    return res"
   ]
  },
  {
   "cell_type": "markdown",
   "metadata": {},
   "source": [
    "## Reference\n",
    "\n",
    "Let's set a reference in terms of performance."
   ]
  },
  {
   "cell_type": "code",
   "execution_count": 6,
   "metadata": {},
   "outputs": [
    {
     "name": "stdout",
     "output_type": "stream",
     "text": [
      "WARNING:tensorflow:From /Users/gert/GitHub/MakingMoneyML/venv/lib/python3.6/site-packages/tensorflow/python/framework/op_def_library.py:263: colocate_with (from tensorflow.python.framework.ops) is deprecated and will be removed in a future version.\n",
      "Instructions for updating:\n",
      "Colocations handled automatically by placer.\n",
      "WARNING:tensorflow:From /Users/gert/GitHub/MakingMoneyML/venv/lib/python3.6/site-packages/tensorflow/python/ops/math_ops.py:3066: to_int32 (from tensorflow.python.ops.math_ops) is deprecated and will be removed in a future version.\n",
      "Instructions for updating:\n",
      "Use tf.cast instead.\n"
     ]
    },
    {
     "data": {
      "application/vnd.jupyter.widget-view+json": {
       "model_id": "6e4c04b50ecc40fd8b8817352c7c5316",
       "version_major": 2,
       "version_minor": 0
      },
      "text/plain": [
       "HBox(children=(IntProgress(value=0, description='Training', max=200, style=ProgressStyle(description_width='in…"
      ]
     },
     "metadata": {},
     "output_type": "display_data"
    },
    {
     "name": "stdout",
     "output_type": "stream",
     "text": [
      "\n"
     ]
    },
    {
     "data": {
      "text/html": [
       "<div>\n",
       "<style scoped>\n",
       "    .dataframe tbody tr th:only-of-type {\n",
       "        vertical-align: middle;\n",
       "    }\n",
       "\n",
       "    .dataframe tbody tr th {\n",
       "        vertical-align: top;\n",
       "    }\n",
       "\n",
       "    .dataframe thead th {\n",
       "        text-align: right;\n",
       "    }\n",
       "</style>\n",
       "<table border=\"1\" class=\"dataframe\">\n",
       "  <thead>\n",
       "    <tr style=\"text-align: right;\">\n",
       "      <th></th>\n",
       "      <th>Profit</th>\n",
       "      <th>Count</th>\n",
       "      <th>|Profit|</th>\n",
       "      <th>|Count|</th>\n",
       "    </tr>\n",
       "  </thead>\n",
       "  <tbody>\n",
       "    <tr>\n",
       "      <th>home</th>\n",
       "      <td>8.00</td>\n",
       "      <td>11.0</td>\n",
       "      <td>0.62</td>\n",
       "      <td>5.0</td>\n",
       "    </tr>\n",
       "    <tr>\n",
       "      <th>draw</th>\n",
       "      <td>-2.00</td>\n",
       "      <td>2.0</td>\n",
       "      <td>0.00</td>\n",
       "      <td>0.0</td>\n",
       "    </tr>\n",
       "    <tr>\n",
       "      <th>away</th>\n",
       "      <td>-0.84</td>\n",
       "      <td>13.0</td>\n",
       "      <td>-0.32</td>\n",
       "      <td>4.0</td>\n",
       "    </tr>\n",
       "  </tbody>\n",
       "</table>\n",
       "</div>"
      ],
      "text/plain": [
       "      Profit   Count   |Profit|   |Count| \n",
       "home     8.00    11.0       0.62       5.0\n",
       "draw    -2.00     2.0       0.00       0.0\n",
       "away    -0.84    13.0      -0.32       4.0"
      ]
     },
     "execution_count": 6,
     "metadata": {},
     "output_type": "execute_result"
    }
   ],
   "source": [
    "evaluate(cat_loss)"
   ]
  },
  {
   "cell_type": "markdown",
   "metadata": {},
   "source": [
    "Ways to generalize the model is to decrease the batch_size or add batch normalization.\n",
    "Batch normalization will be done in other notebooks, but let's see what the effect of the batch_size is."
   ]
  },
  {
   "cell_type": "code",
   "execution_count": 7,
   "metadata": {},
   "outputs": [
    {
     "data": {
      "application/vnd.jupyter.widget-view+json": {
       "model_id": "b77e5060c5a34fcf990424db35c002bc",
       "version_major": 2,
       "version_minor": 0
      },
      "text/plain": [
       "HBox(children=(IntProgress(value=0, description='Training', max=200, style=ProgressStyle(description_width='in…"
      ]
     },
     "metadata": {},
     "output_type": "display_data"
    },
    {
     "name": "stdout",
     "output_type": "stream",
     "text": [
      "\n"
     ]
    },
    {
     "data": {
      "text/html": [
       "<div>\n",
       "<style scoped>\n",
       "    .dataframe tbody tr th:only-of-type {\n",
       "        vertical-align: middle;\n",
       "    }\n",
       "\n",
       "    .dataframe tbody tr th {\n",
       "        vertical-align: top;\n",
       "    }\n",
       "\n",
       "    .dataframe thead th {\n",
       "        text-align: right;\n",
       "    }\n",
       "</style>\n",
       "<table border=\"1\" class=\"dataframe\">\n",
       "  <thead>\n",
       "    <tr style=\"text-align: right;\">\n",
       "      <th></th>\n",
       "      <th>Profit</th>\n",
       "      <th>Count</th>\n",
       "      <th>|Profit|</th>\n",
       "      <th>|Count|</th>\n",
       "    </tr>\n",
       "  </thead>\n",
       "  <tbody>\n",
       "    <tr>\n",
       "      <th>home</th>\n",
       "      <td>9.00</td>\n",
       "      <td>10.0</td>\n",
       "      <td>0.62</td>\n",
       "      <td>5.0</td>\n",
       "    </tr>\n",
       "    <tr>\n",
       "      <th>draw</th>\n",
       "      <td>0.50</td>\n",
       "      <td>3.0</td>\n",
       "      <td>0.00</td>\n",
       "      <td>0.0</td>\n",
       "    </tr>\n",
       "    <tr>\n",
       "      <th>away</th>\n",
       "      <td>-2.29</td>\n",
       "      <td>16.0</td>\n",
       "      <td>-0.32</td>\n",
       "      <td>4.0</td>\n",
       "    </tr>\n",
       "  </tbody>\n",
       "</table>\n",
       "</div>"
      ],
      "text/plain": [
       "      Profit   Count   |Profit|   |Count| \n",
       "home     9.00    10.0       0.62       5.0\n",
       "draw     0.50     3.0       0.00       0.0\n",
       "away    -2.29    16.0      -0.32       4.0"
      ]
     },
     "execution_count": 7,
     "metadata": {},
     "output_type": "execute_result"
    }
   ],
   "source": [
    "evaluate(cat_loss, batch_size=50)"
   ]
  },
  {
   "cell_type": "markdown",
   "metadata": {},
   "source": [
    "Besides from slower execution, the models seems to generalize a little bit better in terms of profit.\n",
    "The accuracy of both models is about the same, but the profit for the training set seems already very different.\n",
    "The same is true for the profit of the test set.\n",
    "\n",
    "## Custom loss function\n",
    "\n",
    "Because our goal is to optimize the profit, and not to predict as much outcomes as possible,\n",
    "we could also try to optimize the profit directly.\n",
    "\n",
    "\n",
    "* I have implemented the bet_loss function before reading this good article \n",
    "[Machine Learning for Sports betting: not a basic classification problem](https://medium.com/@media_73863/machine-learning-for-sports-betting-not-a-basic-classification-problem-b42ae4900782). To my opinion, both functions model the same. We will check this in this notebook. Our odds_loss function is also a little bit more compact than theirs. I am not sure that this improves readibility, but it should improve performance."
   ]
  },
  {
   "cell_type": "code",
   "execution_count": 8,
   "metadata": {},
   "outputs": [],
   "source": [
    "def odds_loss(b_true, y_pred):\n",
    "    profit = K.clip(b_true, 0., np.inf) \n",
    "    prob = K.clip(y_pred, _EPSILON, 1. - _EPSILON)\n",
    "    res2 = K.sum(profit * prob - 1 * (1 - prob), axis=-1)\n",
    "    return -res2\n",
    "\n",
    "def bet_loss(b_true, y_pred):\n",
    "    profit = K.clip(b_true, 0., np.inf) - 1\n",
    "    prob = K.clip(y_pred, _EPSILON, 1. - _EPSILON)\n",
    "    res2 = K.sum(profit * prob, axis=-1)\n",
    "    return -res2"
   ]
  },
  {
   "cell_type": "code",
   "execution_count": 9,
   "metadata": {},
   "outputs": [
    {
     "data": {
      "application/vnd.jupyter.widget-view+json": {
       "model_id": "19808d55b31a4b52a083dab4f6d5a374",
       "version_major": 2,
       "version_minor": 0
      },
      "text/plain": [
       "HBox(children=(IntProgress(value=0, description='Training', max=200, style=ProgressStyle(description_width='in…"
      ]
     },
     "metadata": {},
     "output_type": "display_data"
    },
    {
     "name": "stdout",
     "output_type": "stream",
     "text": [
      "\n"
     ]
    },
    {
     "data": {
      "text/html": [
       "<div>\n",
       "<style scoped>\n",
       "    .dataframe tbody tr th:only-of-type {\n",
       "        vertical-align: middle;\n",
       "    }\n",
       "\n",
       "    .dataframe tbody tr th {\n",
       "        vertical-align: top;\n",
       "    }\n",
       "\n",
       "    .dataframe thead th {\n",
       "        text-align: right;\n",
       "    }\n",
       "</style>\n",
       "<table border=\"1\" class=\"dataframe\">\n",
       "  <thead>\n",
       "    <tr style=\"text-align: right;\">\n",
       "      <th></th>\n",
       "      <th>Profit</th>\n",
       "      <th>Count</th>\n",
       "      <th>|Profit|</th>\n",
       "      <th>|Count|</th>\n",
       "    </tr>\n",
       "  </thead>\n",
       "  <tbody>\n",
       "    <tr>\n",
       "      <th>home</th>\n",
       "      <td>-8.619999</td>\n",
       "      <td>54.0</td>\n",
       "      <td>-1.019999</td>\n",
       "      <td>37.0</td>\n",
       "    </tr>\n",
       "    <tr>\n",
       "      <th>draw</th>\n",
       "      <td>5.290001</td>\n",
       "      <td>71.0</td>\n",
       "      <td>-9.000000</td>\n",
       "      <td>56.0</td>\n",
       "    </tr>\n",
       "    <tr>\n",
       "      <th>away</th>\n",
       "      <td>-24.410000</td>\n",
       "      <td>54.0</td>\n",
       "      <td>-20.910000</td>\n",
       "      <td>46.0</td>\n",
       "    </tr>\n",
       "  </tbody>\n",
       "</table>\n",
       "</div>"
      ],
      "text/plain": [
       "        Profit   Count   |Profit|   |Count| \n",
       "home  -8.619999    54.0  -1.019999      37.0\n",
       "draw   5.290001    71.0  -9.000000      56.0\n",
       "away -24.410000    54.0 -20.910000      46.0"
      ]
     },
     "execution_count": 9,
     "metadata": {},
     "output_type": "execute_result"
    }
   ],
   "source": [
    "evaluate(odds_loss)"
   ]
  },
  {
   "cell_type": "code",
   "execution_count": 10,
   "metadata": {},
   "outputs": [
    {
     "data": {
      "application/vnd.jupyter.widget-view+json": {
       "model_id": "069938a1ee1b4fb3a61e2a8d98f158b5",
       "version_major": 2,
       "version_minor": 0
      },
      "text/plain": [
       "HBox(children=(IntProgress(value=0, description='Training', max=200, style=ProgressStyle(description_width='in…"
      ]
     },
     "metadata": {},
     "output_type": "display_data"
    },
    {
     "name": "stdout",
     "output_type": "stream",
     "text": [
      "\n"
     ]
    },
    {
     "data": {
      "text/html": [
       "<div>\n",
       "<style scoped>\n",
       "    .dataframe tbody tr th:only-of-type {\n",
       "        vertical-align: middle;\n",
       "    }\n",
       "\n",
       "    .dataframe tbody tr th {\n",
       "        vertical-align: top;\n",
       "    }\n",
       "\n",
       "    .dataframe thead th {\n",
       "        text-align: right;\n",
       "    }\n",
       "</style>\n",
       "<table border=\"1\" class=\"dataframe\">\n",
       "  <thead>\n",
       "    <tr style=\"text-align: right;\">\n",
       "      <th></th>\n",
       "      <th>Profit</th>\n",
       "      <th>Count</th>\n",
       "      <th>|Profit|</th>\n",
       "      <th>|Count|</th>\n",
       "    </tr>\n",
       "  </thead>\n",
       "  <tbody>\n",
       "    <tr>\n",
       "      <th>home</th>\n",
       "      <td>-8.619999</td>\n",
       "      <td>54.0</td>\n",
       "      <td>-1.019999</td>\n",
       "      <td>37.0</td>\n",
       "    </tr>\n",
       "    <tr>\n",
       "      <th>draw</th>\n",
       "      <td>5.290001</td>\n",
       "      <td>71.0</td>\n",
       "      <td>-9.000000</td>\n",
       "      <td>56.0</td>\n",
       "    </tr>\n",
       "    <tr>\n",
       "      <th>away</th>\n",
       "      <td>-24.410000</td>\n",
       "      <td>54.0</td>\n",
       "      <td>-20.910000</td>\n",
       "      <td>46.0</td>\n",
       "    </tr>\n",
       "  </tbody>\n",
       "</table>\n",
       "</div>"
      ],
      "text/plain": [
       "        Profit   Count   |Profit|   |Count| \n",
       "home  -8.619999    54.0  -1.019999      37.0\n",
       "draw   5.290001    71.0  -9.000000      56.0\n",
       "away -24.410000    54.0 -20.910000      46.0"
      ]
     },
     "execution_count": 10,
     "metadata": {},
     "output_type": "execute_result"
    }
   ],
   "source": [
    "evaluate(bet_loss)"
   ]
  },
  {
   "cell_type": "markdown",
   "metadata": {},
   "source": [
    "It seems that both our implementations are equivalent. \n",
    "Let's focus on our implementation bet_loss.\n",
    "\n",
    "### Adding a category\n",
    "\n",
    "Like in the same [article](https://medium.com/@media_73863/machine-learning-for-sports-betting-not-a-basic-classification-problem-b42ae4900782),\n",
    "I thought about adding a category which would classify matches for which it is not opportune to bet.\n",
    "\n",
    "In order to do this, we design a fourth class with odds set to 1.\n",
    "If the network decides to place this bet, no money will be lost or won."
   ]
  },
  {
   "cell_type": "code",
   "execution_count": 11,
   "metadata": {},
   "outputs": [],
   "source": [
    "d_train = c_train.copy()\n",
    "d_test = c_test.copy()\n",
    "d_train['no-bet'] = 1\n",
    "d_test['no-bet'] = 1"
   ]
  },
  {
   "cell_type": "code",
   "execution_count": 12,
   "metadata": {},
   "outputs": [
    {
     "data": {
      "application/vnd.jupyter.widget-view+json": {
       "model_id": "1ff50f3c83e04f439bd332197958bfd8",
       "version_major": 2,
       "version_minor": 0
      },
      "text/plain": [
       "HBox(children=(IntProgress(value=0, description='Training', max=200, style=ProgressStyle(description_width='in…"
      ]
     },
     "metadata": {},
     "output_type": "display_data"
    },
    {
     "name": "stdout",
     "output_type": "stream",
     "text": [
      "\n"
     ]
    },
    {
     "data": {
      "text/html": [
       "<div>\n",
       "<style scoped>\n",
       "    .dataframe tbody tr th:only-of-type {\n",
       "        vertical-align: middle;\n",
       "    }\n",
       "\n",
       "    .dataframe tbody tr th {\n",
       "        vertical-align: top;\n",
       "    }\n",
       "\n",
       "    .dataframe thead th {\n",
       "        text-align: right;\n",
       "    }\n",
       "</style>\n",
       "<table border=\"1\" class=\"dataframe\">\n",
       "  <thead>\n",
       "    <tr style=\"text-align: right;\">\n",
       "      <th></th>\n",
       "      <th>Profit</th>\n",
       "      <th>Count</th>\n",
       "      <th>|Profit|</th>\n",
       "      <th>|Count|</th>\n",
       "    </tr>\n",
       "  </thead>\n",
       "  <tbody>\n",
       "    <tr>\n",
       "      <th>home</th>\n",
       "      <td>-2.810000</td>\n",
       "      <td>35.0</td>\n",
       "      <td>-1.600001</td>\n",
       "      <td>28.0</td>\n",
       "    </tr>\n",
       "    <tr>\n",
       "      <th>draw</th>\n",
       "      <td>10.110000</td>\n",
       "      <td>53.0</td>\n",
       "      <td>7.720000</td>\n",
       "      <td>35.0</td>\n",
       "    </tr>\n",
       "    <tr>\n",
       "      <th>away</th>\n",
       "      <td>-12.399999</td>\n",
       "      <td>47.0</td>\n",
       "      <td>-13.819999</td>\n",
       "      <td>39.0</td>\n",
       "    </tr>\n",
       "    <tr>\n",
       "      <th>no-bet</th>\n",
       "      <td>0.000000</td>\n",
       "      <td>0.0</td>\n",
       "      <td>0.000000</td>\n",
       "      <td>34.0</td>\n",
       "    </tr>\n",
       "  </tbody>\n",
       "</table>\n",
       "</div>"
      ],
      "text/plain": [
       "          Profit   Count   |Profit|   |Count| \n",
       "home    -2.810000    35.0  -1.600001      28.0\n",
       "draw    10.110000    53.0   7.720000      35.0\n",
       "away   -12.399999    47.0 -13.819999      39.0\n",
       "no-bet   0.000000     0.0   0.000000      34.0"
      ]
     },
     "execution_count": 12,
     "metadata": {},
     "output_type": "execute_result"
    }
   ],
   "source": [
    "evaluate(bet_loss, y_train=d_train, y_test=d_test)"
   ]
  },
  {
   "cell_type": "markdown",
   "metadata": {},
   "source": [
    "Still not making profit with this scheme. Let's add a [batch normalization](https://towardsdatascience.com/dont-use-dropout-in-convolutional-networks-81486c823c16) step."
   ]
  },
  {
   "cell_type": "code",
   "execution_count": 13,
   "metadata": {},
   "outputs": [
    {
     "data": {
      "application/vnd.jupyter.widget-view+json": {
       "model_id": "47b13d49e24c473da608e68926f4057f",
       "version_major": 2,
       "version_minor": 0
      },
      "text/plain": [
       "HBox(children=(IntProgress(value=0, description='Training', max=200, style=ProgressStyle(description_width='in…"
      ]
     },
     "metadata": {},
     "output_type": "display_data"
    },
    {
     "name": "stdout",
     "output_type": "stream",
     "text": [
      "\n"
     ]
    },
    {
     "data": {
      "text/html": [
       "<div>\n",
       "<style scoped>\n",
       "    .dataframe tbody tr th:only-of-type {\n",
       "        vertical-align: middle;\n",
       "    }\n",
       "\n",
       "    .dataframe tbody tr th {\n",
       "        vertical-align: top;\n",
       "    }\n",
       "\n",
       "    .dataframe thead th {\n",
       "        text-align: right;\n",
       "    }\n",
       "</style>\n",
       "<table border=\"1\" class=\"dataframe\">\n",
       "  <thead>\n",
       "    <tr style=\"text-align: right;\">\n",
       "      <th></th>\n",
       "      <th>Profit</th>\n",
       "      <th>Count</th>\n",
       "      <th>|Profit|</th>\n",
       "      <th>|Count|</th>\n",
       "    </tr>\n",
       "  </thead>\n",
       "  <tbody>\n",
       "    <tr>\n",
       "      <th>home</th>\n",
       "      <td>3.860000</td>\n",
       "      <td>34.0</td>\n",
       "      <td>4.809999</td>\n",
       "      <td>29.0</td>\n",
       "    </tr>\n",
       "    <tr>\n",
       "      <th>draw</th>\n",
       "      <td>9.889999</td>\n",
       "      <td>66.0</td>\n",
       "      <td>8.689999</td>\n",
       "      <td>64.0</td>\n",
       "    </tr>\n",
       "    <tr>\n",
       "      <th>away</th>\n",
       "      <td>-15.279998</td>\n",
       "      <td>46.0</td>\n",
       "      <td>-10.309999</td>\n",
       "      <td>36.0</td>\n",
       "    </tr>\n",
       "    <tr>\n",
       "      <th>no-bet</th>\n",
       "      <td>0.000000</td>\n",
       "      <td>0.0</td>\n",
       "      <td>0.000000</td>\n",
       "      <td>25.0</td>\n",
       "    </tr>\n",
       "  </tbody>\n",
       "</table>\n",
       "</div>"
      ],
      "text/plain": [
       "          Profit   Count   |Profit|   |Count| \n",
       "home     3.860000    34.0   4.809999      29.0\n",
       "draw     9.889999    66.0   8.689999      64.0\n",
       "away   -15.279998    46.0 -10.309999      36.0\n",
       "no-bet   0.000000     0.0   0.000000      25.0"
      ]
     },
     "execution_count": 13,
     "metadata": {},
     "output_type": "execute_result"
    }
   ],
   "source": [
    "evaluate(bet_loss, y_train=d_train, y_test=d_test, normalize=True)"
   ]
  },
  {
   "cell_type": "markdown",
   "metadata": {},
   "source": [
    "That's still not very profitable :-(\n",
    "We also see that the probabilities with this cost function shift a lot towards high probability.\n",
    "This is most likely because of the linear nature of the cost function.\n",
    "\n",
    "### Decreasing the risk\n",
    "\n",
    "In our example, only 25 matches are not bet upon.\n",
    "Let's try to increase this by expecting more than 10% return on each bet.\n",
    "\n",
    "We accomplish this by increasing the `reward` for a bet not placed by 10%."
   ]
  },
  {
   "cell_type": "code",
   "execution_count": 14,
   "metadata": {},
   "outputs": [],
   "source": [
    "d_train['no-bet'] = 1.1\n",
    "d_test['no-bet'] = 1.1"
   ]
  },
  {
   "cell_type": "code",
   "execution_count": 15,
   "metadata": {},
   "outputs": [
    {
     "data": {
      "application/vnd.jupyter.widget-view+json": {
       "model_id": "975cc8c75d104d0ba5d185cd424f6aef",
       "version_major": 2,
       "version_minor": 0
      },
      "text/plain": [
       "HBox(children=(IntProgress(value=0, description='Training', max=200, style=ProgressStyle(description_width='in…"
      ]
     },
     "metadata": {},
     "output_type": "display_data"
    },
    {
     "name": "stdout",
     "output_type": "stream",
     "text": [
      "\n"
     ]
    },
    {
     "data": {
      "text/html": [
       "<div>\n",
       "<style scoped>\n",
       "    .dataframe tbody tr th:only-of-type {\n",
       "        vertical-align: middle;\n",
       "    }\n",
       "\n",
       "    .dataframe tbody tr th {\n",
       "        vertical-align: top;\n",
       "    }\n",
       "\n",
       "    .dataframe thead th {\n",
       "        text-align: right;\n",
       "    }\n",
       "</style>\n",
       "<table border=\"1\" class=\"dataframe\">\n",
       "  <thead>\n",
       "    <tr style=\"text-align: right;\">\n",
       "      <th></th>\n",
       "      <th>Profit</th>\n",
       "      <th>Count</th>\n",
       "      <th>|Profit|</th>\n",
       "      <th>|Count|</th>\n",
       "    </tr>\n",
       "  </thead>\n",
       "  <tbody>\n",
       "    <tr>\n",
       "      <th>home</th>\n",
       "      <td>-4.770000</td>\n",
       "      <td>23.0</td>\n",
       "      <td>0.140000</td>\n",
       "      <td>14.0</td>\n",
       "    </tr>\n",
       "    <tr>\n",
       "      <th>draw</th>\n",
       "      <td>0.540000</td>\n",
       "      <td>16.0</td>\n",
       "      <td>4.150000</td>\n",
       "      <td>9.0</td>\n",
       "    </tr>\n",
       "    <tr>\n",
       "      <th>away</th>\n",
       "      <td>0.000000</td>\n",
       "      <td>0.0</td>\n",
       "      <td>0.000000</td>\n",
       "      <td>0.0</td>\n",
       "    </tr>\n",
       "    <tr>\n",
       "      <th>no-bet</th>\n",
       "      <td>10.900005</td>\n",
       "      <td>109.0</td>\n",
       "      <td>11.400007</td>\n",
       "      <td>114.0</td>\n",
       "    </tr>\n",
       "  </tbody>\n",
       "</table>\n",
       "</div>"
      ],
      "text/plain": [
       "          Profit   Count   |Profit|   |Count| \n",
       "home    -4.770000    23.0   0.140000      14.0\n",
       "draw     0.540000    16.0   4.150000       9.0\n",
       "away     0.000000     0.0   0.000000       0.0\n",
       "no-bet  10.900005   109.0  11.400007     114.0"
      ]
     },
     "execution_count": 15,
     "metadata": {},
     "output_type": "execute_result"
    }
   ],
   "source": [
    "evaluate(bet_loss, y_train=d_train, y_test=d_test)"
   ]
  },
  {
   "cell_type": "markdown",
   "metadata": {},
   "source": [
    "This seems to work for the absolute profits :-) \n",
    "    \n",
    "Let's see if this is stable by adding a normalization layer."
   ]
  },
  {
   "cell_type": "code",
   "execution_count": 16,
   "metadata": {},
   "outputs": [
    {
     "data": {
      "application/vnd.jupyter.widget-view+json": {
       "model_id": "80024e758886469d929c2527be0cedb0",
       "version_major": 2,
       "version_minor": 0
      },
      "text/plain": [
       "HBox(children=(IntProgress(value=0, description='Training', max=200, style=ProgressStyle(description_width='in…"
      ]
     },
     "metadata": {},
     "output_type": "display_data"
    },
    {
     "name": "stdout",
     "output_type": "stream",
     "text": [
      "\n"
     ]
    },
    {
     "data": {
      "text/html": [
       "<div>\n",
       "<style scoped>\n",
       "    .dataframe tbody tr th:only-of-type {\n",
       "        vertical-align: middle;\n",
       "    }\n",
       "\n",
       "    .dataframe tbody tr th {\n",
       "        vertical-align: top;\n",
       "    }\n",
       "\n",
       "    .dataframe thead th {\n",
       "        text-align: right;\n",
       "    }\n",
       "</style>\n",
       "<table border=\"1\" class=\"dataframe\">\n",
       "  <thead>\n",
       "    <tr style=\"text-align: right;\">\n",
       "      <th></th>\n",
       "      <th>Profit</th>\n",
       "      <th>Count</th>\n",
       "      <th>|Profit|</th>\n",
       "      <th>|Count|</th>\n",
       "    </tr>\n",
       "  </thead>\n",
       "  <tbody>\n",
       "    <tr>\n",
       "      <th>home</th>\n",
       "      <td>3.250000</td>\n",
       "      <td>13.0</td>\n",
       "      <td>-6.000000</td>\n",
       "      <td>6.0</td>\n",
       "    </tr>\n",
       "    <tr>\n",
       "      <th>draw</th>\n",
       "      <td>2.140000</td>\n",
       "      <td>18.0</td>\n",
       "      <td>-0.450000</td>\n",
       "      <td>14.0</td>\n",
       "    </tr>\n",
       "    <tr>\n",
       "      <th>away</th>\n",
       "      <td>-2.630000</td>\n",
       "      <td>10.0</td>\n",
       "      <td>-1.930000</td>\n",
       "      <td>8.0</td>\n",
       "    </tr>\n",
       "    <tr>\n",
       "      <th>no-bet</th>\n",
       "      <td>12.300011</td>\n",
       "      <td>123.0</td>\n",
       "      <td>12.600012</td>\n",
       "      <td>126.0</td>\n",
       "    </tr>\n",
       "  </tbody>\n",
       "</table>\n",
       "</div>"
      ],
      "text/plain": [
       "          Profit   Count   |Profit|   |Count| \n",
       "home     3.250000    13.0  -6.000000       6.0\n",
       "draw     2.140000    18.0  -0.450000      14.0\n",
       "away    -2.630000    10.0  -1.930000       8.0\n",
       "no-bet  12.300011   123.0  12.600012     126.0"
      ]
     },
     "execution_count": 16,
     "metadata": {},
     "output_type": "execute_result"
    }
   ],
   "source": [
    "evaluate(bet_loss, y_train=d_train, y_test=d_test, normalize=True)"
   ]
  },
  {
   "cell_type": "markdown",
   "metadata": {},
   "source": [
    "With the normalization layer, we can switch back to relative probabilities (or is this just coincidence).\n",
    "\n",
    "The only way to find out, is to repeat our experiments with cross validation.\n",
    "\n",
    "# Cross validation"
   ]
  },
  {
   "cell_type": "code",
   "execution_count": 19,
   "metadata": {},
   "outputs": [],
   "source": [
    "from sklearn.model_selection import KFold\n",
    "kfold = KFold(n_splits=20, random_state=42)\n",
    "\n",
    "from IPython.display import clear_output\n",
    "\n",
    "def cross_validate(epochs=200, loss=bet_loss, risk=1, batch_size=500, output_classes=3, \n",
    "                   normalize=False, verbose=False, hidden_layer=[10], drop_odds=False):\n",
    "    results = []\n",
    "    models = []\n",
    "    predictions = []\n",
    "    odds = []\n",
    "\n",
    "    for i, (trainidx, valididx) in enumerate(kfold.split(df)):\n",
    "        train = df.iloc[trainidx]\n",
    "        test = df.iloc[valididx]\n",
    "        train_features = train.drop(columns=['result', 'date'])\n",
    "        train_labels = train.result.copy()\n",
    "        test_features = test.drop(columns=['result', 'date'])\n",
    "        test_labels = test.result.copy()\n",
    "        scaler = StandardScaler()\n",
    "\n",
    "        if drop_odds:\n",
    "            trf = train_features.drop(columns=['odds-home','odds-draw','odds-away'])\n",
    "            tef = test_features.drop(columns=['odds-home','odds-draw','odds-away'])\n",
    "\n",
    "            X_train = scaler.fit_transform(trf.astype(float))\n",
    "            X_test = scaler.transform(tef.astype(float))\n",
    "        else:\n",
    "            X_train = scaler.fit_transform(train_features.astype(float))\n",
    "            X_test = scaler.transform(test_features.astype(float))\n",
    "        \n",
    "        encoder = LabelEncoder()\n",
    "        Y_train = -encoder.fit_transform(train_labels) +2\n",
    "        Y_test = -encoder.transform(test_labels) +2\n",
    "        y_train = np_utils.to_categorical(Y_train)\n",
    "        y_test = np_utils.to_categorical(Y_test)    \n",
    "        odds_train = train_features[['odds-home','odds-draw','odds-away']]\n",
    "        odds_test = test_features[['odds-home','odds-draw','odds-away']]\n",
    "\n",
    "        c_train = odds_train * (2 * y_train - 1)\n",
    "        c_test = odds_test * (2 * y_test - 1)\n",
    "        if output_classes == 4:\n",
    "            c_train['no-bet'] = risk\n",
    "            c_test['no-bet'] = risk\n",
    "\n",
    "        model = common.construct_model(input_classes = X_train.shape[1], loss=loss, \n",
    "                                       hidden_layer = hidden_layer,\n",
    "                                        output_classes=output_classes, metrics=['accuracy'] + common.bet_metrics(),\n",
    "                                        normalize=normalize)\n",
    "\n",
    "        _ = model.fit(X_train, c_train,\n",
    "              epochs=epochs,\n",
    "              batch_size=batch_size, verbose=0,\n",
    "              validation_data = [X_test, c_test],\n",
    "              callbacks=[keras.callbacks.TensorBoard(log_dir='./logs/fold_%02d' % i, write_graph=True), \n",
    "                         TQDMNotebookCallback(show_inner=False)]\n",
    "         )    \n",
    "\n",
    "        cm = common.performance(model, X_test, c_test)\n",
    "        results.append(cm)\n",
    "        models.append(model)\n",
    "        \n",
    "        predictions.append(model.predict(X_test))\n",
    "        odds.append(c_test)\n",
    "\n",
    "        if verbose:\n",
    "            display(cm)\n",
    "        else:\n",
    "            clear_output()\n",
    "        \n",
    "    return results, (models, predictions, odds)"
   ]
  },
  {
   "cell_type": "markdown",
   "metadata": {},
   "source": [
    "## Categorical loss\n",
    "\n",
    "Let's first set a reference using categorical loss function"
   ]
  },
  {
   "cell_type": "code",
   "execution_count": 20,
   "metadata": {},
   "outputs": [],
   "source": [
    "results, models = cross_validate(loss=cat_loss)"
   ]
  },
  {
   "cell_type": "code",
   "execution_count": 21,
   "metadata": {},
   "outputs": [
    {
     "data": {
      "text/html": [
       "<div>\n",
       "<style scoped>\n",
       "    .dataframe tbody tr th:only-of-type {\n",
       "        vertical-align: middle;\n",
       "    }\n",
       "\n",
       "    .dataframe tbody tr th {\n",
       "        vertical-align: top;\n",
       "    }\n",
       "\n",
       "    .dataframe thead th {\n",
       "        text-align: right;\n",
       "    }\n",
       "</style>\n",
       "<table border=\"1\" class=\"dataframe\">\n",
       "  <thead>\n",
       "    <tr style=\"text-align: right;\">\n",
       "      <th></th>\n",
       "      <th>Profit</th>\n",
       "      <th>Count</th>\n",
       "      <th>|Profit|</th>\n",
       "      <th>|Count|</th>\n",
       "    </tr>\n",
       "  </thead>\n",
       "  <tbody>\n",
       "    <tr>\n",
       "      <th>home</th>\n",
       "      <td>14.639999</td>\n",
       "      <td>269.0</td>\n",
       "      <td>2.02</td>\n",
       "      <td>32.0</td>\n",
       "    </tr>\n",
       "    <tr>\n",
       "      <th>draw</th>\n",
       "      <td>23.100000</td>\n",
       "      <td>96.0</td>\n",
       "      <td>0.00</td>\n",
       "      <td>0.0</td>\n",
       "    </tr>\n",
       "    <tr>\n",
       "      <th>away</th>\n",
       "      <td>15.290000</td>\n",
       "      <td>85.0</td>\n",
       "      <td>-1.81</td>\n",
       "      <td>8.0</td>\n",
       "    </tr>\n",
       "  </tbody>\n",
       "</table>\n",
       "</div>"
      ],
      "text/plain": [
       "        Profit   Count   |Profit|   |Count| \n",
       "home  14.639999   269.0       2.02      32.0\n",
       "draw  23.100000    96.0       0.00       0.0\n",
       "away  15.290000    85.0      -1.81       8.0"
      ]
     },
     "execution_count": 21,
     "metadata": {},
     "output_type": "execute_result"
    }
   ],
   "source": [
    "result = pd.concat({n: df for n, df in enumerate(results)},axis=0)\n",
    "result.sum(level=1)"
   ]
  },
  {
   "cell_type": "markdown",
   "metadata": {},
   "source": [
    "### Decreased batch size"
   ]
  },
  {
   "cell_type": "code",
   "execution_count": 22,
   "metadata": {},
   "outputs": [],
   "source": [
    "results, models = cross_validate(loss=cat_loss, batch_size=50)"
   ]
  },
  {
   "cell_type": "code",
   "execution_count": 21,
   "metadata": {},
   "outputs": [
    {
     "data": {
      "text/html": [
       "<div>\n",
       "<style scoped>\n",
       "    .dataframe tbody tr th:only-of-type {\n",
       "        vertical-align: middle;\n",
       "    }\n",
       "\n",
       "    .dataframe tbody tr th {\n",
       "        vertical-align: top;\n",
       "    }\n",
       "\n",
       "    .dataframe thead th {\n",
       "        text-align: right;\n",
       "    }\n",
       "</style>\n",
       "<table border=\"1\" class=\"dataframe\">\n",
       "  <thead>\n",
       "    <tr style=\"text-align: right;\">\n",
       "      <th></th>\n",
       "      <th>Profit</th>\n",
       "      <th>Count</th>\n",
       "      <th>|Profit|</th>\n",
       "      <th>|Count|</th>\n",
       "    </tr>\n",
       "  </thead>\n",
       "  <tbody>\n",
       "    <tr>\n",
       "      <th>home</th>\n",
       "      <td>22.930000</td>\n",
       "      <td>279.0</td>\n",
       "      <td>1.99</td>\n",
       "      <td>32.0</td>\n",
       "    </tr>\n",
       "    <tr>\n",
       "      <th>draw</th>\n",
       "      <td>8.649999</td>\n",
       "      <td>104.0</td>\n",
       "      <td>0.00</td>\n",
       "      <td>0.0</td>\n",
       "    </tr>\n",
       "    <tr>\n",
       "      <th>away</th>\n",
       "      <td>6.400001</td>\n",
       "      <td>83.0</td>\n",
       "      <td>-1.03</td>\n",
       "      <td>6.0</td>\n",
       "    </tr>\n",
       "  </tbody>\n",
       "</table>\n",
       "</div>"
      ],
      "text/plain": [
       "        Profit   Count   |Profit|   |Count| \n",
       "home  22.930000   279.0       1.99      32.0\n",
       "draw   8.649999   104.0       0.00       0.0\n",
       "away   6.400001    83.0      -1.03       6.0"
      ]
     },
     "execution_count": 21,
     "metadata": {},
     "output_type": "execute_result"
    }
   ],
   "source": [
    "result = pd.concat({n: df for n, df in enumerate(results)},axis=0)\n",
    "result.sum(level=1)"
   ]
  },
  {
   "cell_type": "markdown",
   "metadata": {},
   "source": [
    "That's a pretty decent profit. While we are using a comparable model to the revampled notebook, it seems that less epochs results in less overfitting for this particular problem. I would still not bet my money on this.\n",
    "\n",
    "## Custom loss function\n",
    "\n",
    "Let's check if we can get similar profits with the loss functions designed to optimize the profit."
   ]
  },
  {
   "cell_type": "code",
   "execution_count": 23,
   "metadata": {},
   "outputs": [],
   "source": [
    "results, models = cross_validate(loss=bet_loss)"
   ]
  },
  {
   "cell_type": "code",
   "execution_count": 23,
   "metadata": {},
   "outputs": [
    {
     "data": {
      "text/html": [
       "<div>\n",
       "<style scoped>\n",
       "    .dataframe tbody tr th:only-of-type {\n",
       "        vertical-align: middle;\n",
       "    }\n",
       "\n",
       "    .dataframe tbody tr th {\n",
       "        vertical-align: top;\n",
       "    }\n",
       "\n",
       "    .dataframe thead th {\n",
       "        text-align: right;\n",
       "    }\n",
       "</style>\n",
       "<table border=\"1\" class=\"dataframe\">\n",
       "  <thead>\n",
       "    <tr style=\"text-align: right;\">\n",
       "      <th></th>\n",
       "      <th>Profit</th>\n",
       "      <th>Count</th>\n",
       "      <th>|Profit|</th>\n",
       "      <th>|Count|</th>\n",
       "    </tr>\n",
       "  </thead>\n",
       "  <tbody>\n",
       "    <tr>\n",
       "      <th>home</th>\n",
       "      <td>-74.080002</td>\n",
       "      <td>1055.0</td>\n",
       "      <td>-48.899998</td>\n",
       "      <td>879.0</td>\n",
       "    </tr>\n",
       "    <tr>\n",
       "      <th>draw</th>\n",
       "      <td>-114.820000</td>\n",
       "      <td>1658.0</td>\n",
       "      <td>-100.480003</td>\n",
       "      <td>1390.0</td>\n",
       "    </tr>\n",
       "    <tr>\n",
       "      <th>away</th>\n",
       "      <td>-149.839996</td>\n",
       "      <td>831.0</td>\n",
       "      <td>-111.849998</td>\n",
       "      <td>657.0</td>\n",
       "    </tr>\n",
       "  </tbody>\n",
       "</table>\n",
       "</div>"
      ],
      "text/plain": [
       "         Profit   Count    |Profit|   |Count| \n",
       "home  -74.080002  1055.0  -48.899998     879.0\n",
       "draw -114.820000  1658.0 -100.480003    1390.0\n",
       "away -149.839996   831.0 -111.849998     657.0"
      ]
     },
     "execution_count": 23,
     "metadata": {},
     "output_type": "execute_result"
    }
   ],
   "source": [
    "result = pd.concat({n: df for n, df in enumerate(results)},axis=0)\n",
    "result.sum(level=1)"
   ]
  },
  {
   "cell_type": "code",
   "execution_count": 24,
   "metadata": {},
   "outputs": [],
   "source": [
    "results, models = cross_validate(loss=bet_loss, output_classes=4)"
   ]
  },
  {
   "cell_type": "code",
   "execution_count": 25,
   "metadata": {},
   "outputs": [
    {
     "data": {
      "text/html": [
       "<div>\n",
       "<style scoped>\n",
       "    .dataframe tbody tr th:only-of-type {\n",
       "        vertical-align: middle;\n",
       "    }\n",
       "\n",
       "    .dataframe tbody tr th {\n",
       "        vertical-align: top;\n",
       "    }\n",
       "\n",
       "    .dataframe thead th {\n",
       "        text-align: right;\n",
       "    }\n",
       "</style>\n",
       "<table border=\"1\" class=\"dataframe\">\n",
       "  <thead>\n",
       "    <tr style=\"text-align: right;\">\n",
       "      <th></th>\n",
       "      <th>Profit</th>\n",
       "      <th>Count</th>\n",
       "      <th>|Profit|</th>\n",
       "      <th>|Count|</th>\n",
       "    </tr>\n",
       "  </thead>\n",
       "  <tbody>\n",
       "    <tr>\n",
       "      <th>home</th>\n",
       "      <td>-46.450005</td>\n",
       "      <td>864.0</td>\n",
       "      <td>-25.850002</td>\n",
       "      <td>702.0</td>\n",
       "    </tr>\n",
       "    <tr>\n",
       "      <th>draw</th>\n",
       "      <td>-75.750000</td>\n",
       "      <td>1118.0</td>\n",
       "      <td>-23.230003</td>\n",
       "      <td>831.0</td>\n",
       "    </tr>\n",
       "    <tr>\n",
       "      <th>away</th>\n",
       "      <td>-104.969994</td>\n",
       "      <td>504.0</td>\n",
       "      <td>-63.120003</td>\n",
       "      <td>283.0</td>\n",
       "    </tr>\n",
       "    <tr>\n",
       "      <th>no-bet</th>\n",
       "      <td>0.000000</td>\n",
       "      <td>0.0</td>\n",
       "      <td>0.000000</td>\n",
       "      <td>843.0</td>\n",
       "    </tr>\n",
       "  </tbody>\n",
       "</table>\n",
       "</div>"
      ],
      "text/plain": [
       "           Profit   Count   |Profit|   |Count| \n",
       "home    -46.450005   864.0 -25.850002     702.0\n",
       "draw    -75.750000  1118.0 -23.230003     831.0\n",
       "away   -104.969994   504.0 -63.120003     283.0\n",
       "no-bet    0.000000     0.0   0.000000     843.0"
      ]
     },
     "execution_count": 25,
     "metadata": {},
     "output_type": "execute_result"
    }
   ],
   "source": [
    "result = pd.concat({n: df for n, df in enumerate(results)},axis=0)\n",
    "result.sum(level=1)"
   ]
  },
  {
   "cell_type": "code",
   "execution_count": 35,
   "metadata": {},
   "outputs": [],
   "source": [
    "results, models = cross_validate(loss=odds_loss, output_classes=4)"
   ]
  },
  {
   "cell_type": "code",
   "execution_count": 36,
   "metadata": {},
   "outputs": [
    {
     "data": {
      "text/html": [
       "<div>\n",
       "<style scoped>\n",
       "    .dataframe tbody tr th:only-of-type {\n",
       "        vertical-align: middle;\n",
       "    }\n",
       "\n",
       "    .dataframe tbody tr th {\n",
       "        vertical-align: top;\n",
       "    }\n",
       "\n",
       "    .dataframe thead th {\n",
       "        text-align: right;\n",
       "    }\n",
       "</style>\n",
       "<table border=\"1\" class=\"dataframe\">\n",
       "  <thead>\n",
       "    <tr style=\"text-align: right;\">\n",
       "      <th></th>\n",
       "      <th>Profit</th>\n",
       "      <th>Count</th>\n",
       "      <th>|Profit|</th>\n",
       "      <th>|Count|</th>\n",
       "    </tr>\n",
       "  </thead>\n",
       "  <tbody>\n",
       "    <tr>\n",
       "      <th>home</th>\n",
       "      <td>-48.350006</td>\n",
       "      <td>863.0</td>\n",
       "      <td>-25.850002</td>\n",
       "      <td>702.0</td>\n",
       "    </tr>\n",
       "    <tr>\n",
       "      <th>draw</th>\n",
       "      <td>-74.750000</td>\n",
       "      <td>1117.0</td>\n",
       "      <td>-23.230003</td>\n",
       "      <td>831.0</td>\n",
       "    </tr>\n",
       "    <tr>\n",
       "      <th>away</th>\n",
       "      <td>-104.969994</td>\n",
       "      <td>504.0</td>\n",
       "      <td>-62.120003</td>\n",
       "      <td>282.0</td>\n",
       "    </tr>\n",
       "    <tr>\n",
       "      <th>no-bet</th>\n",
       "      <td>0.000000</td>\n",
       "      <td>0.0</td>\n",
       "      <td>0.000000</td>\n",
       "      <td>843.0</td>\n",
       "    </tr>\n",
       "  </tbody>\n",
       "</table>\n",
       "</div>"
      ],
      "text/plain": [
       "           Profit   Count   |Profit|   |Count| \n",
       "home    -48.350006   863.0 -25.850002     702.0\n",
       "draw    -74.750000  1117.0 -23.230003     831.0\n",
       "away   -104.969994   504.0 -62.120003     282.0\n",
       "no-bet    0.000000     0.0   0.000000     843.0"
      ]
     },
     "execution_count": 36,
     "metadata": {},
     "output_type": "execute_result"
    }
   ],
   "source": [
    "result = pd.concat({n: df for n, df in enumerate(results)},axis=0)\n",
    "result.sum(level=1)"
   ]
  },
  {
   "cell_type": "code",
   "execution_count": 26,
   "metadata": {},
   "outputs": [],
   "source": [
    "results, models = cross_validate(loss=bet_loss, output_classes=4, risk=1.1)"
   ]
  },
  {
   "cell_type": "code",
   "execution_count": 27,
   "metadata": {},
   "outputs": [
    {
     "data": {
      "text/html": [
       "<div>\n",
       "<style scoped>\n",
       "    .dataframe tbody tr th:only-of-type {\n",
       "        vertical-align: middle;\n",
       "    }\n",
       "\n",
       "    .dataframe tbody tr th {\n",
       "        vertical-align: top;\n",
       "    }\n",
       "\n",
       "    .dataframe thead th {\n",
       "        text-align: right;\n",
       "    }\n",
       "</style>\n",
       "<table border=\"1\" class=\"dataframe\">\n",
       "  <thead>\n",
       "    <tr style=\"text-align: right;\">\n",
       "      <th></th>\n",
       "      <th>Profit</th>\n",
       "      <th>Count</th>\n",
       "      <th>|Profit|</th>\n",
       "      <th>|Count|</th>\n",
       "    </tr>\n",
       "  </thead>\n",
       "  <tbody>\n",
       "    <tr>\n",
       "      <th>home</th>\n",
       "      <td>-36.940002</td>\n",
       "      <td>155.0</td>\n",
       "      <td>-23.460001</td>\n",
       "      <td>86.0</td>\n",
       "    </tr>\n",
       "    <tr>\n",
       "      <th>draw</th>\n",
       "      <td>-4.999999</td>\n",
       "      <td>383.0</td>\n",
       "      <td>-7.639998</td>\n",
       "      <td>198.0</td>\n",
       "    </tr>\n",
       "    <tr>\n",
       "      <th>away</th>\n",
       "      <td>-20.000000</td>\n",
       "      <td>20.0</td>\n",
       "      <td>-6.000000</td>\n",
       "      <td>6.0</td>\n",
       "    </tr>\n",
       "    <tr>\n",
       "      <th>no-bet</th>\n",
       "      <td>255.800247</td>\n",
       "      <td>2558.0</td>\n",
       "      <td>270.600311</td>\n",
       "      <td>2706.0</td>\n",
       "    </tr>\n",
       "  </tbody>\n",
       "</table>\n",
       "</div>"
      ],
      "text/plain": [
       "           Profit   Count    |Profit|   |Count| \n",
       "home    -36.940002   155.0  -23.460001      86.0\n",
       "draw     -4.999999   383.0   -7.639998     198.0\n",
       "away    -20.000000    20.0   -6.000000       6.0\n",
       "no-bet  255.800247  2558.0  270.600311    2706.0"
      ]
     },
     "execution_count": 27,
     "metadata": {},
     "output_type": "execute_result"
    }
   ],
   "source": [
    "result = pd.concat({n: df for n, df in enumerate(results)},axis=0)\n",
    "result.sum(level=1)"
   ]
  },
  {
   "cell_type": "code",
   "execution_count": 28,
   "metadata": {},
   "outputs": [],
   "source": [
    "results, models = cross_validate(loss=bet_loss, output_classes=4, risk=1.1, normalize=True)"
   ]
  },
  {
   "cell_type": "code",
   "execution_count": 29,
   "metadata": {},
   "outputs": [
    {
     "data": {
      "text/html": [
       "<div>\n",
       "<style scoped>\n",
       "    .dataframe tbody tr th:only-of-type {\n",
       "        vertical-align: middle;\n",
       "    }\n",
       "\n",
       "    .dataframe tbody tr th {\n",
       "        vertical-align: top;\n",
       "    }\n",
       "\n",
       "    .dataframe thead th {\n",
       "        text-align: right;\n",
       "    }\n",
       "</style>\n",
       "<table border=\"1\" class=\"dataframe\">\n",
       "  <thead>\n",
       "    <tr style=\"text-align: right;\">\n",
       "      <th></th>\n",
       "      <th>Profit</th>\n",
       "      <th>Count</th>\n",
       "      <th>|Profit|</th>\n",
       "      <th>|Count|</th>\n",
       "    </tr>\n",
       "  </thead>\n",
       "  <tbody>\n",
       "    <tr>\n",
       "      <th>home</th>\n",
       "      <td>-24.920000</td>\n",
       "      <td>275.0</td>\n",
       "      <td>-39.209999</td>\n",
       "      <td>179.0</td>\n",
       "    </tr>\n",
       "    <tr>\n",
       "      <th>draw</th>\n",
       "      <td>20.550001</td>\n",
       "      <td>298.0</td>\n",
       "      <td>16.570000</td>\n",
       "      <td>179.0</td>\n",
       "    </tr>\n",
       "    <tr>\n",
       "      <th>away</th>\n",
       "      <td>-0.330000</td>\n",
       "      <td>58.0</td>\n",
       "      <td>-3.230000</td>\n",
       "      <td>32.0</td>\n",
       "    </tr>\n",
       "    <tr>\n",
       "      <th>no-bet</th>\n",
       "      <td>261.600281</td>\n",
       "      <td>2616.0</td>\n",
       "      <td>268.600311</td>\n",
       "      <td>2686.0</td>\n",
       "    </tr>\n",
       "  </tbody>\n",
       "</table>\n",
       "</div>"
      ],
      "text/plain": [
       "           Profit   Count    |Profit|   |Count| \n",
       "home    -24.920000   275.0  -39.209999     179.0\n",
       "draw     20.550001   298.0   16.570000     179.0\n",
       "away     -0.330000    58.0   -3.230000      32.0\n",
       "no-bet  261.600281  2616.0  268.600311    2686.0"
      ]
     },
     "execution_count": 29,
     "metadata": {},
     "output_type": "execute_result"
    }
   ],
   "source": [
    "result = pd.concat({n: df for n, df in enumerate(results)},axis=0)\n",
    "result.sum(level=1)"
   ]
  },
  {
   "cell_type": "markdown",
   "metadata": {},
   "source": [
    "The `better` loss functions do not seem to generate more profit than our categorical model.\n",
    "\n",
    "# All leagues\n",
    "\n",
    "We need to verify if the simple model with the categorical crossentropy is able to generate profit,\n",
    "if we apply this across a set of all leagues."
   ]
  },
  {
   "cell_type": "code",
   "execution_count": 24,
   "metadata": {},
   "outputs": [],
   "source": [
    "df = pd.read_csv('all_processed.csv')"
   ]
  },
  {
   "cell_type": "code",
   "execution_count": 25,
   "metadata": {},
   "outputs": [],
   "source": [
    "all_results, all_models = cross_validate(loss=cat_loss)"
   ]
  },
  {
   "cell_type": "code",
   "execution_count": 39,
   "metadata": {},
   "outputs": [
    {
     "data": {
      "text/html": [
       "<div>\n",
       "<style scoped>\n",
       "    .dataframe tbody tr th:only-of-type {\n",
       "        vertical-align: middle;\n",
       "    }\n",
       "\n",
       "    .dataframe tbody tr th {\n",
       "        vertical-align: top;\n",
       "    }\n",
       "\n",
       "    .dataframe thead th {\n",
       "        text-align: right;\n",
       "    }\n",
       "</style>\n",
       "<table border=\"1\" class=\"dataframe\">\n",
       "  <thead>\n",
       "    <tr style=\"text-align: right;\">\n",
       "      <th></th>\n",
       "      <th>Profit</th>\n",
       "      <th>Count</th>\n",
       "      <th>|Profit|</th>\n",
       "      <th>|Count|</th>\n",
       "    </tr>\n",
       "  </thead>\n",
       "  <tbody>\n",
       "    <tr>\n",
       "      <th>home</th>\n",
       "      <td>-3.670002</td>\n",
       "      <td>247.0</td>\n",
       "      <td>-4.200000</td>\n",
       "      <td>332.0</td>\n",
       "    </tr>\n",
       "    <tr>\n",
       "      <th>draw</th>\n",
       "      <td>-3.000000</td>\n",
       "      <td>3.0</td>\n",
       "      <td>0.000000</td>\n",
       "      <td>0.0</td>\n",
       "    </tr>\n",
       "    <tr>\n",
       "      <th>away</th>\n",
       "      <td>-17.119999</td>\n",
       "      <td>185.0</td>\n",
       "      <td>1.229999</td>\n",
       "      <td>69.0</td>\n",
       "    </tr>\n",
       "  </tbody>\n",
       "</table>\n",
       "</div>"
      ],
      "text/plain": [
       "        Profit   Count   |Profit|   |Count| \n",
       "home  -3.670002   247.0  -4.200000     332.0\n",
       "draw  -3.000000     3.0   0.000000       0.0\n",
       "away -17.119999   185.0   1.229999      69.0"
      ]
     },
     "execution_count": 39,
     "metadata": {},
     "output_type": "execute_result"
    }
   ],
   "source": [
    "all_results = pd.concat({n: df for n, df in enumerate(all_results)},axis=0)\n",
    "all_results.sum(level=1)"
   ]
  },
  {
   "cell_type": "code",
   "execution_count": 40,
   "metadata": {},
   "outputs": [],
   "source": [
    "all_results, all_models = cross_validate(loss=cat_loss, normalize=True)"
   ]
  },
  {
   "cell_type": "code",
   "execution_count": 41,
   "metadata": {},
   "outputs": [
    {
     "data": {
      "text/html": [
       "<div>\n",
       "<style scoped>\n",
       "    .dataframe tbody tr th:only-of-type {\n",
       "        vertical-align: middle;\n",
       "    }\n",
       "\n",
       "    .dataframe tbody tr th {\n",
       "        vertical-align: top;\n",
       "    }\n",
       "\n",
       "    .dataframe thead th {\n",
       "        text-align: right;\n",
       "    }\n",
       "</style>\n",
       "<table border=\"1\" class=\"dataframe\">\n",
       "  <thead>\n",
       "    <tr style=\"text-align: right;\">\n",
       "      <th></th>\n",
       "      <th>Profit</th>\n",
       "      <th>Count</th>\n",
       "      <th>|Profit|</th>\n",
       "      <th>|Count|</th>\n",
       "    </tr>\n",
       "  </thead>\n",
       "  <tbody>\n",
       "    <tr>\n",
       "      <th>home</th>\n",
       "      <td>-44.609997</td>\n",
       "      <td>544.0</td>\n",
       "      <td>-3.78</td>\n",
       "      <td>366.0</td>\n",
       "    </tr>\n",
       "    <tr>\n",
       "      <th>draw</th>\n",
       "      <td>0.000000</td>\n",
       "      <td>0.0</td>\n",
       "      <td>0.00</td>\n",
       "      <td>0.0</td>\n",
       "    </tr>\n",
       "    <tr>\n",
       "      <th>away</th>\n",
       "      <td>-1.110000</td>\n",
       "      <td>201.0</td>\n",
       "      <td>0.60</td>\n",
       "      <td>59.0</td>\n",
       "    </tr>\n",
       "  </tbody>\n",
       "</table>\n",
       "</div>"
      ],
      "text/plain": [
       "        Profit   Count   |Profit|   |Count| \n",
       "home -44.609997   544.0      -3.78     366.0\n",
       "draw   0.000000     0.0       0.00       0.0\n",
       "away  -1.110000   201.0       0.60      59.0"
      ]
     },
     "execution_count": 41,
     "metadata": {},
     "output_type": "execute_result"
    }
   ],
   "source": [
    "all_results = pd.concat({n: df for n, df in enumerate(all_results)},axis=0)\n",
    "all_results.sum(level=1)"
   ]
  },
  {
   "cell_type": "code",
   "execution_count": 42,
   "metadata": {},
   "outputs": [],
   "source": [
    "all_results, all_models = cross_validate(loss=bet_loss, output_classes=4, risk=1, normalize=True)"
   ]
  },
  {
   "cell_type": "code",
   "execution_count": 43,
   "metadata": {},
   "outputs": [
    {
     "data": {
      "text/html": [
       "<div>\n",
       "<style scoped>\n",
       "    .dataframe tbody tr th:only-of-type {\n",
       "        vertical-align: middle;\n",
       "    }\n",
       "\n",
       "    .dataframe tbody tr th {\n",
       "        vertical-align: top;\n",
       "    }\n",
       "\n",
       "    .dataframe thead th {\n",
       "        text-align: right;\n",
       "    }\n",
       "</style>\n",
       "<table border=\"1\" class=\"dataframe\">\n",
       "  <thead>\n",
       "    <tr style=\"text-align: right;\">\n",
       "      <th></th>\n",
       "      <th>Profit</th>\n",
       "      <th>Count</th>\n",
       "      <th>|Profit|</th>\n",
       "      <th>|Count|</th>\n",
       "    </tr>\n",
       "  </thead>\n",
       "  <tbody>\n",
       "    <tr>\n",
       "      <th>home</th>\n",
       "      <td>-81.269974</td>\n",
       "      <td>3211.0</td>\n",
       "      <td>-49.930000</td>\n",
       "      <td>2436.0</td>\n",
       "    </tr>\n",
       "    <tr>\n",
       "      <th>draw</th>\n",
       "      <td>-86.070000</td>\n",
       "      <td>573.0</td>\n",
       "      <td>-21.199999</td>\n",
       "      <td>235.0</td>\n",
       "    </tr>\n",
       "    <tr>\n",
       "      <th>away</th>\n",
       "      <td>-4.679987</td>\n",
       "      <td>1059.0</td>\n",
       "      <td>50.099998</td>\n",
       "      <td>632.0</td>\n",
       "    </tr>\n",
       "    <tr>\n",
       "      <th>no-bet</th>\n",
       "      <td>0.000000</td>\n",
       "      <td>0.0</td>\n",
       "      <td>0.000000</td>\n",
       "      <td>11069.0</td>\n",
       "    </tr>\n",
       "  </tbody>\n",
       "</table>\n",
       "</div>"
      ],
      "text/plain": [
       "          Profit   Count   |Profit|   |Count| \n",
       "home   -81.269974  3211.0 -49.930000    2436.0\n",
       "draw   -86.070000   573.0 -21.199999     235.0\n",
       "away    -4.679987  1059.0  50.099998     632.0\n",
       "no-bet   0.000000     0.0   0.000000   11069.0"
      ]
     },
     "execution_count": 43,
     "metadata": {},
     "output_type": "execute_result"
    }
   ],
   "source": [
    "all_results = pd.concat({n: df for n, df in enumerate(all_results)},axis=0)\n",
    "all_results.sum(level=1)"
   ]
  },
  {
   "cell_type": "code",
   "execution_count": 44,
   "metadata": {},
   "outputs": [],
   "source": [
    "all_results, all_models = cross_validate(loss=odds_loss, output_classes=4, risk=1, normalize=True)"
   ]
  },
  {
   "cell_type": "code",
   "execution_count": 45,
   "metadata": {},
   "outputs": [
    {
     "data": {
      "text/html": [
       "<div>\n",
       "<style scoped>\n",
       "    .dataframe tbody tr th:only-of-type {\n",
       "        vertical-align: middle;\n",
       "    }\n",
       "\n",
       "    .dataframe tbody tr th {\n",
       "        vertical-align: top;\n",
       "    }\n",
       "\n",
       "    .dataframe thead th {\n",
       "        text-align: right;\n",
       "    }\n",
       "</style>\n",
       "<table border=\"1\" class=\"dataframe\">\n",
       "  <thead>\n",
       "    <tr style=\"text-align: right;\">\n",
       "      <th></th>\n",
       "      <th>Profit</th>\n",
       "      <th>Count</th>\n",
       "      <th>|Profit|</th>\n",
       "      <th>|Count|</th>\n",
       "    </tr>\n",
       "  </thead>\n",
       "  <tbody>\n",
       "    <tr>\n",
       "      <th>home</th>\n",
       "      <td>-70.750000</td>\n",
       "      <td>3289.0</td>\n",
       "      <td>-26.419987</td>\n",
       "      <td>2484.0</td>\n",
       "    </tr>\n",
       "    <tr>\n",
       "      <th>draw</th>\n",
       "      <td>-53.579998</td>\n",
       "      <td>566.0</td>\n",
       "      <td>-20.030001</td>\n",
       "      <td>220.0</td>\n",
       "    </tr>\n",
       "    <tr>\n",
       "      <th>away</th>\n",
       "      <td>-24.499992</td>\n",
       "      <td>1047.0</td>\n",
       "      <td>45.259998</td>\n",
       "      <td>621.0</td>\n",
       "    </tr>\n",
       "    <tr>\n",
       "      <th>no-bet</th>\n",
       "      <td>0.000000</td>\n",
       "      <td>0.0</td>\n",
       "      <td>0.000000</td>\n",
       "      <td>11021.0</td>\n",
       "    </tr>\n",
       "  </tbody>\n",
       "</table>\n",
       "</div>"
      ],
      "text/plain": [
       "          Profit   Count   |Profit|   |Count| \n",
       "home   -70.750000  3289.0 -26.419987    2484.0\n",
       "draw   -53.579998   566.0 -20.030001     220.0\n",
       "away   -24.499992  1047.0  45.259998     621.0\n",
       "no-bet   0.000000     0.0   0.000000   11021.0"
      ]
     },
     "execution_count": 45,
     "metadata": {},
     "output_type": "execute_result"
    }
   ],
   "source": [
    "all_results = pd.concat({n: df for n, df in enumerate(all_results)},axis=0)\n",
    "all_results.sum(level=1)"
   ]
  },
  {
   "cell_type": "code",
   "execution_count": 46,
   "metadata": {},
   "outputs": [],
   "source": [
    "all_results, all_models = cross_validate(loss=cat_loss, output_classes=3, epochs=1000, normalize=True, hidden_layer=[20,20])"
   ]
  },
  {
   "cell_type": "code",
   "execution_count": 47,
   "metadata": {},
   "outputs": [
    {
     "data": {
      "text/html": [
       "<div>\n",
       "<style scoped>\n",
       "    .dataframe tbody tr th:only-of-type {\n",
       "        vertical-align: middle;\n",
       "    }\n",
       "\n",
       "    .dataframe tbody tr th {\n",
       "        vertical-align: top;\n",
       "    }\n",
       "\n",
       "    .dataframe thead th {\n",
       "        text-align: right;\n",
       "    }\n",
       "</style>\n",
       "<table border=\"1\" class=\"dataframe\">\n",
       "  <thead>\n",
       "    <tr style=\"text-align: right;\">\n",
       "      <th></th>\n",
       "      <th>Profit</th>\n",
       "      <th>Count</th>\n",
       "      <th>|Profit|</th>\n",
       "      <th>|Count|</th>\n",
       "    </tr>\n",
       "  </thead>\n",
       "  <tbody>\n",
       "    <tr>\n",
       "      <th>home</th>\n",
       "      <td>-42.160000</td>\n",
       "      <td>561.0</td>\n",
       "      <td>-0.390000</td>\n",
       "      <td>293.0</td>\n",
       "    </tr>\n",
       "    <tr>\n",
       "      <th>draw</th>\n",
       "      <td>-4.500000</td>\n",
       "      <td>13.0</td>\n",
       "      <td>0.000000</td>\n",
       "      <td>0.0</td>\n",
       "    </tr>\n",
       "    <tr>\n",
       "      <th>away</th>\n",
       "      <td>6.210001</td>\n",
       "      <td>151.0</td>\n",
       "      <td>-0.730001</td>\n",
       "      <td>46.0</td>\n",
       "    </tr>\n",
       "  </tbody>\n",
       "</table>\n",
       "</div>"
      ],
      "text/plain": [
       "        Profit   Count   |Profit|   |Count| \n",
       "home -42.160000   561.0  -0.390000     293.0\n",
       "draw  -4.500000    13.0   0.000000       0.0\n",
       "away   6.210001   151.0  -0.730001      46.0"
      ]
     },
     "execution_count": 47,
     "metadata": {},
     "output_type": "execute_result"
    }
   ],
   "source": [
    "all_results = pd.concat({n: df for n, df in enumerate(all_results)},axis=0)\n",
    "all_results.sum(level=1)"
   ]
  },
  {
   "cell_type": "markdown",
   "metadata": {},
   "source": [
    "Maybe it's time to decide that it is not so simple to make some profit with sports betting.\n",
    "\n",
    "In another notebook, I will dive deeper into these loss functions and maybe it's also time to dive into hyperparameter optimization."
   ]
  }
 ],
 "metadata": {
  "kernelspec": {
   "display_name": "Python 3",
   "language": "python",
   "name": "python3"
  },
  "language_info": {
   "codemirror_mode": {
    "name": "ipython",
    "version": 3
   },
   "file_extension": ".py",
   "mimetype": "text/x-python",
   "name": "python",
   "nbconvert_exporter": "python",
   "pygments_lexer": "ipython3",
   "version": "3.6.7"
  }
 },
 "nbformat": 4,
 "nbformat_minor": 2
}
