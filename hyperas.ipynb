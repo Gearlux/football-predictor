{
 "cells": [
  {
   "cell_type": "markdown",
   "metadata": {},
   "source": [
    "# Hyperparameter with hyperas\n",
    "\n",
    "In the talos notebook, we have done some hyperparameter optimization via talos.\n",
    "\n",
    "I also wanted to investigate the use of other libraries and found hyperas.\n",
    "\n",
    "## Import stuff"
   ]
  },
  {
   "cell_type": "code",
   "execution_count": 50,
   "metadata": {},
   "outputs": [],
   "source": [
    "from __future__ import print_function\n",
    "\n",
    "import numpy as np\n",
    "import pandas as pd\n",
    "\n",
    "import ipynb.fs.defs.common as common\n",
    "\n",
    "from hyperopt import Trials, STATUS_OK, tpe\n",
    "from hyperas import optim\n",
    "from hyperas.distributions import choice, uniform"
   ]
  },
  {
   "cell_type": "markdown",
   "metadata": {},
   "source": [
    "Hyperas needs two functions, a data function and a model function.\n",
    "\n",
    "Since the data function can not use default arguments (it's parsed and stored in new python file),\n",
    "make sure you change the second csv argument while running the optimization.\n",
    "\n",
    "The default function arguments is only used while calling it from a notebook."
   ]
  },
  {
   "cell_type": "code",
   "execution_count": 1,
   "metadata": {},
   "outputs": [],
   "source": [
    "def data(fn='data/B1_processed.csv', drop_shots=False):\n",
    "    import pandas as pd\n",
    "    import ipynb.fs.defs.common as common\n",
    "\n",
    "    try:\n",
    "        df = pd.read_csv(fn)\n",
    "    except NameError:\n",
    "        df = pd.read_csv('data/B1_processed.csv')\n",
    "    df = df.set_index('date')\n",
    "    df.index = pd.to_datetime(df.index)\n",
    "    \n",
    "    if drop_shots:\n",
    "        df = df.drop(columns=['away-opposition-shots','away-opposition-shots-on-target','away-shots','away-shots-on-target',\n",
    "                              'home-opposition-shots','home-opposition-shots-on-target','home-shots','home-shots-on-target'])\n",
    "    \n",
    "    train = df[:'2017']\n",
    "    val = df['2018':]\n",
    "    \n",
    "    x_train, y_train = common.get_feables(train, as_odds=True, normalize=True)\n",
    "    x_val, y_val = common.get_feables(val, as_odds=True, normalize=True)\n",
    "\n",
    "    return x_train, y_train, x_val, y_val"
   ]
  },
  {
   "cell_type": "markdown",
   "metadata": {},
   "source": [
    "The model is defined like this. \n",
    "\n",
    "The parameter space is defined within the function. \n",
    "For now, we have used the same parameter space as in the talos experiment."
   ]
  },
  {
   "cell_type": "code",
   "execution_count": 3,
   "metadata": {},
   "outputs": [],
   "source": [
    "def bet_model(x_train, y_train, x_val, y_val):\n",
    "    from IPython.display import clear_output\n",
    "    from keras.models import Sequential\n",
    "    from keras.layers.core import Dense, Dropout, Activation\n",
    "    from keras.layers import BatchNormalization\n",
    "    from keras_tqdm import TQDMNotebookCallback\n",
    "    from keras import regularizers\n",
    "    import ipynb.fs.defs.common as common\n",
    "\n",
    "    # next we can build the model exactly like we would normally do it\n",
    "    model = Sequential()\n",
    "    model.add(Dense({{choice([10, 20, 30])}}, input_dim=x_train.shape[1],\n",
    "                    kernel_regularizer=regularizers.l1(0.001)))\n",
    "\n",
    "    normalize = {{choice([False, True])}}\n",
    "    \n",
    "    if normalize:\n",
    "        model.add(BatchNormalization())\n",
    "\n",
    "    nr_hidden_layers = {{choice([0, 1, 2])}}\n",
    "    \n",
    "    for i in range(nr_hidden_layers):\n",
    "        model.add(Dense({{choice([10, 20, 30])}},\n",
    "                        kernel_regularizer=regularizers.l1(0.001)))\n",
    "        if normalize:\n",
    "            model.add(BatchNormalization())\n",
    "\n",
    "    model.add(Dense(3, \n",
    "                    kernel_regularizer=regularizers.l1(0.001),\n",
    "                    activation = 'softmax'\n",
    "                   ))\n",
    "       \n",
    "    model.compile(loss='categorical_crossentropy', optimizer={{choice(['rmsprop', 'adam', 'sgd'])}})\n",
    "\n",
    "    model.fit(x_train, y_train.clip(0,1),\n",
    "              batch_size={{choice([64, 256, 512])}},\n",
    "              epochs={{choice([50, 100, 200])}},\n",
    "              verbose=0,\n",
    "              validation_data=(x_val, y_val.clip(0,1)),\n",
    "              callbacks=[TQDMNotebookCallback(show_inner=False)]\n",
    "             )\n",
    "       \n",
    "    clear_output()    \n",
    "    acc = model.evaluate(x_val, y_val.clip(0,1), verbose=0)\n",
    "    return {'loss': -acc, 'status': STATUS_OK, 'model': model}"
   ]
  },
  {
   "cell_type": "markdown",
   "metadata": {},
   "source": [
    "## Optimize"
   ]
  },
  {
   "cell_type": "code",
   "execution_count": 4,
   "metadata": {
    "scrolled": true
   },
   "outputs": [
    {
     "name": "stdout",
     "output_type": "stream",
     "text": [
      "100%|██████████████████████████████████████████████████████████████████████████████████████████████████| 5/5 [00:17<00:00,  4.16s/it, best loss: -1.2271560116818077]\n",
      "Evalutation of best performing model:\n",
      "171/171 [==============================] - ETA:  - 0s 41us/step\n",
      "-13.646820447598284\n"
     ]
    }
   ],
   "source": [
    "trials = Trials()\n",
    "best_run, best_model = optim.minimize(model=bet_model,\n",
    "                                      data=data,\n",
    "                                      algo=tpe.suggest,\n",
    "                                      max_evals=5,\n",
    "                                      trials=trials,\n",
    "                                     notebook_name=\"hyperas\")\n",
    "x_train, y_train, x_val, y_val = data()\n",
    "print(\"Evalutation of best performing model:\")\n",
    "print(best_model.evaluate(x_val, y_val))"
   ]
  },
  {
   "cell_type": "markdown",
   "metadata": {},
   "source": [
    "These are the indices of the best run."
   ]
  },
  {
   "cell_type": "code",
   "execution_count": 5,
   "metadata": {},
   "outputs": [
    {
     "data": {
      "text/plain": [
       "{'Dense': 2,\n",
       " 'Dense_1': 1,\n",
       " 'batch_size': 2,\n",
       " 'epochs': 0,\n",
       " 'normalize': 1,\n",
       " 'nr_hidden_layers': 2,\n",
       " 'optimizer': 0}"
      ]
     },
     "execution_count": 5,
     "metadata": {},
     "output_type": "execute_result"
    }
   ],
   "source": [
    "best_run"
   ]
  },
  {
   "cell_type": "markdown",
   "metadata": {},
   "source": [
    "### Evaluation"
   ]
  },
  {
   "cell_type": "code",
   "execution_count": 6,
   "metadata": {},
   "outputs": [],
   "source": [
    "def evaluate(model, x, y):\n",
    "    y_ = np.clip(y, 0, 1)\n",
    "    odds = np.abs(y)\n",
    "    r = (model.predict(x) > (1 / odds + 0.05))  * (odds * y_ - 1)\n",
    "    total = r.sum().sum()\n",
    "    cnt = (r != 0).sum().sum()\n",
    "    tdf = pd.Series([total, cnt, total/cnt], index=r.sum().index)\n",
    "    r_ = pd.concat([r.sum(), (r != 0).sum(), r.sum() / (r !=0).sum(), tdf],axis=1, ignore_index=True)\n",
    "    r_ .columns = ['Profit','Bets','Margins', 'Total']\n",
    "    return r_"
   ]
  },
  {
   "cell_type": "code",
   "execution_count": 7,
   "metadata": {},
   "outputs": [
    {
     "data": {
      "text/html": [
       "<div>\n",
       "<style scoped>\n",
       "    .dataframe tbody tr th:only-of-type {\n",
       "        vertical-align: middle;\n",
       "    }\n",
       "\n",
       "    .dataframe tbody tr th {\n",
       "        vertical-align: top;\n",
       "    }\n",
       "\n",
       "    .dataframe thead th {\n",
       "        text-align: right;\n",
       "    }\n",
       "</style>\n",
       "<table border=\"1\" class=\"dataframe\">\n",
       "  <thead>\n",
       "    <tr style=\"text-align: right;\">\n",
       "      <th></th>\n",
       "      <th>Profit</th>\n",
       "      <th>Bets</th>\n",
       "      <th>Margins</th>\n",
       "      <th>Total</th>\n",
       "    </tr>\n",
       "  </thead>\n",
       "  <tbody>\n",
       "    <tr>\n",
       "      <th>odds-home</th>\n",
       "      <td>8.15</td>\n",
       "      <td>393</td>\n",
       "      <td>0.020738</td>\n",
       "      <td>30.880000</td>\n",
       "    </tr>\n",
       "    <tr>\n",
       "      <th>odds-draw</th>\n",
       "      <td>18.39</td>\n",
       "      <td>284</td>\n",
       "      <td>0.064754</td>\n",
       "      <td>762.000000</td>\n",
       "    </tr>\n",
       "    <tr>\n",
       "      <th>odds-away</th>\n",
       "      <td>4.34</td>\n",
       "      <td>85</td>\n",
       "      <td>0.051059</td>\n",
       "      <td>0.040525</td>\n",
       "    </tr>\n",
       "  </tbody>\n",
       "</table>\n",
       "</div>"
      ],
      "text/plain": [
       "           Profit  Bets   Margins       Total\n",
       "odds-home    8.15   393  0.020738   30.880000\n",
       "odds-draw   18.39   284  0.064754  762.000000\n",
       "odds-away    4.34    85  0.051059    0.040525"
      ]
     },
     "execution_count": 7,
     "metadata": {},
     "output_type": "execute_result"
    }
   ],
   "source": [
    "evaluate(best_model, x_train, y_train)"
   ]
  },
  {
   "cell_type": "code",
   "execution_count": 8,
   "metadata": {},
   "outputs": [
    {
     "data": {
      "text/html": [
       "<div>\n",
       "<style scoped>\n",
       "    .dataframe tbody tr th:only-of-type {\n",
       "        vertical-align: middle;\n",
       "    }\n",
       "\n",
       "    .dataframe tbody tr th {\n",
       "        vertical-align: top;\n",
       "    }\n",
       "\n",
       "    .dataframe thead th {\n",
       "        text-align: right;\n",
       "    }\n",
       "</style>\n",
       "<table border=\"1\" class=\"dataframe\">\n",
       "  <thead>\n",
       "    <tr style=\"text-align: right;\">\n",
       "      <th></th>\n",
       "      <th>Profit</th>\n",
       "      <th>Bets</th>\n",
       "      <th>Margins</th>\n",
       "      <th>Total</th>\n",
       "    </tr>\n",
       "  </thead>\n",
       "  <tbody>\n",
       "    <tr>\n",
       "      <th>odds-home</th>\n",
       "      <td>-6.00</td>\n",
       "      <td>32</td>\n",
       "      <td>-0.187500</td>\n",
       "      <td>-6.610000</td>\n",
       "    </tr>\n",
       "    <tr>\n",
       "      <th>odds-draw</th>\n",
       "      <td>-0.61</td>\n",
       "      <td>26</td>\n",
       "      <td>-0.023462</td>\n",
       "      <td>58.000000</td>\n",
       "    </tr>\n",
       "    <tr>\n",
       "      <th>odds-away</th>\n",
       "      <td>0.00</td>\n",
       "      <td>0</td>\n",
       "      <td>NaN</td>\n",
       "      <td>-0.113966</td>\n",
       "    </tr>\n",
       "  </tbody>\n",
       "</table>\n",
       "</div>"
      ],
      "text/plain": [
       "           Profit  Bets   Margins      Total\n",
       "odds-home   -6.00    32 -0.187500  -6.610000\n",
       "odds-draw   -0.61    26 -0.023462  58.000000\n",
       "odds-away    0.00     0       NaN  -0.113966"
      ]
     },
     "execution_count": 8,
     "metadata": {},
     "output_type": "execute_result"
    }
   ],
   "source": [
    "evaluate(best_model, x_val, y_val)"
   ]
  },
  {
   "cell_type": "markdown",
   "metadata": {},
   "source": [
    "## Saving models\n",
    "\n",
    "Hyperas has no way to save models.\n",
    "\n",
    "The following function implements a function which is capable of deploying models.\n",
    "In this function, you will see that we check if a model is an instance of h5py.File.\n",
    "\n",
    "In future experiments, we have notices that keras does not clear the graph in tensorflow.\n",
    "If we call clear_session to clear the graph, the weights are missing.\n",
    "\n",
    "I have solved this problem by storing the keras model to a h5 file in memory during hyperparameter optimization."
   ]
  },
  {
   "cell_type": "code",
   "execution_count": 12,
   "metadata": {},
   "outputs": [],
   "source": [
    "def deploy_model(best, fn):\n",
    "    from keras import backend as K\n",
    "    import h5py\n",
    "    import json\n",
    "    with h5py.File(fn, 'w') as f:\n",
    "        models = best['result']['model']\n",
    "        if isinstance(models, list):\n",
    "            for i, m  in enumerate(models):\n",
    "                grp = f.create_group('model%02d' % i)\n",
    "                if isinstance(m, h5py.File):\n",
    "                    K.clear_session()    \n",
    "                    common.memory_2_model(m).save(grp)\n",
    "                else:\n",
    "                    m.save(grp)\n",
    "        else:\n",
    "            grp = f.create_group('model01')\n",
    "            if isinstance(m, h5py.File):\n",
    "                K.clear_session()    \n",
    "                common.memory_2_model(models).save(grp)\n",
    "            else:\n",
    "                models.save(grp)\n",
    "        c = best.copy()\n",
    "        c['result'] = c['result'].copy()\n",
    "        del c['result']['model']\n",
    "        c['book_time'] = c['book_time'].strftime('%Y-%M-%d %H:%M:%S')\n",
    "        c['refresh_time'] = c['refresh_time'].strftime('%Y-%M-%d %H:%M:%S')\n",
    "        s = json.dumps(c)\n",
    "        dt = h5py.special_dtype(vlen=bytes)\n",
    "        dset = f.create_dataset(\"hyperas\", (100,), dtype=dt)\n",
    "        dset.attrs['run'] = s"
   ]
  },
  {
   "cell_type": "code",
   "execution_count": 14,
   "metadata": {},
   "outputs": [],
   "source": [
    "deploy_model(best, 'bet_model_01.h5')"
   ]
  },
  {
   "cell_type": "markdown",
   "metadata": {},
   "source": [
    "## Optimizing profits\n",
    "\n",
    "There is no need in optimizing the prediction of which team wins,\n",
    "instead we need to optimize the profit"
   ]
  },
  {
   "cell_type": "code",
   "execution_count": 13,
   "metadata": {},
   "outputs": [],
   "source": [
    "from keras import backend as K\n",
    "K.clear_session()    "
   ]
  },
  {
   "cell_type": "code",
   "execution_count": 29,
   "metadata": {},
   "outputs": [],
   "source": [
    "def profit_model(x_train, y_train, x_val, y_val):\n",
    "    from IPython.display import clear_output\n",
    "    from keras.models import Sequential\n",
    "    from keras.layers.core import Dense, Dropout, Activation\n",
    "    from keras.layers import BatchNormalization\n",
    "    from keras_tqdm import TQDMNotebookCallback\n",
    "    from keras import regularizers\n",
    "    import ipynb.fs.defs.common as common\n",
    "\n",
    "    # next we can build the model exactly like we would normally do it\n",
    "    model = Sequential()\n",
    "    model.add(Dense({{choice([10, 20, 30])}}, input_dim=x_train.shape[1],\n",
    "                    kernel_regularizer=regularizers.l1(0.001)))\n",
    "\n",
    "    normalize = {{choice([False, True])}}\n",
    "    \n",
    "    if normalize:\n",
    "        model.add(BatchNormalization())\n",
    "\n",
    "    nr_hidden_layers = {{choice([0, 1, 2])}}\n",
    "    \n",
    "    for i in range(nr_hidden_layers):\n",
    "        model.add(Dense({{choice([10, 20, 30])}},\n",
    "                        kernel_regularizer=regularizers.l1(0.001)))\n",
    "        if normalize:\n",
    "            model.add(BatchNormalization())\n",
    "\n",
    "    model.add(Dense(3, \n",
    "                    kernel_regularizer=regularizers.l1(0.001),\n",
    "                    activation = 'softmax'\n",
    "                   ))\n",
    "       \n",
    "    model.compile(loss='categorical_crossentropy', optimizer={{choice(['rmsprop', 'adam', 'sgd'])}})\n",
    "\n",
    "    model.fit(x_train, y_train.clip(0,1),\n",
    "              batch_size={{choice([64, 256, 512])}},\n",
    "              epochs={{choice([50, 100, 200])}},\n",
    "              verbose=0,\n",
    "              validation_data=(x_val, y_val.clip(0,1)),\n",
    "              callbacks=[TQDMNotebookCallback(show_inner=False)]\n",
    "             )\n",
    "    \n",
    "    clear_output()\n",
    "    \n",
    "    y_pred = model.predict(x_val)\n",
    "    odds = np.abs(y_val)\n",
    "    profit = ( y_pred > (1 / odds + 0.05)) * (odds * y_val.clip(0,1) - 1)\n",
    "    acc = profit.sum().sum()\n",
    "    \n",
    "    print (acc)\n",
    "\n",
    "    return {'loss': -acc, 'status': STATUS_OK, 'model': model}"
   ]
  },
  {
   "cell_type": "code",
   "execution_count": 34,
   "metadata": {},
   "outputs": [
    {
     "name": "stdout",
     "output_type": "stream",
     "text": [
      "3.59                                                                                                                                                                 \n",
      "100%|██████████████████████████████████████████████████████████████████████████████████████████████████| 5/5 [00:23<00:00,  5.31s/it, best loss: -33.629999999999995]\n"
     ]
    }
   ],
   "source": [
    "profit_trials = Trials()\n",
    "profit_run, profitmodel = optim.minimize(model=profit_model,\n",
    "                                      data=data,\n",
    "                                      algo=tpe.suggest,\n",
    "                                      max_evals=5,\n",
    "                                      trials=profit_trials,\n",
    "                                     notebook_name=\"hyperas\")"
   ]
  },
  {
   "cell_type": "code",
   "execution_count": 35,
   "metadata": {},
   "outputs": [],
   "source": [
    "x_train, y_train, x_val, y_val = data()"
   ]
  },
  {
   "cell_type": "code",
   "execution_count": 36,
   "metadata": {},
   "outputs": [
    {
     "data": {
      "text/html": [
       "<div>\n",
       "<style scoped>\n",
       "    .dataframe tbody tr th:only-of-type {\n",
       "        vertical-align: middle;\n",
       "    }\n",
       "\n",
       "    .dataframe tbody tr th {\n",
       "        vertical-align: top;\n",
       "    }\n",
       "\n",
       "    .dataframe thead th {\n",
       "        text-align: right;\n",
       "    }\n",
       "</style>\n",
       "<table border=\"1\" class=\"dataframe\">\n",
       "  <thead>\n",
       "    <tr style=\"text-align: right;\">\n",
       "      <th></th>\n",
       "      <th>Profit</th>\n",
       "      <th>Bets</th>\n",
       "      <th>Margins</th>\n",
       "      <th>Total</th>\n",
       "    </tr>\n",
       "  </thead>\n",
       "  <tbody>\n",
       "    <tr>\n",
       "      <th>odds-home</th>\n",
       "      <td>8.84</td>\n",
       "      <td>14</td>\n",
       "      <td>0.631429</td>\n",
       "      <td>33.630000</td>\n",
       "    </tr>\n",
       "    <tr>\n",
       "      <th>odds-draw</th>\n",
       "      <td>6.79</td>\n",
       "      <td>30</td>\n",
       "      <td>0.226333</td>\n",
       "      <td>45.000000</td>\n",
       "    </tr>\n",
       "    <tr>\n",
       "      <th>odds-away</th>\n",
       "      <td>18.00</td>\n",
       "      <td>1</td>\n",
       "      <td>18.000000</td>\n",
       "      <td>0.747333</td>\n",
       "    </tr>\n",
       "  </tbody>\n",
       "</table>\n",
       "</div>"
      ],
      "text/plain": [
       "           Profit  Bets    Margins      Total\n",
       "odds-home    8.84    14   0.631429  33.630000\n",
       "odds-draw    6.79    30   0.226333  45.000000\n",
       "odds-away   18.00     1  18.000000   0.747333"
      ]
     },
     "execution_count": 36,
     "metadata": {},
     "output_type": "execute_result"
    }
   ],
   "source": [
    "evaluate(profitmodel, x_val, y_val)"
   ]
  },
  {
   "cell_type": "markdown",
   "metadata": {},
   "source": [
    "For some platforms, we see that the profit is not the same as the profit, returned by our model.\n",
    "So profitmodel here, is wrong.\n",
    "\n",
    "Let's select it from the trials"
   ]
  },
  {
   "cell_type": "code",
   "execution_count": 37,
   "metadata": {},
   "outputs": [],
   "source": [
    "def select_best_trial(trials):\n",
    "    import numpy as np\n",
    "    best_loss = np.inf\n",
    "    best_trial = None\n",
    "    for i, r in enumerate(trials):\n",
    "        if r['result']['loss'] < best_loss:\n",
    "            best_loss = r['result']['loss']\n",
    "            best_trial = r\n",
    "    return best_trial, best_loss"
   ]
  },
  {
   "cell_type": "code",
   "execution_count": 40,
   "metadata": {},
   "outputs": [],
   "source": [
    "best, metric = select_best_trial(profit_trials)"
   ]
  },
  {
   "cell_type": "code",
   "execution_count": 42,
   "metadata": {},
   "outputs": [
    {
     "data": {
      "text/html": [
       "<div>\n",
       "<style scoped>\n",
       "    .dataframe tbody tr th:only-of-type {\n",
       "        vertical-align: middle;\n",
       "    }\n",
       "\n",
       "    .dataframe tbody tr th {\n",
       "        vertical-align: top;\n",
       "    }\n",
       "\n",
       "    .dataframe thead th {\n",
       "        text-align: right;\n",
       "    }\n",
       "</style>\n",
       "<table border=\"1\" class=\"dataframe\">\n",
       "  <thead>\n",
       "    <tr style=\"text-align: right;\">\n",
       "      <th></th>\n",
       "      <th>Profit</th>\n",
       "      <th>Bets</th>\n",
       "      <th>Margins</th>\n",
       "      <th>Total</th>\n",
       "    </tr>\n",
       "  </thead>\n",
       "  <tbody>\n",
       "    <tr>\n",
       "      <th>odds-home</th>\n",
       "      <td>8.84</td>\n",
       "      <td>14</td>\n",
       "      <td>0.631429</td>\n",
       "      <td>33.630000</td>\n",
       "    </tr>\n",
       "    <tr>\n",
       "      <th>odds-draw</th>\n",
       "      <td>6.79</td>\n",
       "      <td>30</td>\n",
       "      <td>0.226333</td>\n",
       "      <td>45.000000</td>\n",
       "    </tr>\n",
       "    <tr>\n",
       "      <th>odds-away</th>\n",
       "      <td>18.00</td>\n",
       "      <td>1</td>\n",
       "      <td>18.000000</td>\n",
       "      <td>0.747333</td>\n",
       "    </tr>\n",
       "  </tbody>\n",
       "</table>\n",
       "</div>"
      ],
      "text/plain": [
       "           Profit  Bets    Margins      Total\n",
       "odds-home    8.84    14   0.631429  33.630000\n",
       "odds-draw    6.79    30   0.226333  45.000000\n",
       "odds-away   18.00     1  18.000000   0.747333"
      ]
     },
     "execution_count": 42,
     "metadata": {},
     "output_type": "execute_result"
    }
   ],
   "source": [
    "evaluate(best['result']['model'], x_val, y_val)"
   ]
  },
  {
   "cell_type": "code",
   "execution_count": 17,
   "metadata": {},
   "outputs": [],
   "source": [
    "deploy_model(best, 'profit_model_01.h5')"
   ]
  },
  {
   "cell_type": "markdown",
   "metadata": {},
   "source": [
    "# Optimizing cross profit\n",
    "\n",
    "But it is not fair to optimize something in the future."
   ]
  },
  {
   "cell_type": "code",
   "execution_count": 55,
   "metadata": {},
   "outputs": [],
   "source": [
    "def cross_profit_model(x_train, y_train, x_val, y_val):\n",
    "    from keras import backend as K\n",
    "\n",
    "    from IPython.display import clear_output\n",
    "    from keras.models import Sequential\n",
    "    from keras.layers.core import Dense, Dropout, Activation\n",
    "    from keras.layers import BatchNormalization\n",
    "    from keras_tqdm import TQDMNotebookCallback\n",
    "    from keras import regularizers\n",
    "    import ipynb.fs.defs.common as common\n",
    "    \n",
    "    from sklearn.model_selection import KFold\n",
    "    kfold = KFold(n_splits=3, random_state=42)\n",
    "\n",
    "    total_acc = 0\n",
    "    models = []\n",
    "    accs = []\n",
    "    \n",
    "    for i, (trainidx, testidx) in enumerate(list(kfold.split(x_train))):\n",
    "        K.clear_session()\n",
    "        \n",
    "        xx_train = x_train.iloc[trainidx]\n",
    "        x_test = x_train.iloc[testidx]\n",
    "        \n",
    "        yy_train = y_train.iloc[trainidx]\n",
    "        y_test = y_train.iloc[testidx]\n",
    "\n",
    "        # next we can build the model exactly like we would normally do it\n",
    "        model = Sequential()\n",
    "        model.add(Dense({{choice([10, 20, 30])}}, input_dim=x_train.shape[1],\n",
    "                        kernel_regularizer=regularizers.l1(0.001)))\n",
    "\n",
    "        normalize = {{choice([False, True])}}\n",
    "\n",
    "        if normalize:\n",
    "            model.add(BatchNormalization())\n",
    "\n",
    "        nr_hidden_layers = {{choice([0, 1, 2])}}\n",
    "\n",
    "        for i in range(nr_hidden_layers):\n",
    "            model.add(Dense({{choice([10, 20, 30])}},\n",
    "                            kernel_regularizer=regularizers.l1(0.001)))\n",
    "            if normalize:\n",
    "                model.add(BatchNormalization())\n",
    "\n",
    "        model.add(Dense(3, \n",
    "                        kernel_regularizer=regularizers.l1(0.001),\n",
    "                        activation = 'softmax'\n",
    "                       ))\n",
    "\n",
    "        model.compile(loss='categorical_crossentropy', optimizer={{choice(['rmsprop', 'adam', 'sgd'])}})\n",
    "\n",
    "        model.fit(xx_train, yy_train.clip(0,1),\n",
    "                  batch_size={{choice([64, 256, 512])}},\n",
    "                  epochs={{choice([50, 100, 200])}},\n",
    "                  verbose=0,\n",
    "                  validation_data=(x_test, y_test.clip(0,1)),\n",
    "                  callbacks=[TQDMNotebookCallback(show_inner=False)]\n",
    "                 )\n",
    "        \n",
    "        clear_output()    \n",
    "\n",
    "        models.append(common.model_2_memory(model))\n",
    "\n",
    "        y_pred = model.predict(x_test)\n",
    "        odds = np.abs(y_test)\n",
    "        profit = ( y_pred > (1 / odds + 0.05)) * (odds * y_test.clip(0,1) - 1)\n",
    "        acc = profit.sum().sum()\n",
    "        accs.append(acc)\n",
    "        \n",
    "        print ('acc: %5.2f' % acc, accs)\n",
    "        \n",
    "        total_acc += acc\n",
    "\n",
    "    return {'loss': -total_acc, 'status': STATUS_OK, 'model': models}"
   ]
  },
  {
   "cell_type": "code",
   "execution_count": 56,
   "metadata": {
    "scrolled": true
   },
   "outputs": [
    {
     "name": "stdout",
     "output_type": "stream",
     "text": [
      "acc: 11.03                                                                                                                                                           \n",
      "[-13.17, -12.32, 11.030000000000001]                                                                                                                                 \n",
      "100%|█████████████████████████████████████████████████████████████████████████████████████████████████| 50/50 [03:56<00:00,  5.49s/it, best loss: 0.5899999999999963]\n"
     ]
    }
   ],
   "source": [
    "cross_trials = Trials()\n",
    "best_run3, best_model3 = optim.minimize(model=cross_profit_model,\n",
    "                                      data=data,\n",
    "                                      algo=tpe.suggest,\n",
    "                                      max_evals=50,\n",
    "                                      trials=cross_trials,\n",
    "                                     notebook_name=\"hyperas\")"
   ]
  },
  {
   "cell_type": "code",
   "execution_count": 57,
   "metadata": {},
   "outputs": [],
   "source": [
    "x_train, y_train, x_val, y_val = data()"
   ]
  },
  {
   "cell_type": "code",
   "execution_count": 58,
   "metadata": {},
   "outputs": [],
   "source": [
    "best, loss = select_best_trial(cross_trials)"
   ]
  },
  {
   "cell_type": "code",
   "execution_count": 59,
   "metadata": {},
   "outputs": [
    {
     "data": {
      "text/html": [
       "<div>\n",
       "<style scoped>\n",
       "    .dataframe tbody tr th:only-of-type {\n",
       "        vertical-align: middle;\n",
       "    }\n",
       "\n",
       "    .dataframe tbody tr th {\n",
       "        vertical-align: top;\n",
       "    }\n",
       "\n",
       "    .dataframe thead th {\n",
       "        text-align: right;\n",
       "    }\n",
       "</style>\n",
       "<table border=\"1\" class=\"dataframe\">\n",
       "  <thead>\n",
       "    <tr style=\"text-align: right;\">\n",
       "      <th></th>\n",
       "      <th>Profit</th>\n",
       "      <th>Bets</th>\n",
       "      <th>Margins</th>\n",
       "      <th>Total</th>\n",
       "    </tr>\n",
       "  </thead>\n",
       "  <tbody>\n",
       "    <tr>\n",
       "      <th>odds-home</th>\n",
       "      <td>-3.28</td>\n",
       "      <td>41</td>\n",
       "      <td>-0.080000</td>\n",
       "      <td>-11.47000</td>\n",
       "    </tr>\n",
       "    <tr>\n",
       "      <th>odds-draw</th>\n",
       "      <td>0.61</td>\n",
       "      <td>21</td>\n",
       "      <td>0.029048</td>\n",
       "      <td>79.00000</td>\n",
       "    </tr>\n",
       "    <tr>\n",
       "      <th>odds-away</th>\n",
       "      <td>-8.80</td>\n",
       "      <td>17</td>\n",
       "      <td>-0.517647</td>\n",
       "      <td>-0.14519</td>\n",
       "    </tr>\n",
       "  </tbody>\n",
       "</table>\n",
       "</div>"
      ],
      "text/plain": [
       "           Profit  Bets   Margins     Total\n",
       "odds-home   -3.28    41 -0.080000 -11.47000\n",
       "odds-draw    0.61    21  0.029048  79.00000\n",
       "odds-away   -8.80    17 -0.517647  -0.14519"
      ]
     },
     "execution_count": 59,
     "metadata": {},
     "output_type": "execute_result"
    }
   ],
   "source": [
    "evaluate(common.memory_2_model(best['result']['model'][2]), x_val, y_val)"
   ]
  },
  {
   "cell_type": "code",
   "execution_count": 60,
   "metadata": {},
   "outputs": [],
   "source": [
    "deploy_model(best, 'cross_profit_model_B1_15.h5')"
   ]
  },
  {
   "cell_type": "markdown",
   "metadata": {},
   "source": [
    "## Restore the models"
   ]
  },
  {
   "cell_type": "code",
   "execution_count": 61,
   "metadata": {},
   "outputs": [],
   "source": [
    "def restore_model(fn):\n",
    "    import h5py\n",
    "    import json\n",
    "    import keras.models\n",
    "    \n",
    "    with h5py.File(fn, 'r') as f:\n",
    "        result = json.loads(f['hyperas'].attrs['run'])\n",
    "        models = []\n",
    "        for i in range(100):\n",
    "            name = 'model%02d' % i\n",
    "            if name in f.keys():\n",
    "                model = keras.models.load_model(f[name])\n",
    "                models.append(model)\n",
    "                pass\n",
    "            else:\n",
    "                break\n",
    "        result['result']['model'] = models\n",
    "\n",
    "    return result"
   ]
  },
  {
   "cell_type": "code",
   "execution_count": 166,
   "metadata": {},
   "outputs": [],
   "source": [
    "result = restore_model('cross_profit_model_B1_15.h5.h5')"
   ]
  }
 ],
 "metadata": {
  "kernelspec": {
   "display_name": "Python 3",
   "language": "python",
   "name": "python3"
  },
  "language_info": {
   "codemirror_mode": {
    "name": "ipython",
    "version": 3
   },
   "file_extension": ".py",
   "mimetype": "text/x-python",
   "name": "python",
   "nbconvert_exporter": "python",
   "pygments_lexer": "ipython3",
   "version": "3.6.5"
  }
 },
 "nbformat": 4,
 "nbformat_minor": 2
}
